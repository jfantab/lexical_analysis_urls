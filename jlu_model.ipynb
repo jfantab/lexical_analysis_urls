{
 "cells": [
  {
   "cell_type": "code",
   "execution_count": 112,
   "id": "be91922e-d159-4b14-9b3d-152024c8c2ca",
   "metadata": {},
   "outputs": [],
   "source": [
    "import math\n",
    "\n",
    "import numpy as np\n",
    "import pandas as pd\n",
    "import torch\n",
    "\n",
    "from transformers import AutoTokenizer, AutoModelForSequenceClassification, TrainingArguments, Trainer\n",
    "import evaluate\n",
    "from datasets import Dataset"
   ]
  },
  {
   "cell_type": "code",
   "execution_count": 113,
   "id": "d994ce34-0cdf-4038-a189-7db2297c03b0",
   "metadata": {},
   "outputs": [],
   "source": [
    "# import torch.cuda\n",
    "\n",
    "# device = \"cuda:0\" if torch.cuda.is_available() else \"cpu\"\n",
    "# device"
   ]
  },
  {
   "cell_type": "markdown",
   "id": "83181067-426d-41d1-829f-561984aade4f",
   "metadata": {},
   "source": [
    "## Reading in Data"
   ]
  },
  {
   "cell_type": "code",
   "execution_count": 114,
   "id": "9c9e8411-9110-4a64-a9bc-b3bdafcb9e33",
   "metadata": {},
   "outputs": [
    {
     "data": {
      "text/html": [
       "<div>\n",
       "<style scoped>\n",
       "    .dataframe tbody tr th:only-of-type {\n",
       "        vertical-align: middle;\n",
       "    }\n",
       "\n",
       "    .dataframe tbody tr th {\n",
       "        vertical-align: top;\n",
       "    }\n",
       "\n",
       "    .dataframe thead th {\n",
       "        text-align: right;\n",
       "    }\n",
       "</style>\n",
       "<table border=\"1\" class=\"dataframe\">\n",
       "  <thead>\n",
       "    <tr style=\"text-align: right;\">\n",
       "      <th></th>\n",
       "      <th>url</th>\n",
       "      <th>type</th>\n",
       "    </tr>\n",
       "  </thead>\n",
       "  <tbody>\n",
       "    <tr>\n",
       "      <th>0</th>\n",
       "      <td>br-icloud.com.br</td>\n",
       "      <td>phishing</td>\n",
       "    </tr>\n",
       "    <tr>\n",
       "      <th>1</th>\n",
       "      <td>mp3raid.com/music/krizz_kaliko.html</td>\n",
       "      <td>benign</td>\n",
       "    </tr>\n",
       "    <tr>\n",
       "      <th>2</th>\n",
       "      <td>bopsecrets.org/rexroth/cr/1.htm</td>\n",
       "      <td>benign</td>\n",
       "    </tr>\n",
       "    <tr>\n",
       "      <th>3</th>\n",
       "      <td>http://www.garage-pirenne.be/index.php?option=...</td>\n",
       "      <td>defacement</td>\n",
       "    </tr>\n",
       "    <tr>\n",
       "      <th>4</th>\n",
       "      <td>http://adventure-nicaragua.net/index.php?optio...</td>\n",
       "      <td>defacement</td>\n",
       "    </tr>\n",
       "  </tbody>\n",
       "</table>\n",
       "</div>"
      ],
      "text/plain": [
       "                                                 url        type\n",
       "0                                   br-icloud.com.br    phishing\n",
       "1                mp3raid.com/music/krizz_kaliko.html      benign\n",
       "2                    bopsecrets.org/rexroth/cr/1.htm      benign\n",
       "3  http://www.garage-pirenne.be/index.php?option=...  defacement\n",
       "4  http://adventure-nicaragua.net/index.php?optio...  defacement"
      ]
     },
     "execution_count": 114,
     "metadata": {},
     "output_type": "execute_result"
    }
   ],
   "source": [
    "original_df = pd.read_csv(\"malicious_phish.csv\")\n",
    "original_df.head()"
   ]
  },
  {
   "cell_type": "code",
   "execution_count": 115,
   "id": "4263d05c-1379-485e-8863-bda81ef035b6",
   "metadata": {},
   "outputs": [
    {
     "data": {
      "text/plain": [
       "651191"
      ]
     },
     "execution_count": 115,
     "metadata": {},
     "output_type": "execute_result"
    }
   ],
   "source": [
    "len(original_df)"
   ]
  },
  {
   "cell_type": "code",
   "execution_count": 116,
   "id": "3cc18c8d-b0fc-46a3-b98e-25fa006b3774",
   "metadata": {},
   "outputs": [
    {
     "data": {
      "text/plain": [
       "0                                     br-icloud.com.br\n",
       "1                  mp3raid.com/music/krizz_kaliko.html\n",
       "2                      bopsecrets.org/rexroth/cr/1.htm\n",
       "3    http://www.garage-pirenne.be/index.php?option=...\n",
       "4    http://adventure-nicaragua.net/index.php?optio...\n",
       "Name: url, dtype: object"
      ]
     },
     "execution_count": 116,
     "metadata": {},
     "output_type": "execute_result"
    }
   ],
   "source": [
    "original_df[\"url\"][:5]"
   ]
  },
  {
   "cell_type": "markdown",
   "id": "30e5ab89-9c78-4faa-ad39-48d7072d978a",
   "metadata": {},
   "source": [
    "## Sampling the Data"
   ]
  },
  {
   "cell_type": "code",
   "execution_count": 117,
   "id": "f50c6a6a-f6ab-4f95-837f-98d85a18e123",
   "metadata": {},
   "outputs": [],
   "source": [
    "# PERCENTAGE = 0.005\n",
    "# df = original_df.sample(frac=PERCENTAGE, replace=False, random_state=42)"
   ]
  },
  {
   "cell_type": "code",
   "execution_count": 118,
   "id": "c487e1a0-1dbb-4cc6-9272-164d6ca902b6",
   "metadata": {},
   "outputs": [],
   "source": [
    "NUM_SAMPLES = 1000\n",
    "df = original_df.sample(n=NUM_SAMPLES, replace=False, random_state=42)"
   ]
  },
  {
   "cell_type": "code",
   "execution_count": 119,
   "id": "466408ea-ecfe-4c67-97ac-832b222a5e55",
   "metadata": {},
   "outputs": [
    {
     "data": {
      "text/plain": [
       "(1000, 2)"
      ]
     },
     "execution_count": 119,
     "metadata": {},
     "output_type": "execute_result"
    }
   ],
   "source": [
    "df.shape"
   ]
  },
  {
   "cell_type": "markdown",
   "id": "c6dc34ed-7ff6-4467-a39a-88774dba6950",
   "metadata": {},
   "source": [
    "## BERT Setup"
   ]
  },
  {
   "cell_type": "code",
   "execution_count": 120,
   "id": "07a73c98-8cc9-4286-a1f1-9888dc30a18b",
   "metadata": {},
   "outputs": [],
   "source": [
    "MODEL = \"./bert-base-uncased/\""
   ]
  },
  {
   "cell_type": "code",
   "execution_count": 121,
   "id": "0905b84e-fb80-49df-8adf-62a840195234",
   "metadata": {},
   "outputs": [],
   "source": [
    "METRIC = \"accuracy\""
   ]
  },
  {
   "cell_type": "code",
   "execution_count": 122,
   "id": "49387c79-923e-4d73-bd17-034e4b893882",
   "metadata": {},
   "outputs": [],
   "source": [
    "tokenizer = AutoTokenizer.from_pretrained(MODEL)"
   ]
  },
  {
   "cell_type": "code",
   "execution_count": 123,
   "id": "72b1a5bc-3939-478f-a271-73e3778827c0",
   "metadata": {},
   "outputs": [
    {
     "name": "stderr",
     "output_type": "stream",
     "text": [
      "Some weights of BertForSequenceClassification were not initialized from the model checkpoint at ./bert-base-uncased/ and are newly initialized: ['classifier.bias', 'classifier.weight']\n",
      "You should probably TRAIN this model on a down-stream task to be able to use it for predictions and inference.\n"
     ]
    }
   ],
   "source": [
    "model = AutoModelForSequenceClassification.from_pretrained(MODEL, num_labels=4)"
   ]
  },
  {
   "cell_type": "markdown",
   "id": "829cbf63-c257-4ee5-b625-8dc008599530",
   "metadata": {},
   "source": [
    "## Loading Dataset"
   ]
  },
  {
   "cell_type": "code",
   "execution_count": 124,
   "id": "5f2dad19-55dc-4977-8cb6-6d07f7a2c7f3",
   "metadata": {},
   "outputs": [],
   "source": [
    "dataset = Dataset.from_pandas(df)"
   ]
  },
  {
   "cell_type": "code",
   "execution_count": 125,
   "id": "2f98265a-e5b6-43ea-9584-0f2fae4b6147",
   "metadata": {},
   "outputs": [],
   "source": [
    "dataset = dataset.remove_columns([\"__index_level_0__\"])"
   ]
  },
  {
   "cell_type": "code",
   "execution_count": 126,
   "id": "07e2db2b-d653-4317-a3d2-b39c40b40580",
   "metadata": {},
   "outputs": [
    {
     "name": "stderr",
     "output_type": "stream",
     "text": [
      "Casting to class labels: 100%|███| 1000/1000 [00:00<00:00, 206891.14 examples/s]\n"
     ]
    }
   ],
   "source": [
    "dataset = dataset.class_encode_column(\"type\")"
   ]
  },
  {
   "cell_type": "code",
   "execution_count": 127,
   "id": "3a9c80ee-6dd5-4ce9-b49a-01fc41f083d6",
   "metadata": {},
   "outputs": [],
   "source": [
    "dataset = dataset.rename_column(\"url\", \"text\")\n",
    "dataset = dataset.rename_column(\"type\", \"label\")"
   ]
  },
  {
   "cell_type": "code",
   "execution_count": 128,
   "id": "264ad71b-6e70-4b3f-8b8e-d70f658e242a",
   "metadata": {},
   "outputs": [
    {
     "data": {
      "text/plain": [
       "Dataset({\n",
       "    features: ['text', 'label'],\n",
       "    num_rows: 1000\n",
       "})"
      ]
     },
     "execution_count": 128,
     "metadata": {},
     "output_type": "execute_result"
    }
   ],
   "source": [
    "dataset"
   ]
  },
  {
   "cell_type": "markdown",
   "id": "3ca6c91d-52af-4295-ab41-92c86f4876c5",
   "metadata": {},
   "source": [
    "## BERT Tokenization"
   ]
  },
  {
   "cell_type": "code",
   "execution_count": 129,
   "id": "1ac6abae-8203-40ea-8779-fcdcbc8ed86f",
   "metadata": {},
   "outputs": [],
   "source": [
    "def tokenize(data):\n",
    "    return tokenizer(data[\"text\"], padding=\"max_length\", return_tensors=\"pt\")"
   ]
  },
  {
   "cell_type": "code",
   "execution_count": 130,
   "id": "966ed298-fab0-4238-80c3-be4b672e4155",
   "metadata": {},
   "outputs": [
    {
     "name": "stderr",
     "output_type": "stream",
     "text": [
      "Map: 100%|█████████████████████████| 1000/1000 [00:00<00:00, 3632.19 examples/s]\n"
     ]
    }
   ],
   "source": [
    "tokenized_dataset = dataset.map(tokenize, batched=True)"
   ]
  },
  {
   "cell_type": "code",
   "execution_count": 131,
   "id": "e87c8282-2010-4309-89c8-cd8d88a951e8",
   "metadata": {},
   "outputs": [
    {
     "data": {
      "text/plain": [
       "Dataset({\n",
       "    features: ['text', 'label', 'input_ids', 'token_type_ids', 'attention_mask'],\n",
       "    num_rows: 1000\n",
       "})"
      ]
     },
     "execution_count": 131,
     "metadata": {},
     "output_type": "execute_result"
    }
   ],
   "source": [
    "tokenized_dataset"
   ]
  },
  {
   "cell_type": "markdown",
   "id": "76c9a1f4-f09e-4ac1-a6eb-e571ac12e4ea",
   "metadata": {},
   "source": [
    "## Dataset Split"
   ]
  },
  {
   "cell_type": "code",
   "execution_count": 132,
   "id": "fbac6dfe-b3d8-4668-a3fd-5819eb6d2b17",
   "metadata": {},
   "outputs": [],
   "source": [
    "split_dataset = tokenized_dataset.train_test_split(test_size=0.2)"
   ]
  },
  {
   "cell_type": "code",
   "execution_count": 133,
   "id": "22384036-3822-43f5-84cf-d259e80b0267",
   "metadata": {},
   "outputs": [
    {
     "data": {
      "text/plain": [
       "DatasetDict({\n",
       "    train: Dataset({\n",
       "        features: ['text', 'label', 'input_ids', 'token_type_ids', 'attention_mask'],\n",
       "        num_rows: 800\n",
       "    })\n",
       "    test: Dataset({\n",
       "        features: ['text', 'label', 'input_ids', 'token_type_ids', 'attention_mask'],\n",
       "        num_rows: 200\n",
       "    })\n",
       "})"
      ]
     },
     "execution_count": 133,
     "metadata": {},
     "output_type": "execute_result"
    }
   ],
   "source": [
    "split_dataset"
   ]
  },
  {
   "cell_type": "code",
   "execution_count": 134,
   "id": "e31e8da6-7a29-4c00-b82d-7e0e68414fed",
   "metadata": {},
   "outputs": [],
   "source": [
    "train_dataset = split_dataset[\"train\"]"
   ]
  },
  {
   "cell_type": "code",
   "execution_count": 135,
   "id": "ef1e246e-bfbe-445d-917c-61a52ace74d3",
   "metadata": {},
   "outputs": [],
   "source": [
    "test_dataset = split_dataset[\"test\"]"
   ]
  },
  {
   "cell_type": "code",
   "execution_count": 136,
   "id": "2181b3ed-e0a4-4498-ab75-74dac567ce1a",
   "metadata": {},
   "outputs": [
    {
     "data": {
      "text/plain": [
       "(Dataset({\n",
       "     features: ['text', 'label', 'input_ids', 'token_type_ids', 'attention_mask'],\n",
       "     num_rows: 800\n",
       " }),\n",
       " Dataset({\n",
       "     features: ['text', 'label', 'input_ids', 'token_type_ids', 'attention_mask'],\n",
       "     num_rows: 200\n",
       " }))"
      ]
     },
     "execution_count": 136,
     "metadata": {},
     "output_type": "execute_result"
    }
   ],
   "source": [
    "train_dataset, test_dataset"
   ]
  },
  {
   "cell_type": "markdown",
   "id": "cac1bafc-04a0-4478-96af-4fe1dd79c183",
   "metadata": {},
   "source": [
    "## BERT Fine-Tuning"
   ]
  },
  {
   "cell_type": "code",
   "execution_count": 137,
   "id": "bf7016f7-1629-4cc2-b2d1-72d58b786792",
   "metadata": {
    "scrolled": true
   },
   "outputs": [],
   "source": [
    "training_args = TrainingArguments(output_dir=\"results\", \n",
    "                                  num_train_epochs=10,\n",
    "                                  logging_steps=1,\n",
    "                                  evaluation_strategy=\"epoch\")"
   ]
  },
  {
   "cell_type": "code",
   "execution_count": 138,
   "id": "86d2ecb0-be04-48fe-9b56-ca7b94a44002",
   "metadata": {
    "scrolled": true
   },
   "outputs": [],
   "source": [
    "# metric = evaluate.load(METRIC)"
   ]
  },
  {
   "cell_type": "markdown",
   "id": "5609bb71-b194-4b0a-98a4-3d1f0e89216f",
   "metadata": {},
   "source": [
    "Cross-Entropy Loss"
   ]
  },
  {
   "cell_type": "code",
   "execution_count": 139,
   "id": "4c7a02a8-cd93-4521-8f37-b3bd6d1ff52d",
   "metadata": {},
   "outputs": [],
   "source": [
    "def compute_metrics(eval_pred):\n",
    "    logits, labels = eval_pred\n",
    "    sum = 0\n",
    "    for i in range(len(labels)):\n",
    "        raw_logits = logits[i]\n",
    "        exp_logits = np.exp(raw_logits)\n",
    "        norm_logits = exp_logits / np.sum(exp_logits, axis=0)\n",
    "        chosen_value = norm_logits[labels[i]]\n",
    "        sum += np.log(chosen_value)\n",
    "    sum /= -len(labels)\n",
    "    return {\"cross_entropy\": sum}"
   ]
  },
  {
   "cell_type": "code",
   "execution_count": 140,
   "id": "c2c9867d-a1db-432e-afb7-f17b74887c6f",
   "metadata": {},
   "outputs": [
    {
     "name": "stderr",
     "output_type": "stream",
     "text": [
      "/home/012392471/miniconda3/envs/security/lib/python3.12/site-packages/accelerate/accelerator.py:436: FutureWarning: Passing the following arguments to `Accelerator` is deprecated and will be removed in version 1.0 of Accelerate: dict_keys(['dispatch_batches', 'split_batches', 'even_batches', 'use_seedable_sampler']). Please pass an `accelerate.DataLoaderConfiguration` instead: \n",
      "dataloader_config = DataLoaderConfiguration(dispatch_batches=None, split_batches=False, even_batches=True, use_seedable_sampler=True)\n",
      "  warnings.warn(\n",
      "Detected kernel version 3.10.0, which is below the recommended minimum of 5.5.0; this can cause the process to hang. It is recommended to upgrade the kernel to the minimum version or higher.\n"
     ]
    }
   ],
   "source": [
    "trainer = Trainer(\n",
    "    model=model,\n",
    "    args=training_args,\n",
    "    train_dataset=train_dataset,\n",
    "    eval_dataset=test_dataset,\n",
    "    compute_metrics=compute_metrics,\n",
    ")"
   ]
  },
  {
   "cell_type": "code",
   "execution_count": 141,
   "id": "73077b72-efc9-44f1-98c2-61e6dc0d9c0b",
   "metadata": {},
   "outputs": [
    {
     "data": {
      "text/html": [
       "\n",
       "    <div>\n",
       "      \n",
       "      <progress value='1000' max='1000' style='width:300px; height:20px; vertical-align: middle;'></progress>\n",
       "      [1000/1000 08:45, Epoch 10/10]\n",
       "    </div>\n",
       "    <table border=\"1\" class=\"dataframe\">\n",
       "  <thead>\n",
       " <tr style=\"text-align: left;\">\n",
       "      <th>Epoch</th>\n",
       "      <th>Training Loss</th>\n",
       "      <th>Validation Loss</th>\n",
       "      <th>Cross Entropy</th>\n",
       "    </tr>\n",
       "  </thead>\n",
       "  <tbody>\n",
       "    <tr>\n",
       "      <td>1</td>\n",
       "      <td>0.551100</td>\n",
       "      <td>0.492621</td>\n",
       "      <td>0.492621</td>\n",
       "    </tr>\n",
       "    <tr>\n",
       "      <td>2</td>\n",
       "      <td>0.204300</td>\n",
       "      <td>0.501091</td>\n",
       "      <td>0.501091</td>\n",
       "    </tr>\n",
       "    <tr>\n",
       "      <td>3</td>\n",
       "      <td>0.665700</td>\n",
       "      <td>0.524949</td>\n",
       "      <td>0.524949</td>\n",
       "    </tr>\n",
       "    <tr>\n",
       "      <td>4</td>\n",
       "      <td>0.004300</td>\n",
       "      <td>0.605397</td>\n",
       "      <td>0.605397</td>\n",
       "    </tr>\n",
       "    <tr>\n",
       "      <td>5</td>\n",
       "      <td>0.002500</td>\n",
       "      <td>0.585057</td>\n",
       "      <td>0.585057</td>\n",
       "    </tr>\n",
       "    <tr>\n",
       "      <td>6</td>\n",
       "      <td>0.002100</td>\n",
       "      <td>0.669970</td>\n",
       "      <td>0.669970</td>\n",
       "    </tr>\n",
       "    <tr>\n",
       "      <td>7</td>\n",
       "      <td>0.001000</td>\n",
       "      <td>0.670499</td>\n",
       "      <td>0.670499</td>\n",
       "    </tr>\n",
       "    <tr>\n",
       "      <td>8</td>\n",
       "      <td>0.001000</td>\n",
       "      <td>0.656261</td>\n",
       "      <td>0.656261</td>\n",
       "    </tr>\n",
       "    <tr>\n",
       "      <td>9</td>\n",
       "      <td>0.001200</td>\n",
       "      <td>0.691514</td>\n",
       "      <td>0.691514</td>\n",
       "    </tr>\n",
       "    <tr>\n",
       "      <td>10</td>\n",
       "      <td>0.000500</td>\n",
       "      <td>0.687948</td>\n",
       "      <td>0.687948</td>\n",
       "    </tr>\n",
       "  </tbody>\n",
       "</table><p>"
      ],
      "text/plain": [
       "<IPython.core.display.HTML object>"
      ]
     },
     "metadata": {},
     "output_type": "display_data"
    }
   ],
   "source": [
    "trainer_output = trainer.train()"
   ]
  },
  {
   "cell_type": "code",
   "execution_count": 142,
   "id": "a6bab039-ddab-4798-85f3-f1457eb61c8b",
   "metadata": {},
   "outputs": [
    {
     "data": {
      "text/plain": [
       "TrainOutput(global_step=1000, training_loss=0.2060786658008583, metrics={'train_runtime': 525.8251, 'train_samples_per_second': 15.214, 'train_steps_per_second': 1.902, 'total_flos': 2104926240768000.0, 'train_loss': 0.2060786658008583, 'epoch': 10.0})"
      ]
     },
     "execution_count": 142,
     "metadata": {},
     "output_type": "execute_result"
    }
   ],
   "source": [
    "trainer_output"
   ]
  },
  {
   "cell_type": "code",
   "execution_count": null,
   "id": "4961d784-55f5-400a-a74e-48137d13a8a8",
   "metadata": {},
   "outputs": [],
   "source": []
  }
 ],
 "metadata": {
  "kernelspec": {
   "display_name": "security",
   "language": "python",
   "name": "security"
  },
  "language_info": {
   "codemirror_mode": {
    "name": "ipython",
    "version": 3
   },
   "file_extension": ".py",
   "mimetype": "text/x-python",
   "name": "python",
   "nbconvert_exporter": "python",
   "pygments_lexer": "ipython3",
   "version": "3.12.3"
  }
 },
 "nbformat": 4,
 "nbformat_minor": 5
}
