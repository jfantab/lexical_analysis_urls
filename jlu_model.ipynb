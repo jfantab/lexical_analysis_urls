{
 "cells": [
  {
   "cell_type": "markdown",
   "id": "da22b6e1-296d-4b55-8eb3-6f83589db65b",
   "metadata": {},
   "source": [
    "# Abstract:\n",
    "\n",
    "Malicious URLs pose a huge risk on the Internet. They pose as legitimate URLs to lead unsuspecting users to provide sensitive information. They can also download malware onto the user's device. This notebook uses a powerful transformer model called BERT to perform classification on the URLs."
   ]
  },
  {
   "cell_type": "markdown",
   "id": "c952c682-0df1-4ba6-b200-6bd8c7444e91",
   "metadata": {},
   "source": [
    "# Related Work:\n",
    "\n",
    "There are various existing methods for detecting and flagging malicious URLs. \n",
    "\n",
    "One method uses blacklists, which  hold previously flagged malicious URLs. The drawback of this approach is its lack of generalization to new URLs. It cannot keep up with the rapid pace of attackers creating new URLs every day. []\n",
    "\n",
    "Another method uses heuristics, which are intuitive or rule-of-thumb methods.  These methods cannot be specifically quantified or formalized. []"
   ]
  },
  {
   "cell_type": "markdown",
   "id": "0fd15bd3-4fd8-4df6-b39e-e9172d557ba4",
   "metadata": {},
   "source": [
    "## Setup"
   ]
  },
  {
   "cell_type": "code",
   "execution_count": null,
   "id": "be91922e-d159-4b14-9b3d-152024c8c2ca",
   "metadata": {},
   "outputs": [],
   "source": [
    "import math\n",
    "\n",
    "import numpy as np\n",
    "import pandas as pd\n",
    "import torch\n",
    "\n",
    "from sklearn.metrics import confusion_matrix, classification_report\n",
    "import matplotlib.pyplot as plt\n",
    "import seaborn as sns\n",
    "\n",
    "from transformers import AutoTokenizer, AutoModelForSequenceClassification, TrainingArguments, Trainer\n",
    "from datasets import Dataset"
   ]
  },
  {
   "cell_type": "markdown",
   "id": "83181067-426d-41d1-829f-561984aade4f",
   "metadata": {},
   "source": [
    "## Reading in Data"
   ]
  },
  {
   "cell_type": "markdown",
   "id": "dbfb941f-2725-4ce9-8193-b8cfd73bbf0a",
   "metadata": {},
   "source": [
    "For this project, we are using a dataset from Kaggle containing 651,191 URLs and 4 classes (benign, defacement, phishing, and malware). [] Benign URLs are not malicious. Defacement URLs refer to trusted websites being hacked to include malicious content. []\n",
    "\n",
    "The URLs came from multiple sources."
   ]
  },
  {
   "cell_type": "code",
   "execution_count": null,
   "id": "9c9e8411-9110-4a64-a9bc-b3bdafcb9e33",
   "metadata": {},
   "outputs": [],
   "source": [
    "original_df = pd.read_csv(\"malicious_phish.csv\")\n",
    "original_df.head()"
   ]
  },
  {
   "cell_type": "markdown",
   "id": "30e5ab89-9c78-4faa-ad39-48d7072d978a",
   "metadata": {},
   "source": [
    "## Sampling the Data"
   ]
  },
  {
   "cell_type": "markdown",
   "id": "8baa110b-cb31-4dbc-8f80-238236a14a0f",
   "metadata": {},
   "source": [
    "I am taking a sample of the data to use in order to reduce computational complexity.\n",
    "\n",
    "There are two methods shown below. The first method uses a percentage, while the other method uses an explicit number of samples."
   ]
  },
  {
   "cell_type": "code",
   "execution_count": null,
   "id": "f50c6a6a-f6ab-4f95-837f-98d85a18e123",
   "metadata": {},
   "outputs": [],
   "source": [
    "# PERCENTAGE = 0.005\n",
    "# df = original_df.sample(frac=PERCENTAGE, replace=False, random_state=42)"
   ]
  },
  {
   "cell_type": "code",
   "execution_count": null,
   "id": "c487e1a0-1dbb-4cc6-9272-164d6ca902b6",
   "metadata": {},
   "outputs": [],
   "source": [
    "NUM_SAMPLES = 1000\n",
    "df = original_df.sample(n=NUM_SAMPLES, replace=False, random_state=42)"
   ]
  },
  {
   "cell_type": "code",
   "execution_count": 1,
   "id": "466408ea-ecfe-4c67-97ac-832b222a5e55",
   "metadata": {},
   "outputs": [
    {
     "ename": "NameError",
     "evalue": "name 'df' is not defined",
     "output_type": "error",
     "traceback": [
      "\u001b[0;31m---------------------------------------------------------------------------\u001b[0m",
      "\u001b[0;31mNameError\u001b[0m                                 Traceback (most recent call last)",
      "Cell \u001b[0;32mIn[1], line 1\u001b[0m\n\u001b[0;32m----> 1\u001b[0m df\u001b[38;5;241m.\u001b[39mshape\n",
      "\u001b[0;31mNameError\u001b[0m: name 'df' is not defined"
     ]
    }
   ],
   "source": [
    "df.shape"
   ]
  },
  {
   "cell_type": "markdown",
   "id": "c6dc34ed-7ff6-4467-a39a-88774dba6950",
   "metadata": {},
   "source": [
    "## BERT Setup"
   ]
  },
  {
   "cell_type": "markdown",
   "id": "a81fca07-371f-4a98-aaa4-c08412bd7417",
   "metadata": {},
   "source": [
    "I am loading the pre-trained model along with its tokenizer here."
   ]
  },
  {
   "cell_type": "markdown",
   "id": "038fe475-29d0-45fa-8377-fe43206fc87d",
   "metadata": {},
   "source": [
    "BERT (Bi-Directional Pre-Trained Transformer) uses the encoder part of a transformer. This model is pre-trained under the MLM (masked language modeling) task on lots of data from the Internet. Therefore, the model has a good understanding of English grammar."
   ]
  },
  {
   "cell_type": "markdown",
   "id": "a03eff52-716b-47aa-858c-d2bf57b3192a",
   "metadata": {},
   "source": [
    "BERT is not trained in the classification task I want to perform, so I have to perform **fine-tuning** for BERT on a sample of the URL data."
   ]
  },
  {
   "cell_type": "markdown",
   "id": "78f57332-2744-4f10-8a63-d082444876d8",
   "metadata": {},
   "source": [
    "This model does not need a large amount of data to fine-tune."
   ]
  },
  {
   "cell_type": "markdown",
   "id": "182f1d8d-23c1-4713-9378-f8d3b57ff89e",
   "metadata": {},
   "source": [
    "Each model has its own tokenizer because they each accept data in their own specific formats."
   ]
  },
  {
   "cell_type": "markdown",
   "id": "0f8eb249-93e7-451b-800e-7e59c8515cb4",
   "metadata": {},
   "source": [
    "I am running this model on the SJSU HPC (High-Performance Cluster) servers, so I had to download the model from HuggingFace to use locally. "
   ]
  },
  {
   "cell_type": "code",
   "execution_count": 13,
   "id": "07a73c98-8cc9-4286-a1f1-9888dc30a18b",
   "metadata": {},
   "outputs": [],
   "source": [
    "MODEL = \"./bert-base-uncased/\""
   ]
  },
  {
   "cell_type": "code",
   "execution_count": 15,
   "id": "49387c79-923e-4d73-bd17-034e4b893882",
   "metadata": {},
   "outputs": [],
   "source": [
    "tokenizer = AutoTokenizer.from_pretrained(MODEL)"
   ]
  },
  {
   "cell_type": "code",
   "execution_count": 16,
   "id": "72b1a5bc-3939-478f-a271-73e3778827c0",
   "metadata": {},
   "outputs": [
    {
     "name": "stderr",
     "output_type": "stream",
     "text": [
      "Some weights of BertForSequenceClassification were not initialized from the model checkpoint at ./bert-base-uncased/ and are newly initialized: ['classifier.bias', 'classifier.weight']\n",
      "You should probably TRAIN this model on a down-stream task to be able to use it for predictions and inference.\n"
     ]
    }
   ],
   "source": [
    "model = AutoModelForSequenceClassification.from_pretrained(MODEL, num_labels=4)"
   ]
  },
  {
   "cell_type": "markdown",
   "id": "829cbf63-c257-4ee5-b625-8dc008599530",
   "metadata": {},
   "source": [
    "## Loading Dataset"
   ]
  },
  {
   "cell_type": "markdown",
   "id": "1d292824-9268-4124-b704-42b7885a69b0",
   "metadata": {},
   "source": [
    "Currently, the dataset is loaded into a Pandas dataframe. It has to be loaded into a HuggingFace Dataset format in order to provide the full range of functionalities."
   ]
  },
  {
   "cell_type": "code",
   "execution_count": 17,
   "id": "5f2dad19-55dc-4977-8cb6-6d07f7a2c7f3",
   "metadata": {},
   "outputs": [],
   "source": [
    "dataset = Dataset.from_pandas(df)"
   ]
  },
  {
   "cell_type": "code",
   "execution_count": 18,
   "id": "2f98265a-e5b6-43ea-9584-0f2fae4b6147",
   "metadata": {},
   "outputs": [],
   "source": [
    "dataset = dataset.remove_columns([\"__index_level_0__\"])"
   ]
  },
  {
   "cell_type": "code",
   "execution_count": 19,
   "id": "07e2db2b-d653-4317-a3d2-b39c40b40580",
   "metadata": {},
   "outputs": [
    {
     "name": "stderr",
     "output_type": "stream",
     "text": [
      "Casting to class labels: 100%|███| 1000/1000 [00:00<00:00, 185375.41 examples/s]\n"
     ]
    }
   ],
   "source": [
    "dataset = dataset.class_encode_column(\"type\")"
   ]
  },
  {
   "cell_type": "markdown",
   "id": "a3caef8a-a973-40aa-b509-1084709ae15f",
   "metadata": {},
   "source": [
    "BERT also expects the columns to be named \"text\" and \"label\"."
   ]
  },
  {
   "cell_type": "code",
   "execution_count": 20,
   "id": "3a9c80ee-6dd5-4ce9-b49a-01fc41f083d6",
   "metadata": {},
   "outputs": [],
   "source": [
    "dataset = dataset.rename_column(\"url\", \"text\")\n",
    "dataset = dataset.rename_column(\"type\", \"label\")"
   ]
  },
  {
   "cell_type": "code",
   "execution_count": 25,
   "id": "c12c30a9-5007-4002-8e39-b02a321afed5",
   "metadata": {},
   "outputs": [],
   "source": [
    "target_labels = dataset.features[\"label\"].names"
   ]
  },
  {
   "cell_type": "code",
   "execution_count": 26,
   "id": "715a4acb-83ce-485b-a850-088368f839ea",
   "metadata": {},
   "outputs": [
    {
     "data": {
      "text/plain": [
       "['benign', 'defacement', 'malware', 'phishing']"
      ]
     },
     "execution_count": 26,
     "metadata": {},
     "output_type": "execute_result"
    }
   ],
   "source": [
    "target_labels"
   ]
  },
  {
   "cell_type": "code",
   "execution_count": 27,
   "id": "264ad71b-6e70-4b3f-8b8e-d70f658e242a",
   "metadata": {},
   "outputs": [
    {
     "data": {
      "text/plain": [
       "Dataset({\n",
       "    features: ['text', 'label'],\n",
       "    num_rows: 1000\n",
       "})"
      ]
     },
     "execution_count": 27,
     "metadata": {},
     "output_type": "execute_result"
    }
   ],
   "source": [
    "dataset"
   ]
  },
  {
   "cell_type": "markdown",
   "id": "3ca6c91d-52af-4295-ab41-92c86f4876c5",
   "metadata": {},
   "source": [
    "## BERT Tokenization"
   ]
  },
  {
   "cell_type": "markdown",
   "id": "a408f14b-3d2e-4785-9a35-998417a88228",
   "metadata": {},
   "source": [
    "The URLs need to be converted into numbers, so I use the BERT tokenizer here to convert the inputs into a format that BERT can recognize.\n",
    "\n",
    "BERT uses a WordPiece tokenizer."
   ]
  },
  {
   "cell_type": "code",
   "execution_count": 28,
   "id": "1ac6abae-8203-40ea-8779-fcdcbc8ed86f",
   "metadata": {},
   "outputs": [],
   "source": [
    "def tokenize(data):\n",
    "    return tokenizer(data[\"text\"], padding=\"max_length\", return_tensors=\"pt\")"
   ]
  },
  {
   "cell_type": "code",
   "execution_count": 29,
   "id": "966ed298-fab0-4238-80c3-be4b672e4155",
   "metadata": {},
   "outputs": [
    {
     "name": "stderr",
     "output_type": "stream",
     "text": [
      "Map: 100%|█████████████████████████| 1000/1000 [00:00<00:00, 1667.12 examples/s]\n"
     ]
    }
   ],
   "source": [
    "tokenized_dataset = dataset.map(tokenize, batched=True)"
   ]
  },
  {
   "cell_type": "code",
   "execution_count": 30,
   "id": "e87c8282-2010-4309-89c8-cd8d88a951e8",
   "metadata": {},
   "outputs": [
    {
     "data": {
      "text/plain": [
       "Dataset({\n",
       "    features: ['text', 'label', 'input_ids', 'token_type_ids', 'attention_mask'],\n",
       "    num_rows: 1000\n",
       "})"
      ]
     },
     "execution_count": 30,
     "metadata": {},
     "output_type": "execute_result"
    }
   ],
   "source": [
    "tokenized_dataset"
   ]
  },
  {
   "cell_type": "markdown",
   "id": "76c9a1f4-f09e-4ac1-a6eb-e571ac12e4ea",
   "metadata": {},
   "source": [
    "## Dataset Split"
   ]
  },
  {
   "cell_type": "markdown",
   "id": "5fe8749a-9932-4b57-8edb-49d51a7274c0",
   "metadata": {},
   "source": [
    "I am splitting the dataset here into **train**, **validation**, and **test** sets."
   ]
  },
  {
   "cell_type": "code",
   "execution_count": 21,
   "id": "fbac6dfe-b3d8-4668-a3fd-5819eb6d2b17",
   "metadata": {},
   "outputs": [],
   "source": [
    "split_dataset = tokenized_dataset.train_test_split(test_size=0.1)"
   ]
  },
  {
   "cell_type": "code",
   "execution_count": 22,
   "id": "22384036-3822-43f5-84cf-d259e80b0267",
   "metadata": {},
   "outputs": [
    {
     "data": {
      "text/plain": [
       "DatasetDict({\n",
       "    train: Dataset({\n",
       "        features: ['text', 'label', 'input_ids', 'token_type_ids', 'attention_mask'],\n",
       "        num_rows: 900\n",
       "    })\n",
       "    test: Dataset({\n",
       "        features: ['text', 'label', 'input_ids', 'token_type_ids', 'attention_mask'],\n",
       "        num_rows: 100\n",
       "    })\n",
       "})"
      ]
     },
     "execution_count": 22,
     "metadata": {},
     "output_type": "execute_result"
    }
   ],
   "source": [
    "split_dataset"
   ]
  },
  {
   "cell_type": "code",
   "execution_count": 23,
   "id": "e31e8da6-7a29-4c00-b82d-7e0e68414fed",
   "metadata": {},
   "outputs": [],
   "source": [
    "train_eval_dataset = split_dataset[\"train\"]"
   ]
  },
  {
   "cell_type": "code",
   "execution_count": 24,
   "id": "b9237cba-2cb1-4b54-8264-88a3b4aedc79",
   "metadata": {},
   "outputs": [],
   "source": [
    "train_eval_split_dataset = train_eval_dataset.train_test_split(test_size=0.1)"
   ]
  },
  {
   "cell_type": "code",
   "execution_count": 25,
   "id": "181f28f7-22cc-46de-8be3-5d9961070507",
   "metadata": {},
   "outputs": [],
   "source": [
    "train_dataset = train_eval_split_dataset[\"train\"]"
   ]
  },
  {
   "cell_type": "code",
   "execution_count": 26,
   "id": "a85d2ddb-c729-4d1a-8697-486b36f00dd0",
   "metadata": {},
   "outputs": [],
   "source": [
    "eval_dataset = train_eval_split_dataset[\"test\"]"
   ]
  },
  {
   "cell_type": "code",
   "execution_count": 27,
   "id": "ef1e246e-bfbe-445d-917c-61a52ace74d3",
   "metadata": {},
   "outputs": [],
   "source": [
    "test_dataset = split_dataset[\"test\"]"
   ]
  },
  {
   "cell_type": "code",
   "execution_count": 28,
   "id": "2181b3ed-e0a4-4498-ab75-74dac567ce1a",
   "metadata": {},
   "outputs": [
    {
     "data": {
      "text/plain": [
       "(Dataset({\n",
       "     features: ['text', 'label', 'input_ids', 'token_type_ids', 'attention_mask'],\n",
       "     num_rows: 810\n",
       " }),\n",
       " Dataset({\n",
       "     features: ['text', 'label', 'input_ids', 'token_type_ids', 'attention_mask'],\n",
       "     num_rows: 90\n",
       " }),\n",
       " Dataset({\n",
       "     features: ['text', 'label', 'input_ids', 'token_type_ids', 'attention_mask'],\n",
       "     num_rows: 100\n",
       " }))"
      ]
     },
     "execution_count": 28,
     "metadata": {},
     "output_type": "execute_result"
    }
   ],
   "source": [
    "train_dataset, eval_dataset, test_dataset"
   ]
  },
  {
   "cell_type": "markdown",
   "id": "cac1bafc-04a0-4478-96af-4fe1dd79c183",
   "metadata": {},
   "source": [
    "## BERT Fine-Tuning"
   ]
  },
  {
   "cell_type": "markdown",
   "id": "597ec4dd-22f1-43fc-a037-cd7692a7dfb0",
   "metadata": {},
   "source": [
    "This object specifies the training configuration arguments."
   ]
  },
  {
   "cell_type": "markdown",
   "id": "1dc299ad",
   "metadata": {},
   "source": [
    "The `output_dir` parameter specifies the directory where the model checkpoints will be stored. Model checkpoints store the model weights at predefined increments. \n",
    "\n",
    "The `num_train_epochs` parameter specifies the number of epochs that the model will train for. Each epoch goes through all of the batches of training data.\n",
    "\n",
    "The `learning_rate` parameter controls how fast or how slow the model will learn. A higher learning rate will cause the model to converge faster, but a slower learning rate will slow down the model learning and lessen overfitting.\n",
    "\n",
    "The `per_device_train_batch_size` parameter controls how large each batch of data is. \n",
    "\n",
    "The `warmup_steps` parameters"
   ]
  },
  {
   "cell_type": "code",
   "execution_count": 118,
   "id": "bf7016f7-1629-4cc2-b2d1-72d58b786792",
   "metadata": {
    "scrolled": true
   },
   "outputs": [],
   "source": [
    "training_args = TrainingArguments(output_dir=\"results\", \n",
    "                                  num_train_epochs=5,\n",
    "                                  logging_steps=1,\n",
    "                                  learning_rate=1e-5,\n",
    "                                  per_device_train_batch_size=8,\n",
    "                                  weight_decay=0,\n",
    "                                  warmup_steps=0,\n",
    "                                  evaluation_strategy=\"epoch\")"
   ]
  },
  {
   "cell_type": "markdown",
   "id": "5609bb71-b194-4b0a-98a4-3d1f0e89216f",
   "metadata": {},
   "source": [
    "I am using cross-entropy loss here because this is a multi-class classification problem"
   ]
  },
  {
   "cell_type": "code",
   "execution_count": 119,
   "id": "4c7a02a8-cd93-4521-8f37-b3bd6d1ff52d",
   "metadata": {},
   "outputs": [],
   "source": [
    "def compute_metrics(eval_pred):\n",
    "    logits, labels = eval_pred\n",
    "    sum = 0\n",
    "    for i in range(len(labels)):\n",
    "        raw_logits = logits[i]\n",
    "        \n",
    "        exp_logits = np.exp(raw_logits)\n",
    "        norm_logits = exp_logits / np.sum(exp_logits, axis=0)\n",
    "        chosen_value = norm_logits[labels[i]]\n",
    "        \n",
    "        sum += np.log(chosen_value)\n",
    "    sum /= -len(labels)\n",
    "    return {\"cross_entropy\": sum}"
   ]
  },
  {
   "cell_type": "code",
   "execution_count": 120,
   "id": "c2c9867d-a1db-432e-afb7-f17b74887c6f",
   "metadata": {},
   "outputs": [
    {
     "name": "stderr",
     "output_type": "stream",
     "text": [
      "/home/012392471/miniconda3/envs/security/lib/python3.12/site-packages/accelerate/accelerator.py:436: FutureWarning: Passing the following arguments to `Accelerator` is deprecated and will be removed in version 1.0 of Accelerate: dict_keys(['dispatch_batches', 'split_batches', 'even_batches', 'use_seedable_sampler']). Please pass an `accelerate.DataLoaderConfiguration` instead: \n",
      "dataloader_config = DataLoaderConfiguration(dispatch_batches=None, split_batches=False, even_batches=True, use_seedable_sampler=True)\n",
      "  warnings.warn(\n",
      "Detected kernel version 3.10.0, which is below the recommended minimum of 5.5.0; this can cause the process to hang. It is recommended to upgrade the kernel to the minimum version or higher.\n"
     ]
    }
   ],
   "source": [
    "trainer = Trainer(\n",
    "    model=model,\n",
    "    args=training_args,\n",
    "    train_dataset=train_dataset,\n",
    "    eval_dataset=eval_dataset,\n",
    "    compute_metrics=compute_metrics,\n",
    ")"
   ]
  },
  {
   "cell_type": "code",
   "execution_count": 121,
   "id": "73077b72-efc9-44f1-98c2-61e6dc0d9c0b",
   "metadata": {},
   "outputs": [
    {
     "data": {
      "text/html": [
       "\n",
       "    <div>\n",
       "      \n",
       "      <progress value='510' max='510' style='width:300px; height:20px; vertical-align: middle;'></progress>\n",
       "      [510/510 04:14, Epoch 5/5]\n",
       "    </div>\n",
       "    <table border=\"1\" class=\"dataframe\">\n",
       "  <thead>\n",
       " <tr style=\"text-align: left;\">\n",
       "      <th>Epoch</th>\n",
       "      <th>Training Loss</th>\n",
       "      <th>Validation Loss</th>\n",
       "      <th>Cross Entropy</th>\n",
       "    </tr>\n",
       "  </thead>\n",
       "  <tbody>\n",
       "    <tr>\n",
       "      <td>1</td>\n",
       "      <td>0.000000</td>\n",
       "      <td>1.821026</td>\n",
       "      <td>1.821026</td>\n",
       "    </tr>\n",
       "    <tr>\n",
       "      <td>2</td>\n",
       "      <td>0.000000</td>\n",
       "      <td>1.924675</td>\n",
       "      <td>1.924676</td>\n",
       "    </tr>\n",
       "    <tr>\n",
       "      <td>3</td>\n",
       "      <td>0.000000</td>\n",
       "      <td>1.988559</td>\n",
       "      <td>1.988559</td>\n",
       "    </tr>\n",
       "    <tr>\n",
       "      <td>4</td>\n",
       "      <td>0.000000</td>\n",
       "      <td>2.020792</td>\n",
       "      <td>2.020792</td>\n",
       "    </tr>\n",
       "    <tr>\n",
       "      <td>5</td>\n",
       "      <td>0.000000</td>\n",
       "      <td>2.022616</td>\n",
       "      <td>2.022616</td>\n",
       "    </tr>\n",
       "  </tbody>\n",
       "</table><p>"
      ],
      "text/plain": [
       "<IPython.core.display.HTML object>"
      ]
     },
     "metadata": {},
     "output_type": "display_data"
    },
    {
     "data": {
      "text/plain": [
       "TrainOutput(global_step=510, training_loss=1.9064715683086876e-07, metrics={'train_runtime': 254.5009, 'train_samples_per_second': 15.914, 'train_steps_per_second': 2.004, 'total_flos': 1065618909388800.0, 'train_loss': 1.9064715683086876e-07, 'epoch': 5.0})"
      ]
     },
     "execution_count": 121,
     "metadata": {},
     "output_type": "execute_result"
    }
   ],
   "source": [
    "trainer.train()"
   ]
  },
  {
   "cell_type": "markdown",
   "id": "8c1eaa67-862f-4fd1-9c91-56bcce5390ec",
   "metadata": {},
   "source": [
    "## Predictions"
   ]
  },
  {
   "cell_type": "code",
   "execution_count": 122,
   "id": "a6bab039-ddab-4798-85f3-f1457eb61c8b",
   "metadata": {},
   "outputs": [
    {
     "data": {
      "text/html": [],
      "text/plain": [
       "<IPython.core.display.HTML object>"
      ]
     },
     "metadata": {},
     "output_type": "display_data"
    }
   ],
   "source": [
    "predictions = trainer.predict(test_dataset)\n",
    "predicted_labels = np.argmax(predictions.predictions, axis=-1)"
   ]
  },
  {
   "cell_type": "code",
   "execution_count": 123,
   "id": "4961d784-55f5-400a-a74e-48137d13a8a8",
   "metadata": {},
   "outputs": [],
   "source": [
    "true_labels = test_dataset[\"label\"]"
   ]
  },
  {
   "cell_type": "code",
   "execution_count": 125,
   "id": "0461980c-f5ce-4344-a276-8e820c921359",
   "metadata": {},
   "outputs": [],
   "source": [
    "conf_mat = confusion_matrix(true_labels, predicted_labels, labels=np.arange(4))"
   ]
  },
  {
   "cell_type": "markdown",
   "id": "e59c9da0-dd8c-460d-9a1d-8322740ba944",
   "metadata": {},
   "source": [
    "It is important to see how the model performs across the different classes. A single accuracy value averaged across all of the classes provides an insufficient evaluation of the model's performance. As mentioned earlier, there is a class imbalance. If the model boasts an accuracy of 90%, it does not provide information on the under-represented classes. Therefore, it is vital to look at the precision, recall, and F-1 score for each class. These metrics are detailed below in the classification report."
   ]
  },
  {
   "cell_type": "code",
   "execution_count": 126,
   "id": "2a8f295b-090d-4886-895a-37329c0a4d08",
   "metadata": {},
   "outputs": [
    {
     "data": {
      "image/png": "[encoded data removed]",
      "text/plain": [
       "<Figure size 700x400 with 2 Axes>"
      ]
     },
     "metadata": {},
     "output_type": "display_data"
    }
   ],
   "source": [
    "plt.figure(figsize=(7, 4))\n",
    "sns.heatmap(conf_mat, annot=True, fmt=\"d\", cmap=\"Blues\", xticklabels=target_labels, yticklabels=target_labels)\n",
    "plt.xlabel('Predicted Labels')\n",
    "plt.ylabel('True Labels')\n",
    "plt.title('Confusion Matrix')\n",
    "plt.show()"
   ]
  },
  {
   "cell_type": "code",
   "execution_count": 127,
   "id": "ba2e79bb-843a-4100-abc0-126a8c7d3cb0",
   "metadata": {},
   "outputs": [
    {
     "name": "stdout",
     "output_type": "stream",
     "text": [
      "              precision    recall  f1-score   support\n",
      "\n",
      "      benign       0.94      0.97      0.96        67\n",
      "  defacement       0.95      1.00      0.97        18\n",
      "     malware       1.00      0.25      0.40         4\n",
      "    phishing       0.55      0.55      0.55        11\n",
      "\n",
      "    accuracy                           0.90       100\n",
      "   macro avg       0.86      0.69      0.72       100\n",
      "weighted avg       0.90      0.90      0.89       100\n",
      "\n"
     ]
    }
   ],
   "source": [
    "report = classification_report(true_labels, predicted_labels, labels=np.arange(4), target_names=target_labels, output_dict=False)\n",
    "print(report)"
   ]
  },
  {
   "cell_type": "markdown",
   "id": "2873a4de-a98c-4f04-be43-2ac8240911fc",
   "metadata": {},
   "source": [
    "# Conclusion\n",
    "\n",
    "BERT takes more computational power but can learn well with less samples."
   ]
  },
  {
   "cell_type": "markdown",
   "id": "d0df913d-4f80-4fa9-bcbf-a63be30b9830",
   "metadata": {},
   "source": [
    "# References\n",
    "\n",
    "[1]\n",
    "\n",
    "[2] \n",
    "\n",
    "[3] \n",
    "\n",
    "[4]\n",
    "\n",
    "[5]\n"
   ]
  }
 ],
 "metadata": {
  "kernelspec": {
   "display_name": "security",
   "language": "python",
   "name": "security"
  },
  "language_info": {
   "codemirror_mode": {
    "name": "ipython",
    "version": 3
   },
   "file_extension": ".py",
   "mimetype": "text/x-python",
   "name": "python",
   "nbconvert_exporter": "python",
   "pygments_lexer": "ipython3",
   "version": "3.12.2"
  }
 },
 "nbformat": 4,
 "nbformat_minor": 5
}
