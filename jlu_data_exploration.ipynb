{
 "cells": [
  {
   "cell_type": "code",
   "execution_count": 6,
   "id": "e93ebd2c",
   "metadata": {},
   "outputs": [],
   "source": [
    "import pandas as pd\n",
    "import numpy as np\n",
    "\n",
    "import re"
   ]
  },
  {
   "cell_type": "markdown",
   "id": "a77089c8",
   "metadata": {},
   "source": [
    "## Reading in data"
   ]
  },
  {
   "cell_type": "code",
   "execution_count": 7,
   "id": "ffd44b9a",
   "metadata": {
    "scrolled": true
   },
   "outputs": [
    {
     "data": {
      "text/html": [
       "<div>\n",
       "<style scoped>\n",
       "    .dataframe tbody tr th:only-of-type {\n",
       "        vertical-align: middle;\n",
       "    }\n",
       "\n",
       "    .dataframe tbody tr th {\n",
       "        vertical-align: top;\n",
       "    }\n",
       "\n",
       "    .dataframe thead th {\n",
       "        text-align: right;\n",
       "    }\n",
       "</style>\n",
       "<table border=\"1\" class=\"dataframe\">\n",
       "  <thead>\n",
       "    <tr style=\"text-align: right;\">\n",
       "      <th></th>\n",
       "      <th>url</th>\n",
       "      <th>type</th>\n",
       "    </tr>\n",
       "  </thead>\n",
       "  <tbody>\n",
       "    <tr>\n",
       "      <th>0</th>\n",
       "      <td>br-icloud.com.br</td>\n",
       "      <td>phishing</td>\n",
       "    </tr>\n",
       "    <tr>\n",
       "      <th>1</th>\n",
       "      <td>mp3raid.com/music/krizz_kaliko.html</td>\n",
       "      <td>benign</td>\n",
       "    </tr>\n",
       "    <tr>\n",
       "      <th>2</th>\n",
       "      <td>bopsecrets.org/rexroth/cr/1.htm</td>\n",
       "      <td>benign</td>\n",
       "    </tr>\n",
       "    <tr>\n",
       "      <th>3</th>\n",
       "      <td>http://www.garage-pirenne.be/index.php?option=...</td>\n",
       "      <td>defacement</td>\n",
       "    </tr>\n",
       "    <tr>\n",
       "      <th>4</th>\n",
       "      <td>http://adventure-nicaragua.net/index.php?optio...</td>\n",
       "      <td>defacement</td>\n",
       "    </tr>\n",
       "  </tbody>\n",
       "</table>\n",
       "</div>"
      ],
      "text/plain": [
       "                                                 url        type\n",
       "0                                   br-icloud.com.br    phishing\n",
       "1                mp3raid.com/music/krizz_kaliko.html      benign\n",
       "2                    bopsecrets.org/rexroth/cr/1.htm      benign\n",
       "3  http://www.garage-pirenne.be/index.php?option=...  defacement\n",
       "4  http://adventure-nicaragua.net/index.php?optio...  defacement"
      ]
     },
     "execution_count": 7,
     "metadata": {},
     "output_type": "execute_result"
    }
   ],
   "source": [
    "df = pd.read_csv(\"malicious_phish.csv\")\n",
    "df.head()"
   ]
  },
  {
   "cell_type": "code",
   "execution_count": 8,
   "id": "80c64926",
   "metadata": {},
   "outputs": [
    {
     "name": "stdout",
     "output_type": "stream",
     "text": [
      "651191 URLs\n"
     ]
    }
   ],
   "source": [
    "print(f\"{len(df)} URLs\")"
   ]
  },
  {
   "cell_type": "code",
   "execution_count": 9,
   "id": "93069aca",
   "metadata": {},
   "outputs": [],
   "source": [
    "urls = df[\"url\"].to_list()"
   ]
  },
  {
   "cell_type": "code",
   "execution_count": 10,
   "id": "65c1939e",
   "metadata": {},
   "outputs": [
    {
     "data": {
      "text/plain": [
       "['br-icloud.com.br',\n",
       " 'mp3raid.com/music/krizz_kaliko.html',\n",
       " 'bopsecrets.org/rexroth/cr/1.htm',\n",
       " 'http://www.garage-pirenne.be/index.php?option=com_content&view=article&id=70&vsig70_0=15',\n",
       " 'http://adventure-nicaragua.net/index.php?option=com_mailto&tmpl=component&link=aHR0cDovL2FkdmVudHVyZS1uaWNhcmFndWEubmV0L2luZGV4LnBocD9vcHRpb249Y29tX2NvbnRlbnQmdmlldz1hcnRpY2xlJmlkPTQ3OmFib3V0JmNhdGlkPTM2OmRlbW8tYXJ0aWNsZXMmSXRlbWlkPTU0']"
      ]
     },
     "execution_count": 10,
     "metadata": {},
     "output_type": "execute_result"
    }
   ],
   "source": [
    "urls[:5]"
   ]
  },
  {
   "cell_type": "markdown",
   "id": "7c0e2674",
   "metadata": {},
   "source": [
    "## Exploratory Data Analysis"
   ]
  },
  {
   "cell_type": "code",
   "execution_count": 11,
   "id": "cf5efc8e",
   "metadata": {},
   "outputs": [],
   "source": [
    "def countDigits(url):\n",
    "    result = re.findall(r'[0-9]', url)\n",
    "    return len(result)"
   ]
  },
  {
   "cell_type": "code",
   "execution_count": 12,
   "id": "0df6cbcc",
   "metadata": {},
   "outputs": [],
   "source": [
    "def countQueryParameters(url):\n",
    "    url = url.split(\"?\")\n",
    "    \n",
    "    if(len(url) == 1):\n",
    "        return 0\n",
    "    \n",
    "    url = url[1]\n",
    "    \n",
    "    url = url.split('&')\n",
    "    \n",
    "    return len(url)"
   ]
  },
  {
   "cell_type": "code",
   "execution_count": 13,
   "id": "81d25fa5",
   "metadata": {},
   "outputs": [],
   "source": [
    "def countPercentTwenties(url):\n",
    "    result = re.findall(r'%20', url)\n",
    "    return len(result)"
   ]
  },
  {
   "cell_type": "code",
   "execution_count": 14,
   "id": "14a7e264",
   "metadata": {},
   "outputs": [],
   "source": [
    "def hasHTTPS(url):\n",
    "    result = re.search(r'https', url)\n",
    "    return result != None"
   ]
  },
  {
   "cell_type": "code",
   "execution_count": 15,
   "id": "0153dc36",
   "metadata": {},
   "outputs": [],
   "source": [
    "def hasWWW(url):\n",
    "    result = re.search(r'www', url)\n",
    "    return result != None"
   ]
  },
  {
   "cell_type": "code",
   "execution_count": null,
   "id": "ea1c46de",
   "metadata": {},
   "outputs": [],
   "source": []
  }
 ],
 "metadata": {
  "kernelspec": {
   "display_name": "Python 3 (ipykernel)",
   "language": "python",
   "name": "python3"
  },
  "language_info": {
   "codemirror_mode": {
    "name": "ipython",
    "version": 3
   },
   "file_extension": ".py",
   "mimetype": "text/x-python",
   "name": "python",
   "nbconvert_exporter": "python",
   "pygments_lexer": "ipython3",
   "version": "3.11.6"
  }
 },
 "nbformat": 4,
 "nbformat_minor": 5
}
