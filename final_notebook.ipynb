{
 "cells": [
  {
   "cell_type": "markdown",
   "id": "0fd15bd3-4fd8-4df6-b39e-e9172d557ba4",
   "metadata": {},
   "source": [
    "## Setup"
   ]
  },
  {
   "cell_type": "code",
   "execution_count": 27,
   "id": "be91922e-d159-4b14-9b3d-152024c8c2ca",
   "metadata": {},
   "outputs": [
    {
     "name": "stderr",
     "output_type": "stream",
     "text": [
      "/home/012392471/miniconda3/envs/security/lib/python3.12/site-packages/tqdm/auto.py:21: TqdmWarning: IProgress not found. Please update jupyter and ipywidgets. See https://ipywidgets.readthedocs.io/en/stable/user_install.html\n",
      "  from .autonotebook import tqdm as notebook_tqdm\n"
     ]
    }
   ],
   "source": [
    "import math\n",
    "\n",
    "import numpy as np\n",
    "import pandas as pd\n",
    "import torch\n",
    "import matplotlib.pyplot as plt\n",
    "\n",
    "from sklearn.metrics import confusion_matrix, classification_report\n",
    "import matplotlib.pyplot as plt\n",
    "import seaborn as sns\n",
    "\n",
    "from transformers import AutoTokenizer, AutoModelForSequenceClassification, TrainingArguments, Trainer\n",
    "from datasets import Dataset"
   ]
  },
  {
   "cell_type": "markdown",
   "id": "83181067-426d-41d1-829f-561984aade4f",
   "metadata": {},
   "source": [
    "## Reading in Data"
   ]
  },
  {
   "cell_type": "markdown",
   "id": "dbfb941f-2725-4ce9-8193-b8cfd73bbf0a",
   "metadata": {},
   "source": [
    "For this project, we are using a dataset from Kaggle containing 651,191 URLs and 4 classes (benign, defacement, phishing, and malware) [1]. Benign URLs are not malicious. Defacement URLs refer to trusted websites being hacked to include malicious content [2].\n",
    "\n",
    "The URLs were gathered from multiple sources: an ISCX-URL2016 dataset from University of New Brunswick, a Phishtank dataset, a PhishStorm dataset, and a dataset of benign URLs from a git repository [1]."
   ]
  },
  {
   "cell_type": "code",
   "execution_count": 120,
   "id": "9c9e8411-9110-4a64-a9bc-b3bdafcb9e33",
   "metadata": {},
   "outputs": [
    {
     "data": {
      "text/html": [
       "<div>\n",
       "<style scoped>\n",
       "    .dataframe tbody tr th:only-of-type {\n",
       "        vertical-align: middle;\n",
       "    }\n",
       "\n",
       "    .dataframe tbody tr th {\n",
       "        vertical-align: top;\n",
       "    }\n",
       "\n",
       "    .dataframe thead th {\n",
       "        text-align: right;\n",
       "    }\n",
       "</style>\n",
       "<table border=\"1\" class=\"dataframe\">\n",
       "  <thead>\n",
       "    <tr style=\"text-align: right;\">\n",
       "      <th></th>\n",
       "      <th>url</th>\n",
       "      <th>type</th>\n",
       "    </tr>\n",
       "  </thead>\n",
       "  <tbody>\n",
       "    <tr>\n",
       "      <th>0</th>\n",
       "      <td>br-icloud.com.br</td>\n",
       "      <td>phishing</td>\n",
       "    </tr>\n",
       "    <tr>\n",
       "      <th>1</th>\n",
       "      <td>mp3raid.com/music/krizz_kaliko.html</td>\n",
       "      <td>benign</td>\n",
       "    </tr>\n",
       "    <tr>\n",
       "      <th>2</th>\n",
       "      <td>bopsecrets.org/rexroth/cr/1.htm</td>\n",
       "      <td>benign</td>\n",
       "    </tr>\n",
       "    <tr>\n",
       "      <th>3</th>\n",
       "      <td>http://www.garage-pirenne.be/index.php?option=...</td>\n",
       "      <td>defacement</td>\n",
       "    </tr>\n",
       "    <tr>\n",
       "      <th>4</th>\n",
       "      <td>http://adventure-nicaragua.net/index.php?optio...</td>\n",
       "      <td>defacement</td>\n",
       "    </tr>\n",
       "  </tbody>\n",
       "</table>\n",
       "</div>"
      ],
      "text/plain": [
       "                                                 url        type\n",
       "0                                   br-icloud.com.br    phishing\n",
       "1                mp3raid.com/music/krizz_kaliko.html      benign\n",
       "2                    bopsecrets.org/rexroth/cr/1.htm      benign\n",
       "3  http://www.garage-pirenne.be/index.php?option=...  defacement\n",
       "4  http://adventure-nicaragua.net/index.php?optio...  defacement"
      ]
     },
     "execution_count": 120,
     "metadata": {},
     "output_type": "execute_result"
    }
   ],
   "source": [
    "original_df = pd.read_csv(\"malicious_phish.csv\")\n",
    "original_df.head()"
   ]
  },
  {
   "cell_type": "markdown",
   "id": "b42a0f30-0032-4358-80c3-4c0792ede1b8",
   "metadata": {},
   "source": [
    "The class imbalance is shown below, with benign URLs consisting of the majority of the data points. Defacement and malware take second place, and phishing URLs consist of the smallest percentage of URLs."
   ]
  },
  {
   "cell_type": "code",
   "execution_count": 121,
   "id": "d719ca6c-1fc2-4f2d-8d0e-5d578e379924",
   "metadata": {},
   "outputs": [
    {
     "data": {
      "image/png": "[encoded data removed]",
      "text/plain": [
       "<Figure size 640x480 with 1 Axes>"
      ]
     },
     "metadata": {},
     "output_type": "display_data"
    }
   ],
   "source": [
    "plt.bar([\"benign\", \"defacement\", \"malware\", \"phishing\"], [428103, 96547, 94111, 32520])\n",
    "plt.xlabel(\"Class\")\n",
    "plt.ylabel(\"Number\")\n",
    "plt.title(\"Class Distribution\")\n",
    "plt.show()"
   ]
  },
  {
   "cell_type": "markdown",
   "id": "985532a6-a149-446e-ae7f-b04c8538cd03",
   "metadata": {},
   "source": [
    "The cell below is one method for dealing with a class imbalance. This imbalance results from the fact that malicious URLs are rare and uncommon. The code groups up the rows by their class (benign, defacement, etc.) and sums up the counts for each class [3]. The division by 1 normalizes the counts. [3]"
   ]
  },
  {
   "cell_type": "code",
   "execution_count": 122,
   "id": "87d4d868-0d74-4258-bd58-9b4065693854",
   "metadata": {},
   "outputs": [],
   "source": [
    "weights = 1.0 / original_df.groupby('type')['type'].transform('count')"
   ]
  },
  {
   "cell_type": "code",
   "execution_count": 123,
   "id": "1051c91e-bbf4-4a70-918c-943611505246",
   "metadata": {},
   "outputs": [
    {
     "data": {
      "text/plain": [
       "0    0.000011\n",
       "1    0.000002\n",
       "2    0.000002\n",
       "3    0.000010\n",
       "4    0.000010\n",
       "Name: type, dtype: float64"
      ]
     },
     "execution_count": 123,
     "metadata": {},
     "output_type": "execute_result"
    }
   ],
   "source": [
    "weights.head()"
   ]
  },
  {
   "cell_type": "markdown",
   "id": "30e5ab89-9c78-4faa-ad39-48d7072d978a",
   "metadata": {},
   "source": [
    "## Sampling the Data"
   ]
  },
  {
   "cell_type": "markdown",
   "id": "8baa110b-cb31-4dbc-8f80-238236a14a0f",
   "metadata": {},
   "source": [
    "I am taking a sample of the data to use in order to reduce computational complexity.\n",
    "\n",
    "There are two methods shown below. The first method uses a percentage, while the other method uses an explicit number of samples.\n",
    "\n",
    "I am also including the `weights` array I declared above to equally sample from all 4 classes."
   ]
  },
  {
   "cell_type": "code",
   "execution_count": 124,
   "id": "f50c6a6a-f6ab-4f95-837f-98d85a18e123",
   "metadata": {},
   "outputs": [],
   "source": [
    "# PERCENTAGE = 0.005\n",
    "# df = original_df.sample(frac=PERCENTAGE, replace=False, random_state=42)"
   ]
  },
  {
   "cell_type": "code",
   "execution_count": 125,
   "id": "c487e1a0-1dbb-4cc6-9272-164d6ca902b6",
   "metadata": {},
   "outputs": [],
   "source": [
    "NUM_SAMPLES = 1000\n",
    "df = original_df.sample(n=NUM_SAMPLES, replace=False, random_state=42, weights=weights)"
   ]
  },
  {
   "cell_type": "code",
   "execution_count": 126,
   "id": "466408ea-ecfe-4c67-97ac-832b222a5e55",
   "metadata": {},
   "outputs": [
    {
     "data": {
      "text/plain": [
       "(1000, 2)"
      ]
     },
     "execution_count": 126,
     "metadata": {},
     "output_type": "execute_result"
    }
   ],
   "source": [
    "df.shape"
   ]
  },
  {
   "cell_type": "markdown",
   "id": "d70276bd-05df-4c9b-b788-f2c4aee79a7b",
   "metadata": {},
   "source": [
    "These cells below show the equalized class distribution. I created a dictionary object to store the counts for each class."
   ]
  },
  {
   "cell_type": "code",
   "execution_count": 127,
   "id": "e4e3da6e-4827-48cd-9ff2-de8160347dd7",
   "metadata": {},
   "outputs": [
    {
     "name": "stdout",
     "output_type": "stream",
     "text": [
      "{'benign': 268, 'defacement': 251, 'phishing': 232, 'malware': 249}\n"
     ]
    }
   ],
   "source": [
    "cnts = {\"benign\": 0, \"defacement\": 0, \"phishing\": 0, \"malware\": 0}\n",
    "for ele in df[\"type\"]:\n",
    "    cnts[ele] += 1\n",
    "print(cnts)"
   ]
  },
  {
   "cell_type": "code",
   "execution_count": 128,
   "id": "1fd51ef9-6f8f-4660-bc50-31d92465ee3e",
   "metadata": {},
   "outputs": [
    {
     "data": {
      "image/png": "[encoded data removed]",
      "text/plain": [
       "<Figure size 640x480 with 1 Axes>"
      ]
     },
     "metadata": {},
     "output_type": "display_data"
    }
   ],
   "source": [
    "plt.bar(cnts.keys(), cnts.values())\n",
    "plt.xlabel(\"Class\")\n",
    "plt.ylabel(\"Number\")\n",
    "plt.title(\"Class Distribution of Sample\")\n",
    "plt.show()"
   ]
  },
  {
   "cell_type": "markdown",
   "id": "c6dc34ed-7ff6-4467-a39a-88774dba6950",
   "metadata": {},
   "source": [
    "## BERT Setup"
   ]
  },
  {
   "cell_type": "markdown",
   "id": "a81fca07-371f-4a98-aaa4-c08412bd7417",
   "metadata": {},
   "source": [
    "I am loading the pre-trained model along with its tokenizer here."
   ]
  },
  {
   "cell_type": "markdown",
   "id": "038fe475-29d0-45fa-8377-fe43206fc87d",
   "metadata": {},
   "source": [
    "BERT (Bi-Directional Pre-Trained Transformer) uses the encoder part of a transformer. This model is pre-trained under the MLM (masked language modeling) task on lots of data from the Internet. Therefore, the model has a good understanding of English grammar by learning how to fill in the blanks for the sentences it takes in."
   ]
  },
  {
   "cell_type": "markdown",
   "id": "a03eff52-716b-47aa-858c-d2bf57b3192a",
   "metadata": {},
   "source": [
    "BERT is not trained in the classification task I want to perform, so I need to perform **fine-tuning** for BERT on a sample of the URL data."
   ]
  },
  {
   "cell_type": "markdown",
   "id": "78f57332-2744-4f10-8a63-d082444876d8",
   "metadata": {},
   "source": [
    "This model does not need a large amount of data to fine-tune, since it already has an excellent understanding of English grammar and context."
   ]
  },
  {
   "cell_type": "markdown",
   "id": "182f1d8d-23c1-4713-9378-f8d3b57ff89e",
   "metadata": {},
   "source": [
    "Each model has its own tokenizer because they each accept data in their own specific formats."
   ]
  },
  {
   "cell_type": "markdown",
   "id": "0f8eb249-93e7-451b-800e-7e59c8515cb4",
   "metadata": {},
   "source": [
    "I am running this model on the SJSU HPC (High-Performance Cluster) servers, so I had to download the model from HuggingFace to use locally. "
   ]
  },
  {
   "cell_type": "code",
   "execution_count": 129,
   "id": "07a73c98-8cc9-4286-a1f1-9888dc30a18b",
   "metadata": {},
   "outputs": [],
   "source": [
    "MODEL = \"./bert-base-uncased/\""
   ]
  },
  {
   "cell_type": "code",
   "execution_count": 130,
   "id": "49387c79-923e-4d73-bd17-034e4b893882",
   "metadata": {},
   "outputs": [],
   "source": [
    "tokenizer = AutoTokenizer.from_pretrained(MODEL)"
   ]
  },
  {
   "cell_type": "code",
   "execution_count": 131,
   "id": "72b1a5bc-3939-478f-a271-73e3778827c0",
   "metadata": {},
   "outputs": [
    {
     "name": "stderr",
     "output_type": "stream",
     "text": [
      "Some weights of BertForSequenceClassification were not initialized from the model checkpoint at ./bert-base-uncased/ and are newly initialized: ['classifier.bias', 'classifier.weight']\n",
      "You should probably TRAIN this model on a down-stream task to be able to use it for predictions and inference.\n"
     ]
    }
   ],
   "source": [
    "model = AutoModelForSequenceClassification.from_pretrained(MODEL, num_labels=4)"
   ]
  },
  {
   "cell_type": "markdown",
   "id": "829cbf63-c257-4ee5-b625-8dc008599530",
   "metadata": {},
   "source": [
    "## Loading Dataset"
   ]
  },
  {
   "cell_type": "markdown",
   "id": "1d292824-9268-4124-b704-42b7885a69b0",
   "metadata": {},
   "source": [
    "Currently, the dataset is loaded into a Pandas dataframe. It has to be loaded into a HuggingFace Dataset format in order to be compatible with the HuggingFace model."
   ]
  },
  {
   "cell_type": "code",
   "execution_count": 132,
   "id": "8b0de558-2d02-4117-95ee-a8b007c2a3d5",
   "metadata": {},
   "outputs": [],
   "source": [
    "def convert_to_HF(df):\n",
    "    dataset = Dataset.from_pandas(df)\n",
    "    if \"__index_level_0__\" in list(dataset.features.keys()):\n",
    "        dataset = dataset.remove_columns([\"__index_level_0__\"])\n",
    "    dataset = dataset.class_encode_column(\"type\")\n",
    "    \n",
    "    dataset = dataset.rename_column(\"url\", \"text\")\n",
    "    dataset = dataset.rename_column(\"type\", \"label\")\n",
    "\n",
    "    return dataset"
   ]
  },
  {
   "cell_type": "markdown",
   "id": "a3caef8a-a973-40aa-b509-1084709ae15f",
   "metadata": {},
   "source": [
    "BERT also expects the columns to be named \"text\" and \"label\"."
   ]
  },
  {
   "cell_type": "code",
   "execution_count": 133,
   "id": "09808c59-3678-400f-a787-e781fedf4c68",
   "metadata": {},
   "outputs": [
    {
     "name": "stderr",
     "output_type": "stream",
     "text": [
      "Casting to class labels: 100%|███| 1000/1000 [00:00<00:00, 141108.33 examples/s]\n"
     ]
    }
   ],
   "source": [
    "dataset = convert_to_HF(df)"
   ]
  },
  {
   "cell_type": "markdown",
   "id": "9b1be679-aa3f-479f-8f25-b8bccdd23955",
   "metadata": {},
   "source": [
    "Here I am getting the label names for the confusion matrix and classification report for the evaluation stage."
   ]
  },
  {
   "cell_type": "code",
   "execution_count": 134,
   "id": "c12c30a9-5007-4002-8e39-b02a321afed5",
   "metadata": {},
   "outputs": [],
   "source": [
    "target_labels = dataset.features[\"label\"].names"
   ]
  },
  {
   "cell_type": "code",
   "execution_count": 135,
   "id": "715a4acb-83ce-485b-a850-088368f839ea",
   "metadata": {},
   "outputs": [
    {
     "data": {
      "text/plain": [
       "['benign', 'defacement', 'malware', 'phishing']"
      ]
     },
     "execution_count": 135,
     "metadata": {},
     "output_type": "execute_result"
    }
   ],
   "source": [
    "target_labels"
   ]
  },
  {
   "cell_type": "code",
   "execution_count": 136,
   "id": "264ad71b-6e70-4b3f-8b8e-d70f658e242a",
   "metadata": {},
   "outputs": [
    {
     "data": {
      "text/plain": [
       "Dataset({\n",
       "    features: ['text', 'label'],\n",
       "    num_rows: 1000\n",
       "})"
      ]
     },
     "execution_count": 136,
     "metadata": {},
     "output_type": "execute_result"
    }
   ],
   "source": [
    "dataset"
   ]
  },
  {
   "cell_type": "markdown",
   "id": "3ca6c91d-52af-4295-ab41-92c86f4876c5",
   "metadata": {},
   "source": [
    "## BERT Tokenization"
   ]
  },
  {
   "cell_type": "markdown",
   "id": "a408f14b-3d2e-4785-9a35-998417a88228",
   "metadata": {},
   "source": [
    "The URLs need to be converted into numbers, so I use the BERT tokenizer here to convert the inputs into a format that BERT can recognize."
   ]
  },
  {
   "cell_type": "markdown",
   "id": "a73c9f71-5e60-4285-ad48-fa09dbe5d1c2",
   "metadata": {},
   "source": [
    "BERT uses a WordPiece tokenizer [4]. It uses the following formula to figure out what tokens pairs to merge together [4]:\n",
    "$$\n",
    "\\text{score} = \\frac{\\text{freq\\_of\\_pair}}{\\text{freq\\_of\\_first\\_element} \\times \\text{freq\\_of\\_second\\_element}}\n",
    "$$"
   ]
  },
  {
   "cell_type": "markdown",
   "id": "b3ff0522-ee62-4147-8d03-d0c548960250",
   "metadata": {},
   "source": [
    "It creates a library of tokens so that i can generalize to unseen words [4]."
   ]
  },
  {
   "cell_type": "markdown",
   "id": "5cb1d029-97b1-4a34-bcdf-d336fc6e0dc9",
   "metadata": {},
   "source": [
    "The formula above differentiates it from a more classic tokenization algorithm called BPE (byte-pair encoding), which only looks at the frequencies of token pairs [4]."
   ]
  },
  {
   "cell_type": "code",
   "execution_count": 137,
   "id": "1ac6abae-8203-40ea-8779-fcdcbc8ed86f",
   "metadata": {},
   "outputs": [],
   "source": [
    "def tokenize(data):\n",
    "    return tokenizer(data[\"text\"], padding=\"max_length\", return_tensors=\"pt\")"
   ]
  },
  {
   "cell_type": "code",
   "execution_count": 138,
   "id": "966ed298-fab0-4238-80c3-be4b672e4155",
   "metadata": {},
   "outputs": [
    {
     "name": "stderr",
     "output_type": "stream",
     "text": [
      "Map: 100%|█████████████████████████| 1000/1000 [00:00<00:00, 2729.71 examples/s]\n"
     ]
    }
   ],
   "source": [
    "tokenized_dataset = dataset.map(tokenize, batched=True)"
   ]
  },
  {
   "cell_type": "code",
   "execution_count": 139,
   "id": "e87c8282-2010-4309-89c8-cd8d88a951e8",
   "metadata": {},
   "outputs": [
    {
     "data": {
      "text/plain": [
       "Dataset({\n",
       "    features: ['text', 'label', 'input_ids', 'token_type_ids', 'attention_mask'],\n",
       "    num_rows: 1000\n",
       "})"
      ]
     },
     "execution_count": 139,
     "metadata": {},
     "output_type": "execute_result"
    }
   ],
   "source": [
    "tokenized_dataset"
   ]
  },
  {
   "cell_type": "markdown",
   "id": "76c9a1f4-f09e-4ac1-a6eb-e571ac12e4ea",
   "metadata": {},
   "source": [
    "## Dataset Split"
   ]
  },
  {
   "cell_type": "markdown",
   "id": "5fe8749a-9932-4b57-8edb-49d51a7274c0",
   "metadata": {},
   "source": [
    "I am splitting the dataset here into **train**, **validation**, and **test** sets."
   ]
  },
  {
   "cell_type": "code",
   "execution_count": 140,
   "id": "fbac6dfe-b3d8-4668-a3fd-5819eb6d2b17",
   "metadata": {},
   "outputs": [],
   "source": [
    "split_dataset = tokenized_dataset.train_test_split(test_size=0.1)"
   ]
  },
  {
   "cell_type": "code",
   "execution_count": 141,
   "id": "22384036-3822-43f5-84cf-d259e80b0267",
   "metadata": {},
   "outputs": [
    {
     "data": {
      "text/plain": [
       "DatasetDict({\n",
       "    train: Dataset({\n",
       "        features: ['text', 'label', 'input_ids', 'token_type_ids', 'attention_mask'],\n",
       "        num_rows: 900\n",
       "    })\n",
       "    test: Dataset({\n",
       "        features: ['text', 'label', 'input_ids', 'token_type_ids', 'attention_mask'],\n",
       "        num_rows: 100\n",
       "    })\n",
       "})"
      ]
     },
     "execution_count": 141,
     "metadata": {},
     "output_type": "execute_result"
    }
   ],
   "source": [
    "split_dataset"
   ]
  },
  {
   "cell_type": "code",
   "execution_count": 142,
   "id": "e31e8da6-7a29-4c00-b82d-7e0e68414fed",
   "metadata": {},
   "outputs": [],
   "source": [
    "train_eval_dataset = split_dataset[\"train\"]"
   ]
  },
  {
   "cell_type": "code",
   "execution_count": 143,
   "id": "b9237cba-2cb1-4b54-8264-88a3b4aedc79",
   "metadata": {},
   "outputs": [],
   "source": [
    "train_eval_split_dataset = train_eval_dataset.train_test_split(test_size=0.1)"
   ]
  },
  {
   "cell_type": "markdown",
   "id": "0a3e8783-3210-46a1-9cf5-afbeca45dbd8",
   "metadata": {},
   "source": [
    "Below are the three variables holding the data splits."
   ]
  },
  {
   "cell_type": "code",
   "execution_count": 144,
   "id": "181f28f7-22cc-46de-8be3-5d9961070507",
   "metadata": {},
   "outputs": [],
   "source": [
    "train_dataset = train_eval_split_dataset[\"train\"]"
   ]
  },
  {
   "cell_type": "code",
   "execution_count": 145,
   "id": "a85d2ddb-c729-4d1a-8697-486b36f00dd0",
   "metadata": {},
   "outputs": [],
   "source": [
    "eval_dataset = train_eval_split_dataset[\"test\"]"
   ]
  },
  {
   "cell_type": "code",
   "execution_count": 146,
   "id": "ef1e246e-bfbe-445d-917c-61a52ace74d3",
   "metadata": {},
   "outputs": [],
   "source": [
    "test_dataset = split_dataset[\"test\"]"
   ]
  },
  {
   "cell_type": "markdown",
   "id": "dfbba604-57a5-49eb-b74c-b2d2e2f1646b",
   "metadata": {},
   "source": [
    "Here you can see the number of data points for each data split."
   ]
  },
  {
   "cell_type": "code",
   "execution_count": 147,
   "id": "2181b3ed-e0a4-4498-ab75-74dac567ce1a",
   "metadata": {},
   "outputs": [
    {
     "data": {
      "text/plain": [
       "(Dataset({\n",
       "     features: ['text', 'label', 'input_ids', 'token_type_ids', 'attention_mask'],\n",
       "     num_rows: 810\n",
       " }),\n",
       " Dataset({\n",
       "     features: ['text', 'label', 'input_ids', 'token_type_ids', 'attention_mask'],\n",
       "     num_rows: 90\n",
       " }),\n",
       " Dataset({\n",
       "     features: ['text', 'label', 'input_ids', 'token_type_ids', 'attention_mask'],\n",
       "     num_rows: 100\n",
       " }))"
      ]
     },
     "execution_count": 147,
     "metadata": {},
     "output_type": "execute_result"
    }
   ],
   "source": [
    "train_dataset, eval_dataset, test_dataset"
   ]
  },
  {
   "cell_type": "markdown",
   "id": "cac1bafc-04a0-4478-96af-4fe1dd79c183",
   "metadata": {},
   "source": [
    "## BERT Fine-Tuning"
   ]
  },
  {
   "cell_type": "markdown",
   "id": "597ec4dd-22f1-43fc-a037-cd7692a7dfb0",
   "metadata": {},
   "source": [
    "This object specifies the training configuration arguments."
   ]
  },
  {
   "cell_type": "markdown",
   "id": "1dc299ad",
   "metadata": {},
   "source": [
    "The `output_dir` parameter specifies the directory where the model checkpoints will be stored. Model checkpoints store the model weights at predefined increments. \n",
    "\n",
    "The `num_train_epochs` parameter specifies the number of epochs that the model will train for. Each epoch goes through all of the batches of training data.\n",
    "\n",
    "The `learning_rate` parameter controls how fast or how slow the model will learn. A higher learning rate will cause the model to converge faster, but a slower learning rate will slow down the model learning and lessen overfitting.\n",
    "\n",
    "The `per_device_train_batch_size` parameter controls how large each batch of data is. "
   ]
  },
  {
   "cell_type": "code",
   "execution_count": 148,
   "id": "bf7016f7-1629-4cc2-b2d1-72d58b786792",
   "metadata": {
    "scrolled": true
   },
   "outputs": [],
   "source": [
    "training_args = TrainingArguments(output_dir=\"results\", \n",
    "                                  num_train_epochs=5,\n",
    "                                  logging_steps=1,\n",
    "                                  learning_rate=5e-5,\n",
    "                                  per_device_train_batch_size=8,\n",
    "                                  weight_decay=0,\n",
    "                                  evaluation_strategy=\"epoch\")"
   ]
  },
  {
   "cell_type": "markdown",
   "id": "5609bb71-b194-4b0a-98a4-3d1f0e89216f",
   "metadata": {},
   "source": [
    "I am using cross-entropy loss here because this is a multi-class classification problem. It compares the predicted probability distribution with the actual probability distribution and measures how close your predictions are. This provides more fine-grained tuning with probabilities."
   ]
  },
  {
   "cell_type": "code",
   "execution_count": 149,
   "id": "4c7a02a8-cd93-4521-8f37-b3bd6d1ff52d",
   "metadata": {},
   "outputs": [],
   "source": [
    "def compute_metrics(eval_pred):\n",
    "    logits, labels = eval_pred\n",
    "    sum = 0\n",
    "    for i in range(len(labels)):\n",
    "        raw_logits = logits[i]\n",
    "\n",
    "        # softmax calculation\n",
    "        exp_logits = np.exp(raw_logits)\n",
    "        norm_logits = exp_logits / np.sum(exp_logits, axis=0)\n",
    "        chosen_value = norm_logits[labels[i]]\n",
    "\n",
    "        # calculating the log of the probabilities\n",
    "        sum += np.log(chosen_value)\n",
    "    sum /= -len(labels)\n",
    "    return {\"cross_entropy\": sum}"
   ]
  },
  {
   "cell_type": "code",
   "execution_count": 150,
   "id": "c2c9867d-a1db-432e-afb7-f17b74887c6f",
   "metadata": {},
   "outputs": [
    {
     "name": "stderr",
     "output_type": "stream",
     "text": [
      "/home/012392471/miniconda3/envs/security/lib/python3.12/site-packages/accelerate/accelerator.py:436: FutureWarning: Passing the following arguments to `Accelerator` is deprecated and will be removed in version 1.0 of Accelerate: dict_keys(['dispatch_batches', 'split_batches', 'even_batches', 'use_seedable_sampler']). Please pass an `accelerate.DataLoaderConfiguration` instead: \n",
      "dataloader_config = DataLoaderConfiguration(dispatch_batches=None, split_batches=False, even_batches=True, use_seedable_sampler=True)\n",
      "  warnings.warn(\n",
      "Detected kernel version 3.10.0, which is below the recommended minimum of 5.5.0; this can cause the process to hang. It is recommended to upgrade the kernel to the minimum version or higher.\n"
     ]
    }
   ],
   "source": [
    "trainer = Trainer(\n",
    "    model=model,\n",
    "    args=training_args,\n",
    "    train_dataset=train_dataset,\n",
    "    eval_dataset=eval_dataset,\n",
    "    compute_metrics=compute_metrics,\n",
    ")"
   ]
  },
  {
   "cell_type": "code",
   "execution_count": 151,
   "id": "73077b72-efc9-44f1-98c2-61e6dc0d9c0b",
   "metadata": {},
   "outputs": [
    {
     "data": {
      "text/html": [
       "\n",
       "    <div>\n",
       "      \n",
       "      <progress value='510' max='510' style='width:300px; height:20px; vertical-align: middle;'></progress>\n",
       "      [510/510 04:12, Epoch 5/5]\n",
       "    </div>\n",
       "    <table border=\"1\" class=\"dataframe\">\n",
       "  <thead>\n",
       " <tr style=\"text-align: left;\">\n",
       "      <th>Epoch</th>\n",
       "      <th>Training Loss</th>\n",
       "      <th>Validation Loss</th>\n",
       "      <th>Cross Entropy</th>\n",
       "    </tr>\n",
       "  </thead>\n",
       "  <tbody>\n",
       "    <tr>\n",
       "      <td>1</td>\n",
       "      <td>0.062000</td>\n",
       "      <td>0.531213</td>\n",
       "      <td>0.531213</td>\n",
       "    </tr>\n",
       "    <tr>\n",
       "      <td>2</td>\n",
       "      <td>0.043900</td>\n",
       "      <td>0.506172</td>\n",
       "      <td>0.506172</td>\n",
       "    </tr>\n",
       "    <tr>\n",
       "      <td>3</td>\n",
       "      <td>0.027400</td>\n",
       "      <td>0.545509</td>\n",
       "      <td>0.545509</td>\n",
       "    </tr>\n",
       "    <tr>\n",
       "      <td>4</td>\n",
       "      <td>0.004600</td>\n",
       "      <td>0.499624</td>\n",
       "      <td>0.499624</td>\n",
       "    </tr>\n",
       "    <tr>\n",
       "      <td>5</td>\n",
       "      <td>0.003500</td>\n",
       "      <td>0.452084</td>\n",
       "      <td>0.452085</td>\n",
       "    </tr>\n",
       "  </tbody>\n",
       "</table><p>"
      ],
      "text/plain": [
       "<IPython.core.display.HTML object>"
      ]
     },
     "metadata": {},
     "output_type": "display_data"
    },
    {
     "data": {
      "text/plain": [
       "TrainOutput(global_step=510, training_loss=0.3429821028465442, metrics={'train_runtime': 253.2266, 'train_samples_per_second': 15.994, 'train_steps_per_second': 2.014, 'total_flos': 1065618909388800.0, 'train_loss': 0.3429821028465442, 'epoch': 5.0})"
      ]
     },
     "execution_count": 151,
     "metadata": {},
     "output_type": "execute_result"
    }
   ],
   "source": [
    "trainer.train()"
   ]
  },
  {
   "cell_type": "markdown",
   "id": "8c1eaa67-862f-4fd1-9c91-56bcce5390ec",
   "metadata": {},
   "source": [
    "## Predictions"
   ]
  },
  {
   "cell_type": "markdown",
   "id": "594b1f19-4685-485b-ac25-91398dad2072",
   "metadata": {},
   "source": [
    "Now we perform prediction on the test dataset we put aside."
   ]
  },
  {
   "cell_type": "code",
   "execution_count": 152,
   "id": "7e3011b8-f719-4006-9736-545e914c9cef",
   "metadata": {},
   "outputs": [
    {
     "data": {
      "text/html": [],
      "text/plain": [
       "<IPython.core.display.HTML object>"
      ]
     },
     "metadata": {},
     "output_type": "display_data"
    }
   ],
   "source": [
    "predictions = trainer.predict(test_dataset)\n",
    "predicted_labels = np.argmax(predictions.predictions, axis=-1)"
   ]
  },
  {
   "cell_type": "code",
   "execution_count": 153,
   "id": "4961d784-55f5-400a-a74e-48137d13a8a8",
   "metadata": {},
   "outputs": [],
   "source": [
    "true_labels = test_dataset[\"label\"]"
   ]
  },
  {
   "cell_type": "code",
   "execution_count": 154,
   "id": "0461980c-f5ce-4344-a276-8e820c921359",
   "metadata": {},
   "outputs": [],
   "source": [
    "conf_mat = confusion_matrix(true_labels, predicted_labels, labels=np.arange(4))"
   ]
  },
  {
   "cell_type": "markdown",
   "id": "e59c9da0-dd8c-460d-9a1d-8322740ba944",
   "metadata": {},
   "source": [
    "It is important to see how the model performs across the different classes. A single accuracy value averaged across all of the classes provides an insufficient evaluation of the model's performance. As mentioned earlier, there is a class imbalance. If the model boasts an accuracy of 90%, it does not provide information on the under-represented classes. Therefore, it is vital to look at the precision, recall, and F-1 score for each class. These metrics are detailed in the classification report below.\n",
    "\n",
    "Precision measures the confidence of the model’s predictions. Recall measures how many positive class samples were correctly identified by the model. F-1 score is the harmonic mean of both precision and recall."
   ]
  },
  {
   "cell_type": "code",
   "execution_count": 155,
   "id": "2a8f295b-090d-4886-895a-37329c0a4d08",
   "metadata": {},
   "outputs": [
    {
     "data": {
      "image/png": "[encoded data removed]",
      "text/plain": [
       "<Figure size 700x400 with 2 Axes>"
      ]
     },
     "metadata": {},
     "output_type": "display_data"
    }
   ],
   "source": [
    "plt.figure(figsize=(7, 4))\n",
    "sns.heatmap(conf_mat, annot=True, fmt=\"d\", cmap=\"Blues\", xticklabels=target_labels, yticklabels=target_labels)\n",
    "plt.xlabel('Predicted Labels')\n",
    "plt.ylabel('True Labels')\n",
    "plt.title('Confusion Matrix')\n",
    "plt.show()"
   ]
  },
  {
   "cell_type": "markdown",
   "id": "ae45b831-d914-4883-86e9-85cba502a3e1",
   "metadata": {},
   "source": [
    "The classification report below shows precision, recall, F-1 score, and support for each class. Support is the number of occurences of each class in the dataset."
   ]
  },
  {
   "cell_type": "code",
   "execution_count": 156,
   "id": "ba2e79bb-843a-4100-abc0-126a8c7d3cb0",
   "metadata": {},
   "outputs": [
    {
     "name": "stdout",
     "output_type": "stream",
     "text": [
      "              precision    recall  f1-score   support\n",
      "\n",
      "      benign       0.94      0.81      0.87        21\n",
      "  defacement       0.97      0.94      0.96        35\n",
      "     malware       0.94      0.79      0.86        19\n",
      "    phishing       0.75      0.96      0.84        25\n",
      "\n",
      "    accuracy                           0.89       100\n",
      "   macro avg       0.90      0.88      0.88       100\n",
      "weighted avg       0.90      0.89      0.89       100\n",
      "\n"
     ]
    }
   ],
   "source": [
    "report = classification_report(true_labels, predicted_labels, labels=np.arange(4), target_names=target_labels, output_dict=False)\n",
    "print(report)"
   ]
  },
  {
   "cell_type": "markdown",
   "id": "2873a4de-a98c-4f04-be43-2ac8240911fc",
   "metadata": {},
   "source": [
    "# Results\n"
   ]
  },
  {
   "cell_type": "markdown",
   "id": "2796a457-1be7-48e9-a1c0-d635130934fb",
   "metadata": {},
   "source": [
    "The cells below show the F-1 scores for malware classification for a few parameters, namely `learning_rate` and `batch_size`. The table illustrations are derived from the code on this site [5]."
   ]
  },
  {
   "cell_type": "code",
   "execution_count": 31,
   "id": "2a0f1549-b3df-4954-8d78-7a0c521be6e0",
   "metadata": {},
   "outputs": [],
   "source": [
    "def createFigure(df, title):\n",
    "    #initialize figure\n",
    "    fig = plt.figure(figsize = (6, .4))\n",
    "    ax = fig.add_subplot(111)\n",
    "    \n",
    "    #create table\n",
    "    ax.table(cellText = df.values, rowLabels = df.index, \n",
    "             colLabels = df.columns, cellLoc='center')\n",
    "    \n",
    "    #add title to table\n",
    "    ax.set_title(title)\n",
    "    \n",
    "    #turn axes off\n",
    "    ax.axis('off')"
   ]
  },
  {
   "cell_type": "markdown",
   "id": "764d59ea-49b3-4369-aa03-f0a4677d8378",
   "metadata": {},
   "source": [
    "A learning rate of 5e-5 is the best for both imbalanced and balanced data. A low learning rate underfits by taking too long to converge, while a high learning rate overfits by converging too fast."
   ]
  },
  {
   "cell_type": "code",
   "execution_count": 32,
   "id": "1f00fea3-06ad-497c-b7dd-6efd5209b012",
   "metadata": {},
   "outputs": [
    {
     "data": {
      "image/png": "[encoded data removed]",
      "text/plain": [
       "<Figure size 600x40 with 1 Axes>"
      ]
     },
     "metadata": {},
     "output_type": "display_data"
    }
   ],
   "source": [
    "d_lr = {\n",
    "    \"5e-4\": [0.00, 0.00],\n",
    "    \"5e-5\": [0.80, 0.86],\n",
    "    \"5e-6\": [0.67, 0.84],\n",
    "    \"5e-7\": [0.00, 0.46]\n",
    "}\n",
    "\n",
    "lr_df = pd.DataFrame(d_lr, index=[\"imbalanced\", \"balanced\"])\n",
    "createFigure(lr_df, \"F-1 Scores for Malware; Varying Learning Rate\")"
   ]
  },
  {
   "cell_type": "markdown",
   "id": "087ccf36-8206-404f-8137-eed6ad734962",
   "metadata": {},
   "source": [
    "A batch size of 8 is better for imbalanced data, while a batch size of 4 is better for balanced data. This may be the case because imbalanced data needs more samples per batch to train better."
   ]
  },
  {
   "cell_type": "code",
   "execution_count": 33,
   "id": "c0758884-6522-4599-b6de-50cf6e84914c",
   "metadata": {},
   "outputs": [
    {
     "data": {
      "image/png": "[encoded data removed]",
      "text/plain": [
       "<Figure size 600x40 with 1 Axes>"
      ]
     },
     "metadata": {},
     "output_type": "display_data"
    }
   ],
   "source": [
    "d_batch_size = {\n",
    "    \"2\": [0.33, 0.88],\n",
    "    \"4\": [0.50, 0.92],\n",
    "    \"8\": [0.86, 0.84],\n",
    "    \"16\": [0.57, 0.91]\n",
    "}\n",
    "\n",
    "batch_size_df = pd.DataFrame(d_batch_size, index=[\"imbalanced\", \"balanced\"])\n",
    "createFigure(batch_size_df, \"F-1 Scores for Malware; Varying Batch Size\")"
   ]
  },
  {
   "cell_type": "markdown",
   "id": "c8c7fe00-3a42-4a93-b4d9-fa9ff1e62777",
   "metadata": {},
   "source": [
    "In conclusion, BERT takes more computational power but can learn better with less samples. It removes the overhead of manually creating tokens or hand-engineered features. The main advantage to this method is the ability to generalize. However, it misses out on additional info, such as DNS/host information or webpage content.\n",
    "\n",
    "For future work, I hope to try out different BERT models from HuggingFace  to try to improve performance. I will also try out additional hyperparameter optimizers, like LoRA (low rank adaptation) or Bayesian optimizers.\n"
   ]
  },
  {
   "cell_type": "markdown",
   "id": "14086ab5-c392-4dca-a359-8c9b07c7dc37",
   "metadata": {},
   "source": [
    "# References\n",
    "\n",
    "[1] https://www.kaggle.com/datasets/sid321axn/malicious-urls-dataset\n",
    "\n",
    "[2] https://www.unb.ca/cic/datasets/url-2016.html\n",
    "\n",
    "[3] https://stackoverflow.com/questions/55042334/pandas-sample-with-weights \n",
    "\n",
    "[4] https://huggingface.co/learn/nlp-course/en/chapter6/6\n",
    "\n",
    "[5] https://scales.arabpsychology.com/stats/how-to-add-title-to-pandas-dataframe/"
   ]
  },
  {
   "cell_type": "code",
   "execution_count": null,
   "id": "743af76b-d822-4dd4-bdb9-eb23934ac82f",
   "metadata": {},
   "outputs": [],
   "source": []
  },
  {
   "cell_type": "markdown",
   "id": "bbb5db14",
   "metadata": {},
   "source": [
    "# Malicious URL Analysis Using Classification"
   ]
  },
  {
   "cell_type": "markdown",
   "id": "0887d379",
   "metadata": {},
   "source": [
    "## Abstract\n",
    "The purpose of this exploration was to determine if an AI classification model could be used to determine whether a URL is malicious or not. To perform this analysis, the machine learning tool scikit-learn was used with pandas, matplotlib, and seaborn used for result visualization. The dataset used is by Manu Siddhartha consisting of 650,000 URLs classified into 4 categories: Benign, Defacement, Phishing, and Malware. For the purposes of testing efficiency, a 150,000 portion of the complete dataset were randomly selected at the start of each iteration. The machine learning models used to classify the URLs were SVM (Support Vector Machine), Random Forest, and K-Nearest Neighbors (KNN). All these models specialize in classification problems such as this one. To obtain predefined data, URLs were analyzed using 7 main features. After the analysis, 30% of the analyzed data were randomly selected for model training. The results from multiple iterations showed Random Forest performed the best among the 3 models with higher precision, true positive rates, and true negative rates across all types. SVM and KNN both performed equally. Both models had minimal differences in terms of accuracy and precision metrics. The highest achieved accuracy was by random forest with an accuracy of about 92%. It is important to note that this general accuracy is subject to scrutiny since this accuracy does not take into account the number of types in each category. Future research would need to include different models and more features to analyze to filter down to the most important ones. In conclusion, this exploration demonstrated that it is possible to know whether a URL is malicious and that random forest was the most effective out of the 3 models tested, but it is difficult to surmise the type of maliciousness from the URL alone."
   ]
  },
  {
   "cell_type": "markdown",
   "id": "52a5266b",
   "metadata": {},
   "source": [
    "Keywords-Classification, Python, Artificial Intelligence, AI, Security, Cybersecurity, URL, Uniform Resource Locator"
   ]
  },
  {
   "cell_type": "markdown",
   "id": "67834236",
   "metadata": {},
   "source": [
    "### Introduction\n",
    "\n",
    "Classification models in AI specialize in finding patterns in data and accurately placing data into set categories. Of the possible ways to utilize classification models, this research will focus on identifying and classifying potentially malicious URLs (Uniform Resource Locators) such as phishing, malware, and defacement to protect users against such online threats. Additionally, this process would also reduce the time and effort a system administrator would have to take to manual intervention against such threats. \n",
    "\n",
    "Traditional methods of guarding against harmful web pages rely on manual intervention of classifying URLs through hands-on detection and remediation in the form of blacklists and firewall rules. However, given the growth and increasing sophistication of threats on the web, the practicality of such work given the time expended should be called into question. \n",
    "\n",
    "To address these challenges, classification models can be used to categorize URLs into either benign or malicious URLs. In this study, three popular algorithms were employed: Support Vector Machines (SVM), Random Forest, and K-Nearest Neighbors (KNN). These algorithms work well in classification tasks and have been used in a variety of domains both in and out of cybersecurity. \n",
    "\n",
    "As an overview, SVM works by computing the hyperplane that best separates different classes of data points to maximize the distance between them. Random forest creates decision trees during training and uses these as the basis for classification. Lastly, KNN classifies objects based on the relative distance from other classes in the feature space.\n",
    "\n",
    "To evaluate the effectiveness of these algorithms, a dataset of 650,000 URLS were obtained with 4 distinct categories: Benign, Defacement, Phishing, and Malware. Benign URLs are harmless, defacement URLs contain modified content similar to a benign site, phishing URLs lead to sites that attempt to phish for user data, and malware URLs contain malicious code intended for a user's computer. These algorithms were each benchmarked against each other using a random subset of the full dataset and each algorithm used the same random set. \n",
    "\n",
    "The goal of this research is to develop a robust and automated system capable of accurately identifying malicious URLs, which would both reduce the risk and effort that would be otherwise taken by cybersecurity professionals. "
   ]
  },
  {
   "cell_type": "code",
   "execution_count": 1,
   "id": "7a289eed",
   "metadata": {},
   "outputs": [
    {
     "name": "stdout",
     "output_type": "stream",
     "text": [
      "Requirement already satisfied: pandas in c:\\users\\andrew\\documents\\vsprojects\\cmpe279\\lexical_analysis_urls\\.venv\\lib\\site-packages (2.2.2)\n",
      "Requirement already satisfied: numpy>=1.23.2 in c:\\users\\andrew\\documents\\vsprojects\\cmpe279\\lexical_analysis_urls\\.venv\\lib\\site-packages (from pandas) (1.26.4)\n",
      "Requirement already satisfied: python-dateutil>=2.8.2 in c:\\users\\andrew\\documents\\vsprojects\\cmpe279\\lexical_analysis_urls\\.venv\\lib\\site-packages (from pandas) (2.9.0.post0)\n",
      "Requirement already satisfied: pytz>=2020.1 in c:\\users\\andrew\\documents\\vsprojects\\cmpe279\\lexical_analysis_urls\\.venv\\lib\\site-packages (from pandas) (2024.1)\n",
      "Requirement already satisfied: tzdata>=2022.7 in c:\\users\\andrew\\documents\\vsprojects\\cmpe279\\lexical_analysis_urls\\.venv\\lib\\site-packages (from pandas) (2024.1)\n",
      "Requirement already satisfied: six>=1.5 in c:\\users\\andrew\\documents\\vsprojects\\cmpe279\\lexical_analysis_urls\\.venv\\lib\\site-packages (from python-dateutil>=2.8.2->pandas) (1.16.0)\n",
      "Note: you may need to restart the kernel to use updated packages.\n",
      "Requirement already satisfied: numpy in c:\\users\\andrew\\documents\\vsprojects\\cmpe279\\lexical_analysis_urls\\.venv\\lib\\site-packages (1.26.4)\n",
      "Note: you may need to restart the kernel to use updated packages.\n",
      "Requirement already satisfied: scikit-learn in c:\\users\\andrew\\documents\\vsprojects\\cmpe279\\lexical_analysis_urls\\.venv\\lib\\site-packages (1.4.2)\n",
      "Requirement already satisfied: numpy>=1.19.5 in c:\\users\\andrew\\documents\\vsprojects\\cmpe279\\lexical_analysis_urls\\.venv\\lib\\site-packages (from scikit-learn) (1.26.4)\n",
      "Requirement already satisfied: scipy>=1.6.0 in c:\\users\\andrew\\documents\\vsprojects\\cmpe279\\lexical_analysis_urls\\.venv\\lib\\site-packages (from scikit-learn) (1.13.0)\n",
      "Requirement already satisfied: joblib>=1.2.0 in c:\\users\\andrew\\documents\\vsprojects\\cmpe279\\lexical_analysis_urls\\.venv\\lib\\site-packages (from scikit-learn) (1.4.0)\n",
      "Requirement already satisfied: threadpoolctl>=2.0.0 in c:\\users\\andrew\\documents\\vsprojects\\cmpe279\\lexical_analysis_urls\\.venv\\lib\\site-packages (from scikit-learn) (3.4.0)\n",
      "Note: you may need to restart the kernel to use updated packages.\n",
      "Requirement already satisfied: tldextract in c:\\users\\andrew\\documents\\vsprojects\\cmpe279\\lexical_analysis_urls\\.venv\\lib\\site-packages (5.1.2)\n",
      "Requirement already satisfied: idna in c:\\users\\andrew\\documents\\vsprojects\\cmpe279\\lexical_analysis_urls\\.venv\\lib\\site-packages (from tldextract) (3.7)\n",
      "Requirement already satisfied: requests>=2.1.0 in c:\\users\\andrew\\documents\\vsprojects\\cmpe279\\lexical_analysis_urls\\.venv\\lib\\site-packages (from tldextract) (2.31.0)\n",
      "Requirement already satisfied: requests-file>=1.4 in c:\\users\\andrew\\documents\\vsprojects\\cmpe279\\lexical_analysis_urls\\.venv\\lib\\site-packages (from tldextract) (2.0.0)\n",
      "Requirement already satisfied: filelock>=3.0.8 in c:\\users\\andrew\\documents\\vsprojects\\cmpe279\\lexical_analysis_urls\\.venv\\lib\\site-packages (from tldextract) (3.13.4)\n",
      "Requirement already satisfied: charset-normalizer<4,>=2 in c:\\users\\andrew\\documents\\vsprojects\\cmpe279\\lexical_analysis_urls\\.venv\\lib\\site-packages (from requests>=2.1.0->tldextract) (3.3.2)\n",
      "Requirement already satisfied: urllib3<3,>=1.21.1 in c:\\users\\andrew\\documents\\vsprojects\\cmpe279\\lexical_analysis_urls\\.venv\\lib\\site-packages (from requests>=2.1.0->tldextract) (2.2.1)\n",
      "Requirement already satisfied: certifi>=2017.4.17 in c:\\users\\andrew\\documents\\vsprojects\\cmpe279\\lexical_analysis_urls\\.venv\\lib\\site-packages (from requests>=2.1.0->tldextract) (2024.2.2)\n",
      "Note: you may need to restart the kernel to use updated packages.\n",
      "Requirement already satisfied: matplotlib in c:\\users\\andrew\\documents\\vsprojects\\cmpe279\\lexical_analysis_urls\\.venv\\lib\\site-packages (3.8.4)\n",
      "Requirement already satisfied: contourpy>=1.0.1 in c:\\users\\andrew\\documents\\vsprojects\\cmpe279\\lexical_analysis_urls\\.venv\\lib\\site-packages (from matplotlib) (1.2.1)\n",
      "Requirement already satisfied: cycler>=0.10 in c:\\users\\andrew\\documents\\vsprojects\\cmpe279\\lexical_analysis_urls\\.venv\\lib\\site-packages (from matplotlib) (0.12.1)\n",
      "Requirement already satisfied: fonttools>=4.22.0 in c:\\users\\andrew\\documents\\vsprojects\\cmpe279\\lexical_analysis_urls\\.venv\\lib\\site-packages (from matplotlib) (4.51.0)\n",
      "Requirement already satisfied: kiwisolver>=1.3.1 in c:\\users\\andrew\\documents\\vsprojects\\cmpe279\\lexical_analysis_urls\\.venv\\lib\\site-packages (from matplotlib) (1.4.5)\n",
      "Requirement already satisfied: numpy>=1.21 in c:\\users\\andrew\\documents\\vsprojects\\cmpe279\\lexical_analysis_urls\\.venv\\lib\\site-packages (from matplotlib) (1.26.4)\n",
      "Requirement already satisfied: packaging>=20.0 in c:\\users\\andrew\\documents\\vsprojects\\cmpe279\\lexical_analysis_urls\\.venv\\lib\\site-packages (from matplotlib) (24.0)\n",
      "Requirement already satisfied: pillow>=8 in c:\\users\\andrew\\documents\\vsprojects\\cmpe279\\lexical_analysis_urls\\.venv\\lib\\site-packages (from matplotlib) (10.3.0)\n",
      "Requirement already satisfied: pyparsing>=2.3.1 in c:\\users\\andrew\\documents\\vsprojects\\cmpe279\\lexical_analysis_urls\\.venv\\lib\\site-packages (from matplotlib) (3.1.2)\n",
      "Requirement already satisfied: python-dateutil>=2.7 in c:\\users\\andrew\\documents\\vsprojects\\cmpe279\\lexical_analysis_urls\\.venv\\lib\\site-packages (from matplotlib) (2.9.0.post0)\n",
      "Requirement already satisfied: six>=1.5 in c:\\users\\andrew\\documents\\vsprojects\\cmpe279\\lexical_analysis_urls\\.venv\\lib\\site-packages (from python-dateutil>=2.7->matplotlib) (1.16.0)\n",
      "Note: you may need to restart the kernel to use updated packages.\n",
      "Requirement already satisfied: seaborn in c:\\users\\andrew\\documents\\vsprojects\\cmpe279\\lexical_analysis_urls\\.venv\\lib\\site-packages (0.13.2)\n",
      "Requirement already satisfied: numpy!=1.24.0,>=1.20 in c:\\users\\andrew\\documents\\vsprojects\\cmpe279\\lexical_analysis_urls\\.venv\\lib\\site-packages (from seaborn) (1.26.4)\n",
      "Requirement already satisfied: pandas>=1.2 in c:\\users\\andrew\\documents\\vsprojects\\cmpe279\\lexical_analysis_urls\\.venv\\lib\\site-packages (from seaborn) (2.2.2)\n",
      "Requirement already satisfied: matplotlib!=3.6.1,>=3.4 in c:\\users\\andrew\\documents\\vsprojects\\cmpe279\\lexical_analysis_urls\\.venv\\lib\\site-packages (from seaborn) (3.8.4)\n",
      "Requirement already satisfied: contourpy>=1.0.1 in c:\\users\\andrew\\documents\\vsprojects\\cmpe279\\lexical_analysis_urls\\.venv\\lib\\site-packages (from matplotlib!=3.6.1,>=3.4->seaborn) (1.2.1)\n",
      "Requirement already satisfied: cycler>=0.10 in c:\\users\\andrew\\documents\\vsprojects\\cmpe279\\lexical_analysis_urls\\.venv\\lib\\site-packages (from matplotlib!=3.6.1,>=3.4->seaborn) (0.12.1)\n",
      "Requirement already satisfied: fonttools>=4.22.0 in c:\\users\\andrew\\documents\\vsprojects\\cmpe279\\lexical_analysis_urls\\.venv\\lib\\site-packages (from matplotlib!=3.6.1,>=3.4->seaborn) (4.51.0)\n",
      "Requirement already satisfied: kiwisolver>=1.3.1 in c:\\users\\andrew\\documents\\vsprojects\\cmpe279\\lexical_analysis_urls\\.venv\\lib\\site-packages (from matplotlib!=3.6.1,>=3.4->seaborn) (1.4.5)\n",
      "Requirement already satisfied: packaging>=20.0 in c:\\users\\andrew\\documents\\vsprojects\\cmpe279\\lexical_analysis_urls\\.venv\\lib\\site-packages (from matplotlib!=3.6.1,>=3.4->seaborn) (24.0)\n",
      "Requirement already satisfied: pillow>=8 in c:\\users\\andrew\\documents\\vsprojects\\cmpe279\\lexical_analysis_urls\\.venv\\lib\\site-packages (from matplotlib!=3.6.1,>=3.4->seaborn) (10.3.0)\n",
      "Requirement already satisfied: pyparsing>=2.3.1 in c:\\users\\andrew\\documents\\vsprojects\\cmpe279\\lexical_analysis_urls\\.venv\\lib\\site-packages (from matplotlib!=3.6.1,>=3.4->seaborn) (3.1.2)\n",
      "Requirement already satisfied: python-dateutil>=2.7 in c:\\users\\andrew\\documents\\vsprojects\\cmpe279\\lexical_analysis_urls\\.venv\\lib\\site-packages (from matplotlib!=3.6.1,>=3.4->seaborn) (2.9.0.post0)\n",
      "Requirement already satisfied: pytz>=2020.1 in c:\\users\\andrew\\documents\\vsprojects\\cmpe279\\lexical_analysis_urls\\.venv\\lib\\site-packages (from pandas>=1.2->seaborn) (2024.1)\n",
      "Requirement already satisfied: tzdata>=2022.7 in c:\\users\\andrew\\documents\\vsprojects\\cmpe279\\lexical_analysis_urls\\.venv\\lib\\site-packages (from pandas>=1.2->seaborn) (2024.1)\n",
      "Requirement already satisfied: six>=1.5 in c:\\users\\andrew\\documents\\vsprojects\\cmpe279\\lexical_analysis_urls\\.venv\\lib\\site-packages (from python-dateutil>=2.7->matplotlib!=3.6.1,>=3.4->seaborn) (1.16.0)\n",
      "Note: you may need to restart the kernel to use updated packages.\n",
      "Note: you may need to restart the kernel to use updated packages.\n"
     ]
    },
    {
     "name": "stderr",
     "output_type": "stream",
     "text": [
      "ERROR: Could not find a version that satisfies the requirement pickle (from versions: none)\n",
      "ERROR: No matching distribution found for pickle\n"
     ]
    }
   ],
   "source": [
    "# install dependencies\n",
    "%pip install pandas\n",
    "%pip install numpy\n",
    "%pip install scikit-learn\n",
    "%pip install tldextract\n",
    "%pip install matplotlib\n",
    "%pip install seaborn\n",
    "%pip install pickle\n"
   ]
  },
  {
   "cell_type": "code",
   "execution_count": 2,
   "id": "3d99bf68",
   "metadata": {},
   "outputs": [],
   "source": [
    "import pandas as pd\n",
    "import matplotlib.pyplot as plt\n",
    "import numpy as np\n",
    "import os\n",
    "import pickle\n",
    "import re\n",
    "import seaborn as sns\n",
    "from sklearn.svm import SVC\n",
    "from sklearn.ensemble import RandomForestClassifier\n",
    "from sklearn.preprocessing import StandardScaler\n",
    "from sklearn.neighbors import KNeighborsClassifier\n",
    "from sklearn.model_selection import train_test_split\n",
    "from sklearn.metrics import accuracy_score, classification_report, confusion_matrix\n",
    "import tldextract as tlde"
   ]
  },
  {
   "cell_type": "code",
   "execution_count": 3,
   "id": "6e178fe2",
   "metadata": {},
   "outputs": [
    {
     "data": {
      "text/plain": [
       "(150000, 2)"
      ]
     },
     "execution_count": 3,
     "metadata": {},
     "output_type": "execute_result"
    }
   ],
   "source": [
    "#load data and check if valid\n",
    "NUM_SAMPLES = 150000\n",
    "df = pd.read_csv(\"malicious_phish.csv\")\n",
    "df = df.sample(n=NUM_SAMPLES, replace=False, random_state=51)\n",
    "df.head()\n",
    "df.shape"
   ]
  },
  {
   "cell_type": "code",
   "execution_count": 4,
   "id": "ad69d928",
   "metadata": {},
   "outputs": [
    {
     "data": {
      "text/plain": [
       "url     0\n",
       "type    0\n",
       "dtype: int64"
      ]
     },
     "execution_count": 4,
     "metadata": {},
     "output_type": "execute_result"
    }
   ],
   "source": [
    "df.isnull().sum()"
   ]
  },
  {
   "cell_type": "code",
   "execution_count": 5,
   "id": "c0caad8a",
   "metadata": {},
   "outputs": [
    {
     "data": {
      "text/plain": [
       "type\n",
       "benign        98466\n",
       "defacement    22188\n",
       "phishing      21841\n",
       "malware        7505\n",
       "Name: count, dtype: int64"
      ]
     },
     "execution_count": 5,
     "metadata": {},
     "output_type": "execute_result"
    }
   ],
   "source": [
    "type_counts = df[\"type\"].value_counts()\n",
    "type_counts"
   ]
  },
  {
   "cell_type": "code",
   "execution_count": 6,
   "id": "8cb34ad2",
   "metadata": {},
   "outputs": [
    {
     "data": {
      "image/png": "[encoded data removed]",
      "text/plain": [
       "<Figure size 600x600 with 1 Axes>"
      ]
     },
     "metadata": {},
     "output_type": "display_data"
    }
   ],
   "source": [
    "# display distribution\n",
    "plt.figure(figsize=(6, 6))\n",
    "plt.pie(\n",
    "    type_counts,\n",
    "    labels=type_counts.index,\n",
    "    autopct=\"%1.1f%%\", # percentage formatting\n",
    "    colors=sns.color_palette(\"pastel\"),\n",
    ")\n",
    "plt.title(\"Distribution of Urls\")\n",
    "plt.show()\n"
   ]
  },
  {
   "cell_type": "code",
   "execution_count": 7,
   "id": "8ddbb1d3",
   "metadata": {},
   "outputs": [
    {
     "data": {
      "text/html": [
       "<div>\n",
       "<style scoped>\n",
       "    .dataframe tbody tr th:only-of-type {\n",
       "        vertical-align: middle;\n",
       "    }\n",
       "\n",
       "    .dataframe tbody tr th {\n",
       "        vertical-align: top;\n",
       "    }\n",
       "\n",
       "    .dataframe thead th {\n",
       "        text-align: right;\n",
       "    }\n",
       "</style>\n",
       "<table border=\"1\" class=\"dataframe\">\n",
       "  <thead>\n",
       "    <tr style=\"text-align: right;\">\n",
       "      <th></th>\n",
       "      <th>url</th>\n",
       "      <th>type</th>\n",
       "    </tr>\n",
       "  </thead>\n",
       "  <tbody>\n",
       "    <tr>\n",
       "      <th>188842</th>\n",
       "      <td>espn.go.com/mlb/team/_/name/tex/texas-rangers</td>\n",
       "      <td>benign</td>\n",
       "    </tr>\n",
       "    <tr>\n",
       "      <th>52618</th>\n",
       "      <td>http://onedio.com/haber/ogrencileri-duman-kons...</td>\n",
       "      <td>benign</td>\n",
       "    </tr>\n",
       "    <tr>\n",
       "      <th>601223</th>\n",
       "      <td>.battle.com.wwowus.net/login/en/?3Fref=eu.batt...</td>\n",
       "      <td>benign</td>\n",
       "    </tr>\n",
       "    <tr>\n",
       "      <th>337542</th>\n",
       "      <td>http://tinnhanh360.net/nghi-le-chao-doi--thach...</td>\n",
       "      <td>benign</td>\n",
       "    </tr>\n",
       "    <tr>\n",
       "      <th>64374</th>\n",
       "      <td>kvha.org/</td>\n",
       "      <td>benign</td>\n",
       "    </tr>\n",
       "  </tbody>\n",
       "</table>\n",
       "</div>"
      ],
      "text/plain": [
       "                                                      url    type\n",
       "188842      espn.go.com/mlb/team/_/name/tex/texas-rangers  benign\n",
       "52618   http://onedio.com/haber/ogrencileri-duman-kons...  benign\n",
       "601223  .battle.com.wwowus.net/login/en/?3Fref=eu.batt...  benign\n",
       "337542  http://tinnhanh360.net/nghi-le-chao-doi--thach...  benign\n",
       "64374                                           kvha.org/  benign"
      ]
     },
     "execution_count": 7,
     "metadata": {},
     "output_type": "execute_result"
    }
   ],
   "source": [
    "# remove www. from all URLs\n",
    "df[\"url\"] = df[\"url\"].str.replace(\"www\", \"\")\n",
    "df.head()\n"
   ]
  },
  {
   "cell_type": "markdown",
   "id": "8e978118",
   "metadata": {},
   "source": [
    "## Methods\n",
    "Each category of URL was mapped to a number 0-3. These numbers make it easier for the classification models used later to classify these URLs. There were a total of 7 major categories: URL length, Presence in Alexa's Top 1000 domains, HTTP or HTTPS status, Frequency of special characters, Digit-to-letter ratio, whether or not the domain contains an IP, and whether or not the domain has been shortened by a service. These categories were computed and transformed into values that an ML model could understand and placed in a Pandas DataFrame. 3 models from SciKitLearn were used for this analysis, Support Vector Machine, Random Forest, and K-Nearest Neighbors. The data used for training and testing were the same across all 3 models and the original data was randomized to ensure no bias in the structure of the data. A total of 150,000 data points were selected and 30% were selected for testing while 70% of the data were selected for training. After training and testing each model, statistics were recorded using a confusion matrix and accuracy calculations."
   ]
  },
  {
   "cell_type": "code",
   "execution_count": 8,
   "id": "6ce9fc10",
   "metadata": {},
   "outputs": [
    {
     "data": {
      "text/html": [
       "<div>\n",
       "<style scoped>\n",
       "    .dataframe tbody tr th:only-of-type {\n",
       "        vertical-align: middle;\n",
       "    }\n",
       "\n",
       "    .dataframe tbody tr th {\n",
       "        vertical-align: top;\n",
       "    }\n",
       "\n",
       "    .dataframe thead th {\n",
       "        text-align: right;\n",
       "    }\n",
       "</style>\n",
       "<table border=\"1\" class=\"dataframe\">\n",
       "  <thead>\n",
       "    <tr style=\"text-align: right;\">\n",
       "      <th></th>\n",
       "      <th>url</th>\n",
       "      <th>type</th>\n",
       "      <th>category</th>\n",
       "    </tr>\n",
       "  </thead>\n",
       "  <tbody>\n",
       "    <tr>\n",
       "      <th>188842</th>\n",
       "      <td>espn.go.com/mlb/team/_/name/tex/texas-rangers</td>\n",
       "      <td>benign</td>\n",
       "      <td>0</td>\n",
       "    </tr>\n",
       "    <tr>\n",
       "      <th>52618</th>\n",
       "      <td>http://onedio.com/haber/ogrencileri-duman-kons...</td>\n",
       "      <td>benign</td>\n",
       "      <td>0</td>\n",
       "    </tr>\n",
       "    <tr>\n",
       "      <th>601223</th>\n",
       "      <td>.battle.com.wwowus.net/login/en/?3Fref=eu.batt...</td>\n",
       "      <td>benign</td>\n",
       "      <td>0</td>\n",
       "    </tr>\n",
       "    <tr>\n",
       "      <th>337542</th>\n",
       "      <td>http://tinnhanh360.net/nghi-le-chao-doi--thach...</td>\n",
       "      <td>benign</td>\n",
       "      <td>0</td>\n",
       "    </tr>\n",
       "    <tr>\n",
       "      <th>64374</th>\n",
       "      <td>kvha.org/</td>\n",
       "      <td>benign</td>\n",
       "      <td>0</td>\n",
       "    </tr>\n",
       "  </tbody>\n",
       "</table>\n",
       "</div>"
      ],
      "text/plain": [
       "                                                      url    type  category\n",
       "188842      espn.go.com/mlb/team/_/name/tex/texas-rangers  benign         0\n",
       "52618   http://onedio.com/haber/ogrencileri-duman-kons...  benign         0\n",
       "601223  .battle.com.wwowus.net/login/en/?3Fref=eu.batt...  benign         0\n",
       "337542  http://tinnhanh360.net/nghi-le-chao-doi--thach...  benign         0\n",
       "64374                                           kvha.org/  benign         0"
      ]
     },
     "execution_count": 8,
     "metadata": {},
     "output_type": "execute_result"
    }
   ],
   "source": [
    "# create categories and add it to the data frame\n",
    "url_categories = {\n",
    "    \"benign\": 0,\n",
    "    \"phishing\": 1,\n",
    "    \"defacement\": 2,\n",
    "    \"malware\": 3\n",
    "}\n",
    "\n",
    "df[\"category\"] = df[\"type\"].map(url_categories)\n",
    "\n",
    "df.head()"
   ]
  },
  {
   "cell_type": "code",
   "execution_count": 9,
   "id": "2776c5ca",
   "metadata": {},
   "outputs": [
    {
     "data": {
      "text/html": [
       "<div>\n",
       "<style scoped>\n",
       "    .dataframe tbody tr th:only-of-type {\n",
       "        vertical-align: middle;\n",
       "    }\n",
       "\n",
       "    .dataframe tbody tr th {\n",
       "        vertical-align: top;\n",
       "    }\n",
       "\n",
       "    .dataframe thead th {\n",
       "        text-align: right;\n",
       "    }\n",
       "</style>\n",
       "<table border=\"1\" class=\"dataframe\">\n",
       "  <thead>\n",
       "    <tr style=\"text-align: right;\">\n",
       "      <th></th>\n",
       "      <th>url</th>\n",
       "      <th>type</th>\n",
       "      <th>category</th>\n",
       "      <th>url_length</th>\n",
       "    </tr>\n",
       "  </thead>\n",
       "  <tbody>\n",
       "    <tr>\n",
       "      <th>188842</th>\n",
       "      <td>espn.go.com/mlb/team/_/name/tex/texas-rangers</td>\n",
       "      <td>benign</td>\n",
       "      <td>0</td>\n",
       "      <td>45</td>\n",
       "    </tr>\n",
       "    <tr>\n",
       "      <th>52618</th>\n",
       "      <td>http://onedio.com/haber/ogrencileri-duman-kons...</td>\n",
       "      <td>benign</td>\n",
       "      <td>0</td>\n",
       "      <td>107</td>\n",
       "    </tr>\n",
       "    <tr>\n",
       "      <th>601223</th>\n",
       "      <td>.battle.com.wwowus.net/login/en/?3Fref=eu.batt...</td>\n",
       "      <td>benign</td>\n",
       "      <td>0</td>\n",
       "      <td>201</td>\n",
       "    </tr>\n",
       "    <tr>\n",
       "      <th>337542</th>\n",
       "      <td>http://tinnhanh360.net/nghi-le-chao-doi--thach...</td>\n",
       "      <td>benign</td>\n",
       "      <td>0</td>\n",
       "      <td>89</td>\n",
       "    </tr>\n",
       "    <tr>\n",
       "      <th>64374</th>\n",
       "      <td>kvha.org/</td>\n",
       "      <td>benign</td>\n",
       "      <td>0</td>\n",
       "      <td>9</td>\n",
       "    </tr>\n",
       "  </tbody>\n",
       "</table>\n",
       "</div>"
      ],
      "text/plain": [
       "                                                      url    type  category  \\\n",
       "188842      espn.go.com/mlb/team/_/name/tex/texas-rangers  benign         0   \n",
       "52618   http://onedio.com/haber/ogrencileri-duman-kons...  benign         0   \n",
       "601223  .battle.com.wwowus.net/login/en/?3Fref=eu.batt...  benign         0   \n",
       "337542  http://tinnhanh360.net/nghi-le-chao-doi--thach...  benign         0   \n",
       "64374                                           kvha.org/  benign         0   \n",
       "\n",
       "        url_length  \n",
       "188842          45  \n",
       "52618          107  \n",
       "601223         201  \n",
       "337542          89  \n",
       "64374            9  "
      ]
     },
     "execution_count": 9,
     "metadata": {},
     "output_type": "execute_result"
    }
   ],
   "source": [
    "# Analyze if there exists a relationship between URL length and being a non-benign URL\n",
    "df[\"url_length\"] = df[\"url\"].apply(len)\n",
    "\n",
    "df.head()"
   ]
  },
  {
   "cell_type": "code",
   "execution_count": 10,
   "id": "b4d87227",
   "metadata": {},
   "outputs": [
    {
     "data": {
      "image/png": "[encoded data removed]",
      "text/plain": [
       "<Figure size 1000x600 with 1 Axes>"
      ]
     },
     "metadata": {},
     "output_type": "display_data"
    }
   ],
   "source": [
    "plt.figure(figsize=(10, 6))\n",
    "sns.barplot(data=df, x=\"type\", y=\"url_length\", palette=\"bright\", hue=\"type\")\n",
    "plt.title(\"URL Length VS. Type\")\n",
    "plt.xticks(rotation=45)\n",
    "plt.tight_layout()\n",
    "plt.show()"
   ]
  },
  {
   "cell_type": "markdown",
   "id": "508c1aa9",
   "metadata": {},
   "source": [
    "We can see here that past the cutoff point of a length of about 60, every URL is likely defacement for this dataset."
   ]
  },
  {
   "cell_type": "code",
   "execution_count": 11,
   "id": "ceccaf8e",
   "metadata": {},
   "outputs": [
    {
     "data": {
      "text/html": [
       "<div>\n",
       "<style scoped>\n",
       "    .dataframe tbody tr th:only-of-type {\n",
       "        vertical-align: middle;\n",
       "    }\n",
       "\n",
       "    .dataframe tbody tr th {\n",
       "        vertical-align: top;\n",
       "    }\n",
       "\n",
       "    .dataframe thead th {\n",
       "        text-align: right;\n",
       "    }\n",
       "</style>\n",
       "<table border=\"1\" class=\"dataframe\">\n",
       "  <thead>\n",
       "    <tr style=\"text-align: right;\">\n",
       "      <th></th>\n",
       "      <th>url</th>\n",
       "      <th>type</th>\n",
       "      <th>category</th>\n",
       "      <th>url_length</th>\n",
       "      <th>domain</th>\n",
       "    </tr>\n",
       "  </thead>\n",
       "  <tbody>\n",
       "    <tr>\n",
       "      <th>188842</th>\n",
       "      <td>espn.go.com/mlb/team/_/name/tex/texas-rangers</td>\n",
       "      <td>benign</td>\n",
       "      <td>0</td>\n",
       "      <td>45</td>\n",
       "      <td>go.com</td>\n",
       "    </tr>\n",
       "    <tr>\n",
       "      <th>52618</th>\n",
       "      <td>http://onedio.com/haber/ogrencileri-duman-kons...</td>\n",
       "      <td>benign</td>\n",
       "      <td>0</td>\n",
       "      <td>107</td>\n",
       "      <td>onedio.com</td>\n",
       "    </tr>\n",
       "    <tr>\n",
       "      <th>601223</th>\n",
       "      <td>.battle.com.wwowus.net/login/en/?3Fref=eu.batt...</td>\n",
       "      <td>benign</td>\n",
       "      <td>0</td>\n",
       "      <td>201</td>\n",
       "      <td>wwowus.net</td>\n",
       "    </tr>\n",
       "    <tr>\n",
       "      <th>337542</th>\n",
       "      <td>http://tinnhanh360.net/nghi-le-chao-doi--thach...</td>\n",
       "      <td>benign</td>\n",
       "      <td>0</td>\n",
       "      <td>89</td>\n",
       "      <td>tinnhanh360.net</td>\n",
       "    </tr>\n",
       "    <tr>\n",
       "      <th>64374</th>\n",
       "      <td>kvha.org/</td>\n",
       "      <td>benign</td>\n",
       "      <td>0</td>\n",
       "      <td>9</td>\n",
       "      <td>kvha.org</td>\n",
       "    </tr>\n",
       "  </tbody>\n",
       "</table>\n",
       "</div>"
      ],
      "text/plain": [
       "                                                      url    type  category  \\\n",
       "188842      espn.go.com/mlb/team/_/name/tex/texas-rangers  benign         0   \n",
       "52618   http://onedio.com/haber/ogrencileri-duman-kons...  benign         0   \n",
       "601223  .battle.com.wwowus.net/login/en/?3Fref=eu.batt...  benign         0   \n",
       "337542  http://tinnhanh360.net/nghi-le-chao-doi--thach...  benign         0   \n",
       "64374                                           kvha.org/  benign         0   \n",
       "\n",
       "        url_length           domain  \n",
       "188842          45           go.com  \n",
       "52618          107       onedio.com  \n",
       "601223         201       wwowus.net  \n",
       "337542          89  tinnhanh360.net  \n",
       "64374            9         kvha.org  "
      ]
     },
     "execution_count": 11,
     "metadata": {},
     "output_type": "execute_result"
    }
   ],
   "source": [
    "# Extract domain and suffix from url\n",
    "def extract_domain(url: str):\n",
    "    extracted_url = tlde.extract(url)\n",
    "    return f\"{extracted_url.domain}.{extracted_url.suffix}\"\n",
    "\n",
    "df[\"domain\"] = df[\"url\"].apply(extract_domain)\n",
    "\n",
    "df.head()"
   ]
  },
  {
   "cell_type": "code",
   "execution_count": 12,
   "id": "cc1fc923",
   "metadata": {},
   "outputs": [],
   "source": [
    "# Check presence in Alexa top 1000 Domains\n",
    "alexa_top_1000 = []\n",
    "with open(\"alexa-top-1000.txt\", \"r\") as f:\n",
    "    alexa_top_1000 = set([d.strip() for d in f.readlines()])"
   ]
  },
  {
   "cell_type": "code",
   "execution_count": 13,
   "id": "a21a7b1a",
   "metadata": {},
   "outputs": [
    {
     "data": {
      "text/plain": [
       "in_alexa_top_1000\n",
       "0    128079\n",
       "1     21921\n",
       "Name: count, dtype: int64"
      ]
     },
     "execution_count": 13,
     "metadata": {},
     "output_type": "execute_result"
    }
   ],
   "source": [
    "# 1 if in top 1000 else 0\n",
    "def check_alexa(domain: str):\n",
    "    return int(domain in alexa_top_1000)\n",
    "\n",
    "\n",
    "df[\"in_alexa_top_1000\"] = df[\"domain\"].apply(check_alexa)\n",
    "\n",
    "df[\"in_alexa_top_1000\"].value_counts()"
   ]
  },
  {
   "cell_type": "code",
   "execution_count": 14,
   "id": "23e25709",
   "metadata": {},
   "outputs": [],
   "source": [
    "# Check HTTPS status\n",
    "# 1 if https exists else 0\n",
    "def has_https(url):\n",
    "    return int(\"https\" in url)\n",
    "\n",
    "df[\"has_https\"] = df[\"url\"].apply(has_https)"
   ]
  },
  {
   "cell_type": "code",
   "execution_count": 15,
   "id": "74f37dc7",
   "metadata": {},
   "outputs": [
    {
     "data": {
      "image/png": "[encoded data removed]",
      "text/plain": [
       "<Figure size 600x600 with 1 Axes>"
      ]
     },
     "metadata": {},
     "output_type": "display_data"
    }
   ],
   "source": [
    "https_counts = df[\"has_https\"].value_counts()\n",
    "\n",
    "# Plot a pie chart\n",
    "plt.figure(figsize=(6, 6))\n",
    "plt.pie(\n",
    "    https_counts,\n",
    "    labels=https_counts.index,\n",
    "    autopct=\"%1.1f%%\",\n",
    "    colors=sns.color_palette(\"pastel\"),\n",
    ")\n",
    "plt.title(\"Distribution of HTTPS Usage\")\n",
    "plt.show()\n"
   ]
  },
  {
   "cell_type": "code",
   "execution_count": 16,
   "id": "df7d2efc",
   "metadata": {},
   "outputs": [
    {
     "data": {
      "image/png": "[encoded data removed]",
      "text/plain": [
       "<Figure size 1000x600 with 1 Axes>"
      ]
     },
     "metadata": {},
     "output_type": "display_data"
    }
   ],
   "source": [
    "# Relationship between Type and HTTPS Usage\n",
    "# Create a bar plot using Seaborn\n",
    "plt.figure(figsize=(10, 6))\n",
    "sns.countplot(data=df, x=\"type\", hue=\"has_https\", palette=\"bright\")\n",
    "plt.title(\"Has_HTTPS vs Type\")\n",
    "plt.xlabel(\"Type\")\n",
    "plt.ylabel(\"has_https\")\n",
    "plt.xticks(rotation=45)\n",
    "plt.legend(title=\"has_https\")\n",
    "plt.tight_layout()\n",
    "plt.show()\n"
   ]
  },
  {
   "cell_type": "markdown",
   "id": "1aa0b4ed",
   "metadata": {},
   "source": [
    "Most sites do not use HTTPS in our dataset and no correlation can be drawn between HTTPS usage and a benign URL. In actuality, having HTTPS for this dataset means that the URL has a higher probability of being malware or phishing."
   ]
  },
  {
   "cell_type": "code",
   "execution_count": 17,
   "id": "d1b3dbc4",
   "metadata": {},
   "outputs": [
    {
     "data": {
      "text/html": [
       "<div>\n",
       "<style scoped>\n",
       "    .dataframe tbody tr th:only-of-type {\n",
       "        vertical-align: middle;\n",
       "    }\n",
       "\n",
       "    .dataframe tbody tr th {\n",
       "        vertical-align: top;\n",
       "    }\n",
       "\n",
       "    .dataframe thead th {\n",
       "        text-align: right;\n",
       "    }\n",
       "</style>\n",
       "<table border=\"1\" class=\"dataframe\">\n",
       "  <thead>\n",
       "    <tr style=\"text-align: right;\">\n",
       "      <th></th>\n",
       "      <th>url</th>\n",
       "      <th>type</th>\n",
       "      <th>category</th>\n",
       "      <th>url_length</th>\n",
       "      <th>domain</th>\n",
       "      <th>in_alexa_top_1000</th>\n",
       "      <th>has_https</th>\n",
       "      <th>@</th>\n",
       "      <th>!</th>\n",
       "      <th>?</th>\n",
       "      <th>=</th>\n",
       "      <th>-</th>\n",
       "      <th>//</th>\n",
       "      <th>#</th>\n",
       "      <th>.</th>\n",
       "      <th>+</th>\n",
       "      <th>$</th>\n",
       "      <th>*</th>\n",
       "      <th>%</th>\n",
       "      <th>&amp;</th>\n",
       "    </tr>\n",
       "  </thead>\n",
       "  <tbody>\n",
       "    <tr>\n",
       "      <th>188842</th>\n",
       "      <td>espn.go.com/mlb/team/_/name/tex/texas-rangers</td>\n",
       "      <td>benign</td>\n",
       "      <td>0</td>\n",
       "      <td>45</td>\n",
       "      <td>go.com</td>\n",
       "      <td>1</td>\n",
       "      <td>0</td>\n",
       "      <td>0</td>\n",
       "      <td>0</td>\n",
       "      <td>0</td>\n",
       "      <td>0</td>\n",
       "      <td>1</td>\n",
       "      <td>0</td>\n",
       "      <td>0</td>\n",
       "      <td>2</td>\n",
       "      <td>0</td>\n",
       "      <td>0</td>\n",
       "      <td>0</td>\n",
       "      <td>0</td>\n",
       "      <td>0</td>\n",
       "    </tr>\n",
       "    <tr>\n",
       "      <th>52618</th>\n",
       "      <td>http://onedio.com/haber/ogrencileri-duman-kons...</td>\n",
       "      <td>benign</td>\n",
       "      <td>0</td>\n",
       "      <td>107</td>\n",
       "      <td>onedio.com</td>\n",
       "      <td>0</td>\n",
       "      <td>0</td>\n",
       "      <td>0</td>\n",
       "      <td>0</td>\n",
       "      <td>0</td>\n",
       "      <td>0</td>\n",
       "      <td>10</td>\n",
       "      <td>1</td>\n",
       "      <td>0</td>\n",
       "      <td>1</td>\n",
       "      <td>0</td>\n",
       "      <td>0</td>\n",
       "      <td>0</td>\n",
       "      <td>0</td>\n",
       "      <td>0</td>\n",
       "    </tr>\n",
       "    <tr>\n",
       "      <th>601223</th>\n",
       "      <td>.battle.com.wwowus.net/login/en/?3Fref=eu.batt...</td>\n",
       "      <td>benign</td>\n",
       "      <td>0</td>\n",
       "      <td>201</td>\n",
       "      <td>wwowus.net</td>\n",
       "      <td>0</td>\n",
       "      <td>0</td>\n",
       "      <td>0</td>\n",
       "      <td>0</td>\n",
       "      <td>2</td>\n",
       "      <td>6</td>\n",
       "      <td>1</td>\n",
       "      <td>0</td>\n",
       "      <td>0</td>\n",
       "      <td>7</td>\n",
       "      <td>0</td>\n",
       "      <td>0</td>\n",
       "      <td>0</td>\n",
       "      <td>0</td>\n",
       "      <td>5</td>\n",
       "    </tr>\n",
       "    <tr>\n",
       "      <th>337542</th>\n",
       "      <td>http://tinnhanh360.net/nghi-le-chao-doi--thach...</td>\n",
       "      <td>benign</td>\n",
       "      <td>0</td>\n",
       "      <td>89</td>\n",
       "      <td>tinnhanh360.net</td>\n",
       "      <td>0</td>\n",
       "      <td>0</td>\n",
       "      <td>0</td>\n",
       "      <td>0</td>\n",
       "      <td>0</td>\n",
       "      <td>0</td>\n",
       "      <td>13</td>\n",
       "      <td>1</td>\n",
       "      <td>0</td>\n",
       "      <td>2</td>\n",
       "      <td>0</td>\n",
       "      <td>0</td>\n",
       "      <td>0</td>\n",
       "      <td>0</td>\n",
       "      <td>0</td>\n",
       "    </tr>\n",
       "    <tr>\n",
       "      <th>64374</th>\n",
       "      <td>kvha.org/</td>\n",
       "      <td>benign</td>\n",
       "      <td>0</td>\n",
       "      <td>9</td>\n",
       "      <td>kvha.org</td>\n",
       "      <td>0</td>\n",
       "      <td>0</td>\n",
       "      <td>0</td>\n",
       "      <td>0</td>\n",
       "      <td>0</td>\n",
       "      <td>0</td>\n",
       "      <td>0</td>\n",
       "      <td>0</td>\n",
       "      <td>0</td>\n",
       "      <td>1</td>\n",
       "      <td>0</td>\n",
       "      <td>0</td>\n",
       "      <td>0</td>\n",
       "      <td>0</td>\n",
       "      <td>0</td>\n",
       "    </tr>\n",
       "  </tbody>\n",
       "</table>\n",
       "</div>"
      ],
      "text/plain": [
       "                                                      url    type  category  \\\n",
       "188842      espn.go.com/mlb/team/_/name/tex/texas-rangers  benign         0   \n",
       "52618   http://onedio.com/haber/ogrencileri-duman-kons...  benign         0   \n",
       "601223  .battle.com.wwowus.net/login/en/?3Fref=eu.batt...  benign         0   \n",
       "337542  http://tinnhanh360.net/nghi-le-chao-doi--thach...  benign         0   \n",
       "64374                                           kvha.org/  benign         0   \n",
       "\n",
       "        url_length           domain  in_alexa_top_1000  has_https  @  !  ?  =  \\\n",
       "188842          45           go.com                  1          0  0  0  0  0   \n",
       "52618          107       onedio.com                  0          0  0  0  0  0   \n",
       "601223         201       wwowus.net                  0          0  0  0  2  6   \n",
       "337542          89  tinnhanh360.net                  0          0  0  0  0  0   \n",
       "64374            9         kvha.org                  0          0  0  0  0  0   \n",
       "\n",
       "         -  //  #  .  +  $  *  %  &  \n",
       "188842   1   0  0  2  0  0  0  0  0  \n",
       "52618   10   1  0  1  0  0  0  0  0  \n",
       "601223   1   0  0  7  0  0  0  0  5  \n",
       "337542  13   1  0  2  0  0  0  0  0  \n",
       "64374    0   0  0  1  0  0  0  0  0  "
      ]
     },
     "execution_count": 17,
     "metadata": {},
     "output_type": "execute_result"
    }
   ],
   "source": [
    "# Count frequency of special characters\n",
    "special_characters = [\"@\", \"!\", \"?\", \"=\", \"-\", \"//\", \"#\", \".\", \"+\", \"$\", \"*\", \"%\", \"&\"]\n",
    "\n",
    "def count_characters(url: str, character: str):\n",
    "    return url.count(character)\n",
    "\n",
    "for c in special_characters:\n",
    "    df[c] = df[\"url\"].apply(lambda url: count_characters(url, c))\n",
    "\n",
    "df.head()"
   ]
  },
  {
   "cell_type": "code",
   "execution_count": 18,
   "id": "40e5fc32",
   "metadata": {},
   "outputs": [
    {
     "data": {
      "text/html": [
       "<div>\n",
       "<style scoped>\n",
       "    .dataframe tbody tr th:only-of-type {\n",
       "        vertical-align: middle;\n",
       "    }\n",
       "\n",
       "    .dataframe tbody tr th {\n",
       "        vertical-align: top;\n",
       "    }\n",
       "\n",
       "    .dataframe thead th {\n",
       "        text-align: right;\n",
       "    }\n",
       "</style>\n",
       "<table border=\"1\" class=\"dataframe\">\n",
       "  <thead>\n",
       "    <tr style=\"text-align: right;\">\n",
       "      <th></th>\n",
       "      <th>url</th>\n",
       "      <th>type</th>\n",
       "      <th>category</th>\n",
       "      <th>url_length</th>\n",
       "      <th>domain</th>\n",
       "      <th>in_alexa_top_1000</th>\n",
       "      <th>has_https</th>\n",
       "      <th>@</th>\n",
       "      <th>!</th>\n",
       "      <th>?</th>\n",
       "      <th>...</th>\n",
       "      <th>-</th>\n",
       "      <th>//</th>\n",
       "      <th>#</th>\n",
       "      <th>.</th>\n",
       "      <th>+</th>\n",
       "      <th>$</th>\n",
       "      <th>*</th>\n",
       "      <th>%</th>\n",
       "      <th>&amp;</th>\n",
       "      <th>digit_to_letter_ratio_url</th>\n",
       "    </tr>\n",
       "  </thead>\n",
       "  <tbody>\n",
       "    <tr>\n",
       "      <th>188842</th>\n",
       "      <td>espn.go.com/mlb/team/_/name/tex/texas-rangers</td>\n",
       "      <td>benign</td>\n",
       "      <td>0</td>\n",
       "      <td>45</td>\n",
       "      <td>go.com</td>\n",
       "      <td>1</td>\n",
       "      <td>0</td>\n",
       "      <td>0</td>\n",
       "      <td>0</td>\n",
       "      <td>0</td>\n",
       "      <td>...</td>\n",
       "      <td>1</td>\n",
       "      <td>0</td>\n",
       "      <td>0</td>\n",
       "      <td>2</td>\n",
       "      <td>0</td>\n",
       "      <td>0</td>\n",
       "      <td>0</td>\n",
       "      <td>0</td>\n",
       "      <td>0</td>\n",
       "      <td>0.000000</td>\n",
       "    </tr>\n",
       "    <tr>\n",
       "      <th>52618</th>\n",
       "      <td>http://onedio.com/haber/ogrencileri-duman-kons...</td>\n",
       "      <td>benign</td>\n",
       "      <td>0</td>\n",
       "      <td>107</td>\n",
       "      <td>onedio.com</td>\n",
       "      <td>0</td>\n",
       "      <td>0</td>\n",
       "      <td>0</td>\n",
       "      <td>0</td>\n",
       "      <td>0</td>\n",
       "      <td>...</td>\n",
       "      <td>10</td>\n",
       "      <td>1</td>\n",
       "      <td>0</td>\n",
       "      <td>1</td>\n",
       "      <td>0</td>\n",
       "      <td>0</td>\n",
       "      <td>0</td>\n",
       "      <td>0</td>\n",
       "      <td>0</td>\n",
       "      <td>0.070588</td>\n",
       "    </tr>\n",
       "    <tr>\n",
       "      <th>601223</th>\n",
       "      <td>.battle.com.wwowus.net/login/en/?3Fref=eu.batt...</td>\n",
       "      <td>benign</td>\n",
       "      <td>0</td>\n",
       "      <td>201</td>\n",
       "      <td>wwowus.net</td>\n",
       "      <td>0</td>\n",
       "      <td>0</td>\n",
       "      <td>0</td>\n",
       "      <td>0</td>\n",
       "      <td>2</td>\n",
       "      <td>...</td>\n",
       "      <td>1</td>\n",
       "      <td>0</td>\n",
       "      <td>0</td>\n",
       "      <td>7</td>\n",
       "      <td>0</td>\n",
       "      <td>0</td>\n",
       "      <td>0</td>\n",
       "      <td>0</td>\n",
       "      <td>5</td>\n",
       "      <td>0.063694</td>\n",
       "    </tr>\n",
       "    <tr>\n",
       "      <th>337542</th>\n",
       "      <td>http://tinnhanh360.net/nghi-le-chao-doi--thach...</td>\n",
       "      <td>benign</td>\n",
       "      <td>0</td>\n",
       "      <td>89</td>\n",
       "      <td>tinnhanh360.net</td>\n",
       "      <td>0</td>\n",
       "      <td>0</td>\n",
       "      <td>0</td>\n",
       "      <td>0</td>\n",
       "      <td>0</td>\n",
       "      <td>...</td>\n",
       "      <td>13</td>\n",
       "      <td>1</td>\n",
       "      <td>0</td>\n",
       "      <td>2</td>\n",
       "      <td>0</td>\n",
       "      <td>0</td>\n",
       "      <td>0</td>\n",
       "      <td>0</td>\n",
       "      <td>0</td>\n",
       "      <td>0.044776</td>\n",
       "    </tr>\n",
       "    <tr>\n",
       "      <th>64374</th>\n",
       "      <td>kvha.org/</td>\n",
       "      <td>benign</td>\n",
       "      <td>0</td>\n",
       "      <td>9</td>\n",
       "      <td>kvha.org</td>\n",
       "      <td>0</td>\n",
       "      <td>0</td>\n",
       "      <td>0</td>\n",
       "      <td>0</td>\n",
       "      <td>0</td>\n",
       "      <td>...</td>\n",
       "      <td>0</td>\n",
       "      <td>0</td>\n",
       "      <td>0</td>\n",
       "      <td>1</td>\n",
       "      <td>0</td>\n",
       "      <td>0</td>\n",
       "      <td>0</td>\n",
       "      <td>0</td>\n",
       "      <td>0</td>\n",
       "      <td>0.000000</td>\n",
       "    </tr>\n",
       "  </tbody>\n",
       "</table>\n",
       "<p>5 rows × 21 columns</p>\n",
       "</div>"
      ],
      "text/plain": [
       "                                                      url    type  category  \\\n",
       "188842      espn.go.com/mlb/team/_/name/tex/texas-rangers  benign         0   \n",
       "52618   http://onedio.com/haber/ogrencileri-duman-kons...  benign         0   \n",
       "601223  .battle.com.wwowus.net/login/en/?3Fref=eu.batt...  benign         0   \n",
       "337542  http://tinnhanh360.net/nghi-le-chao-doi--thach...  benign         0   \n",
       "64374                                           kvha.org/  benign         0   \n",
       "\n",
       "        url_length           domain  in_alexa_top_1000  has_https  @  !  ?  \\\n",
       "188842          45           go.com                  1          0  0  0  0   \n",
       "52618          107       onedio.com                  0          0  0  0  0   \n",
       "601223         201       wwowus.net                  0          0  0  0  2   \n",
       "337542          89  tinnhanh360.net                  0          0  0  0  0   \n",
       "64374            9         kvha.org                  0          0  0  0  0   \n",
       "\n",
       "        ...   -  //  #  .  +  $  *  %  &  digit_to_letter_ratio_url  \n",
       "188842  ...   1   0  0  2  0  0  0  0  0                   0.000000  \n",
       "52618   ...  10   1  0  1  0  0  0  0  0                   0.070588  \n",
       "601223  ...   1   0  0  7  0  0  0  0  5                   0.063694  \n",
       "337542  ...  13   1  0  2  0  0  0  0  0                   0.044776  \n",
       "64374   ...   0   0  0  1  0  0  0  0  0                   0.000000  \n",
       "\n",
       "[5 rows x 21 columns]"
      ]
     },
     "execution_count": 18,
     "metadata": {},
     "output_type": "execute_result"
    }
   ],
   "source": [
    "# Digit to letter ratio in URL\n",
    "def calculate_digit_to_letter_ratio(url):\n",
    "    digits = sum(c.isdigit() for c in url)\n",
    "    letters = sum(c.isalpha() for c in url)\n",
    "    if letters == 0:\n",
    "        ratio = 0\n",
    "    else:\n",
    "        ratio = digits / letters\n",
    "    return ratio\n",
    "\n",
    "df[\"digit_to_letter_ratio_url\"] = df[\"url\"].apply(calculate_digit_to_letter_ratio)\n",
    "\n",
    "df.head()"
   ]
  },
  {
   "cell_type": "code",
   "execution_count": 19,
   "id": "f1775437",
   "metadata": {},
   "outputs": [
    {
     "data": {
      "text/html": [
       "<div>\n",
       "<style scoped>\n",
       "    .dataframe tbody tr th:only-of-type {\n",
       "        vertical-align: middle;\n",
       "    }\n",
       "\n",
       "    .dataframe tbody tr th {\n",
       "        vertical-align: top;\n",
       "    }\n",
       "\n",
       "    .dataframe thead th {\n",
       "        text-align: right;\n",
       "    }\n",
       "</style>\n",
       "<table border=\"1\" class=\"dataframe\">\n",
       "  <thead>\n",
       "    <tr style=\"text-align: right;\">\n",
       "      <th></th>\n",
       "      <th>url</th>\n",
       "      <th>type</th>\n",
       "      <th>category</th>\n",
       "      <th>url_length</th>\n",
       "      <th>domain</th>\n",
       "      <th>in_alexa_top_1000</th>\n",
       "      <th>has_https</th>\n",
       "      <th>@</th>\n",
       "      <th>!</th>\n",
       "      <th>?</th>\n",
       "      <th>...</th>\n",
       "      <th>//</th>\n",
       "      <th>#</th>\n",
       "      <th>.</th>\n",
       "      <th>+</th>\n",
       "      <th>$</th>\n",
       "      <th>*</th>\n",
       "      <th>%</th>\n",
       "      <th>&amp;</th>\n",
       "      <th>digit_to_letter_ratio_url</th>\n",
       "      <th>digit_to_letter_ratio_domain</th>\n",
       "    </tr>\n",
       "  </thead>\n",
       "  <tbody>\n",
       "    <tr>\n",
       "      <th>188842</th>\n",
       "      <td>espn.go.com/mlb/team/_/name/tex/texas-rangers</td>\n",
       "      <td>benign</td>\n",
       "      <td>0</td>\n",
       "      <td>45</td>\n",
       "      <td>go.com</td>\n",
       "      <td>1</td>\n",
       "      <td>0</td>\n",
       "      <td>0</td>\n",
       "      <td>0</td>\n",
       "      <td>0</td>\n",
       "      <td>...</td>\n",
       "      <td>0</td>\n",
       "      <td>0</td>\n",
       "      <td>2</td>\n",
       "      <td>0</td>\n",
       "      <td>0</td>\n",
       "      <td>0</td>\n",
       "      <td>0</td>\n",
       "      <td>0</td>\n",
       "      <td>0.000000</td>\n",
       "      <td>0.000000</td>\n",
       "    </tr>\n",
       "    <tr>\n",
       "      <th>52618</th>\n",
       "      <td>http://onedio.com/haber/ogrencileri-duman-kons...</td>\n",
       "      <td>benign</td>\n",
       "      <td>0</td>\n",
       "      <td>107</td>\n",
       "      <td>onedio.com</td>\n",
       "      <td>0</td>\n",
       "      <td>0</td>\n",
       "      <td>0</td>\n",
       "      <td>0</td>\n",
       "      <td>0</td>\n",
       "      <td>...</td>\n",
       "      <td>1</td>\n",
       "      <td>0</td>\n",
       "      <td>1</td>\n",
       "      <td>0</td>\n",
       "      <td>0</td>\n",
       "      <td>0</td>\n",
       "      <td>0</td>\n",
       "      <td>0</td>\n",
       "      <td>0.070588</td>\n",
       "      <td>0.000000</td>\n",
       "    </tr>\n",
       "    <tr>\n",
       "      <th>601223</th>\n",
       "      <td>.battle.com.wwowus.net/login/en/?3Fref=eu.batt...</td>\n",
       "      <td>benign</td>\n",
       "      <td>0</td>\n",
       "      <td>201</td>\n",
       "      <td>wwowus.net</td>\n",
       "      <td>0</td>\n",
       "      <td>0</td>\n",
       "      <td>0</td>\n",
       "      <td>0</td>\n",
       "      <td>2</td>\n",
       "      <td>...</td>\n",
       "      <td>0</td>\n",
       "      <td>0</td>\n",
       "      <td>7</td>\n",
       "      <td>0</td>\n",
       "      <td>0</td>\n",
       "      <td>0</td>\n",
       "      <td>0</td>\n",
       "      <td>5</td>\n",
       "      <td>0.063694</td>\n",
       "      <td>0.000000</td>\n",
       "    </tr>\n",
       "    <tr>\n",
       "      <th>337542</th>\n",
       "      <td>http://tinnhanh360.net/nghi-le-chao-doi--thach...</td>\n",
       "      <td>benign</td>\n",
       "      <td>0</td>\n",
       "      <td>89</td>\n",
       "      <td>tinnhanh360.net</td>\n",
       "      <td>0</td>\n",
       "      <td>0</td>\n",
       "      <td>0</td>\n",
       "      <td>0</td>\n",
       "      <td>0</td>\n",
       "      <td>...</td>\n",
       "      <td>1</td>\n",
       "      <td>0</td>\n",
       "      <td>2</td>\n",
       "      <td>0</td>\n",
       "      <td>0</td>\n",
       "      <td>0</td>\n",
       "      <td>0</td>\n",
       "      <td>0</td>\n",
       "      <td>0.044776</td>\n",
       "      <td>0.272727</td>\n",
       "    </tr>\n",
       "    <tr>\n",
       "      <th>64374</th>\n",
       "      <td>kvha.org/</td>\n",
       "      <td>benign</td>\n",
       "      <td>0</td>\n",
       "      <td>9</td>\n",
       "      <td>kvha.org</td>\n",
       "      <td>0</td>\n",
       "      <td>0</td>\n",
       "      <td>0</td>\n",
       "      <td>0</td>\n",
       "      <td>0</td>\n",
       "      <td>...</td>\n",
       "      <td>0</td>\n",
       "      <td>0</td>\n",
       "      <td>1</td>\n",
       "      <td>0</td>\n",
       "      <td>0</td>\n",
       "      <td>0</td>\n",
       "      <td>0</td>\n",
       "      <td>0</td>\n",
       "      <td>0.000000</td>\n",
       "      <td>0.000000</td>\n",
       "    </tr>\n",
       "  </tbody>\n",
       "</table>\n",
       "<p>5 rows × 22 columns</p>\n",
       "</div>"
      ],
      "text/plain": [
       "                                                      url    type  category  \\\n",
       "188842      espn.go.com/mlb/team/_/name/tex/texas-rangers  benign         0   \n",
       "52618   http://onedio.com/haber/ogrencileri-duman-kons...  benign         0   \n",
       "601223  .battle.com.wwowus.net/login/en/?3Fref=eu.batt...  benign         0   \n",
       "337542  http://tinnhanh360.net/nghi-le-chao-doi--thach...  benign         0   \n",
       "64374                                           kvha.org/  benign         0   \n",
       "\n",
       "        url_length           domain  in_alexa_top_1000  has_https  @  !  ?  \\\n",
       "188842          45           go.com                  1          0  0  0  0   \n",
       "52618          107       onedio.com                  0          0  0  0  0   \n",
       "601223         201       wwowus.net                  0          0  0  0  2   \n",
       "337542          89  tinnhanh360.net                  0          0  0  0  0   \n",
       "64374            9         kvha.org                  0          0  0  0  0   \n",
       "\n",
       "        ...  //  #  .  +  $  *  %  &  digit_to_letter_ratio_url  \\\n",
       "188842  ...   0  0  2  0  0  0  0  0                   0.000000   \n",
       "52618   ...   1  0  1  0  0  0  0  0                   0.070588   \n",
       "601223  ...   0  0  7  0  0  0  0  5                   0.063694   \n",
       "337542  ...   1  0  2  0  0  0  0  0                   0.044776   \n",
       "64374   ...   0  0  1  0  0  0  0  0                   0.000000   \n",
       "\n",
       "        digit_to_letter_ratio_domain  \n",
       "188842                      0.000000  \n",
       "52618                       0.000000  \n",
       "601223                      0.000000  \n",
       "337542                      0.272727  \n",
       "64374                       0.000000  \n",
       "\n",
       "[5 rows x 22 columns]"
      ]
     },
     "execution_count": 19,
     "metadata": {},
     "output_type": "execute_result"
    }
   ],
   "source": [
    "# Letter to digit ratio in primary domain\n",
    "df[\"digit_to_letter_ratio_domain\"] = df[\"domain\"].apply(calculate_digit_to_letter_ratio)\n",
    "\n",
    "df.head()\n"
   ]
  },
  {
   "cell_type": "code",
   "execution_count": 20,
   "id": "db64966b",
   "metadata": {},
   "outputs": [],
   "source": [
    "# Check if URL is an IP address\n",
    "ip_pattern = (\n",
    "    r\"(([01]?\\d\\d?|2[0-4]\\d|25[0-5])\\.([01]?\\d\\d?|2[0-4]\\d|25[0-5])\\.([01]?\\d\\d?|2[0-4]\\d|25[0-5])\\.\"\n",
    "    r\"([01]?\\d\\d?|2[0-4]\\d|25[0-5])\\/)|\"\n",
    "    r\"(([01]?\\d\\d?|2[0-4]\\d|25[0-5])\\.([01]?\\d\\d?|2[0-4]\\d|25[0-5])\\.([01]?\\d\\d?|2[0-4]\\d|25[0-5])\\.\"\n",
    "    r\"([01]?\\d\\d?|2[0-4]\\d|25[0-5])\\/)|\"\n",
    "    r\"((0x[0-9a-fA-F]{1,2})\\.(0x[0-9a-fA-F]{1,2})\\.(0x[0-9a-fA-F]{1,2})\\.(0x[0-9a-fA-F]{1,2})\\/)\"\n",
    "    r\"(?:[a-fA-F0-9]{1,4}:){7}[a-fA-F0-9]{1,4}|\"\n",
    "    r\"([0-9]+(?:\\.[0-9]+){3}:[0-9]+)|\"\n",
    "    r\"((?:(?:\\d|[01]?\\d\\d|2[0-4]\\d|25[0-5])\\.){3}(?:25[0-5]|2[0-4]\\d|[01]?\\d\\d|\\d)(?:\\/\\d{1,2})?)\"\n",
    ")\n",
    "\n",
    "def has_ip_address(url: str):\n",
    "    # re.I = ignore case\n",
    "    return int(re.search(ip_pattern, url, flags=re.I) is not None) \n",
    "\n",
    "df[\"has_ip\"] = df[\"url\"].apply(has_ip_address)\n"
   ]
  },
  {
   "cell_type": "code",
   "execution_count": 21,
   "id": "99f882dc",
   "metadata": {},
   "outputs": [
    {
     "data": {
      "image/png": "[encoded data removed]",
      "text/plain": [
       "<Figure size 1000x600 with 1 Axes>"
      ]
     },
     "metadata": {},
     "output_type": "display_data"
    }
   ],
   "source": [
    "plt.figure(figsize=(10, 6))\n",
    "sns.countplot(data=df, x=\"type\", hue=\"has_ip\", palette=\"bright\")\n",
    "plt.title(\"Has_IP vs Type\")\n",
    "plt.xlabel(\"Type\")\n",
    "plt.ylabel(\"Has_IP\")\n",
    "plt.xticks(rotation=45)\n",
    "plt.legend(title=\"Has IP Address\")\n",
    "plt.tight_layout()\n",
    "plt.show()\n"
   ]
  },
  {
   "cell_type": "markdown",
   "id": "041778a0",
   "metadata": {},
   "source": [
    "Having only an IP address has a strong correlation with being malware."
   ]
  },
  {
   "cell_type": "code",
   "execution_count": 22,
   "id": "20dbb3c4",
   "metadata": {},
   "outputs": [],
   "source": [
    "# Check if URL has been shortened by a service\n",
    "shortening_pattern = (\n",
    "    r\"bit\\.ly|goo\\.gl|shorte\\.st|go2l\\.ink|x\\.co|ow\\.ly|t\\.co|tinyurl|tr\\.im|is\\.gd|cli\\.gs|\"\n",
    "    r\"yfrog\\.com|migre\\.me|ff\\.im|tiny\\.cc|url4\\.eu|twit\\.ac|su\\.pr|twurl\\.nl|snipurl\\.com|\"\n",
    "    r\"short\\.to|BudURL\\.com|ping\\.fm|post\\.ly|Just\\.as|bkite\\.com|snipr\\.com|fic\\.kr|loopt\\.us|\"\n",
    "    r\"doiop\\.com|short\\.ie|kl\\.am|wp\\.me|rubyurl\\.com|om\\.ly|to\\.ly|bit\\.do|t\\.co|lnkd\\.in|\"\n",
    "    r\"db\\.tt|qr\\.ae|adf\\.ly|goo\\.gl|bitly\\.com|cur\\.lv|tinyurl\\.com|ow\\.ly|bit\\.ly|ity\\.im|\"\n",
    "    r\"q\\.gs|is\\.gd|po\\.st|bc\\.vc|twitthis\\.com|u\\.to|j\\.mp|buzurl\\.com|cutt\\.us|u\\.bb|yourls\\.org|\"\n",
    "    r\"x\\.co|prettylinkpro\\.com|scrnch\\.me|filoops\\.info|vzturl\\.com|qr\\.net|1url\\.com|tweez\\.me|v\\.gd|\"\n",
    "    r\"tr\\.im|link\\.zip\\.net\"\n",
    ")\n",
    "\n",
    "\n",
    "def has_shortening_service(url):\n",
    "    return int(re.search(shortening_pattern, url, flags=re.I) is not None)\n",
    "\n",
    "df[\"shortened\"] = df[\"url\"].apply(has_shortening_service)"
   ]
  },
  {
   "cell_type": "code",
   "execution_count": 23,
   "id": "ea9d409e",
   "metadata": {},
   "outputs": [
    {
     "data": {
      "image/png": "[encoded data removed]",
      "text/plain": [
       "<Figure size 1000x600 with 1 Axes>"
      ]
     },
     "metadata": {},
     "output_type": "display_data"
    }
   ],
   "source": [
    "plt.figure(figsize=(10, 6))\n",
    "sns.countplot(data=df, x=\"type\", hue=\"shortened\", palette=\"bright\")\n",
    "plt.title(\"Shortened VS Type\")\n",
    "plt.xlabel(\"Type\")\n",
    "plt.ylabel(\"Shortened Count\")\n",
    "plt.xticks(rotation=45)\n",
    "plt.legend(title=\"Has Shortening Service\")\n",
    "plt.tight_layout()\n",
    "plt.show()\n"
   ]
  },
  {
   "cell_type": "markdown",
   "id": "d5614d14",
   "metadata": {},
   "source": [
    "There is a correlation with a URL being shortened and it also being benign."
   ]
  },
  {
   "cell_type": "code",
   "execution_count": 24,
   "id": "f570e03c",
   "metadata": {},
   "outputs": [],
   "source": [
    "# Prepare training data\n",
    "y = df[\"category\"]\n",
    "X = df.drop([\"type\", \"category\", \"url\", \"domain\"], axis=1)"
   ]
  },
  {
   "cell_type": "code",
   "execution_count": 25,
   "id": "3d445147",
   "metadata": {},
   "outputs": [],
   "source": [
    "# Split into training and testing sets\n",
    "X_train, X_test, y_train, y_test = train_test_split(X, y, test_size=0.3, random_state=53)"
   ]
  },
  {
   "cell_type": "code",
   "execution_count": 26,
   "id": "fc8ff20a",
   "metadata": {},
   "outputs": [],
   "source": [
    "# Check if saved model exists\n",
    "if os.path.exists(\"svm_model_trained.pkl\"):\n",
    "    loaded_svm_model = pickle.load(open(\"svm_model_trained.pkl\", \"rb\"))\n",
    "else:\n",
    "    loaded_svm_model = None"
   ]
  },
  {
   "cell_type": "code",
   "execution_count": 27,
   "id": "12296ae6",
   "metadata": {},
   "outputs": [
    {
     "name": "stdout",
     "output_type": "stream",
     "text": [
      "Test Accuracy: 86.22444444444444%\n",
      "Train Accuracy: 86.63809523809523%\n"
     ]
    }
   ],
   "source": [
    "if not loaded_svm_model:\n",
    "    # Prepare Model and Train it\n",
    "    SVM_Model = SVC(gamma=\"auto\")\n",
    "    SVM_Model.fit(X_train, y_train)\n",
    "\n",
    "    # Predict for train set\n",
    "    y_train_pred = SVM_Model.predict(X_train)\n",
    "\n",
    "    # Predict for test set\n",
    "    y_pred = SVM_Model.predict(X_test)\n",
    "else:\n",
    "    # Predict for train set\n",
    "    y_train_pred = loaded_svm_model.predict(X_train)\n",
    "\n",
    "    # Predict for test set\n",
    "    y_pred = loaded_svm_model.predict(X_test)\n",
    "\n",
    "# Compute test accuracy\n",
    "test_accuracy = accuracy_score(y_test, y_pred)\n",
    "train_accuracy = accuracy_score(y_train, y_train_pred)\n",
    "\n",
    "print(f\"Test Accuracy: {test_accuracy * 100}%\")\n",
    "print(f\"Train Accuracy: {train_accuracy * 100}%\")\n"
   ]
  },
  {
   "cell_type": "code",
   "execution_count": 28,
   "id": "61542de4",
   "metadata": {},
   "outputs": [],
   "source": [
    "# Save Model\n",
    "if not loaded_svm_model:\n",
    "    pickle.dump(SVM_Model, open(\"svm_model_trained.pkl\", \"wb\"))"
   ]
  },
  {
   "cell_type": "code",
   "execution_count": 29,
   "id": "7ef7ec55",
   "metadata": {},
   "outputs": [],
   "source": [
    "cm_svm = confusion_matrix(y_test, y_pred)"
   ]
  },
  {
   "cell_type": "code",
   "execution_count": 30,
   "id": "86f108b0",
   "metadata": {},
   "outputs": [
    {
     "data": {
      "text/plain": [
       "Text(50.722222222222214, 0.5, 'Actual Type')"
      ]
     },
     "execution_count": 30,
     "metadata": {},
     "output_type": "execute_result"
    },
    {
     "data": {
      "image/png": "[encoded data removed]",
      "text/plain": [
       "<Figure size 640x480 with 1 Axes>"
      ]
     },
     "metadata": {},
     "output_type": "display_data"
    }
   ],
   "source": [
    "sns.heatmap(cm_svm, cmap=\"Blues\", cbar=False, annot=True, fmt='.0f')\n",
    "plt.xticks(np.arange(4) + 0.5, [\"Benign\", \"Phishing\", \"Defacement\", \"Malware\"])\n",
    "plt.yticks(np.arange(4) + 0.5, [\"Benign\", \"Phishing\", \"Defacement\", \"Malware\"])\n",
    "plt.title(\"SVM Confusion Matrix\")\n",
    "plt.xlabel(\"Predicted Type\")\n",
    "plt.ylabel(\"Actual Type\")\n"
   ]
  },
  {
   "cell_type": "code",
   "execution_count": 31,
   "id": "5b51c79b",
   "metadata": {},
   "outputs": [
    {
     "data": {
      "text/html": [
       "<div>\n",
       "<style scoped>\n",
       "    .dataframe tbody tr th:only-of-type {\n",
       "        vertical-align: middle;\n",
       "    }\n",
       "\n",
       "    .dataframe tbody tr th {\n",
       "        vertical-align: top;\n",
       "    }\n",
       "\n",
       "    .dataframe thead th {\n",
       "        text-align: right;\n",
       "    }\n",
       "</style>\n",
       "<table border=\"1\" class=\"dataframe\">\n",
       "  <thead>\n",
       "    <tr style=\"text-align: right;\">\n",
       "      <th></th>\n",
       "      <th>precision</th>\n",
       "      <th>recall</th>\n",
       "      <th>f1-score</th>\n",
       "      <th>support</th>\n",
       "    </tr>\n",
       "  </thead>\n",
       "  <tbody>\n",
       "    <tr>\n",
       "      <th>0</th>\n",
       "      <td>0.881515</td>\n",
       "      <td>0.959847</td>\n",
       "      <td>0.919015</td>\n",
       "      <td>29462.000000</td>\n",
       "    </tr>\n",
       "    <tr>\n",
       "      <th>1</th>\n",
       "      <td>0.676148</td>\n",
       "      <td>0.365338</td>\n",
       "      <td>0.474365</td>\n",
       "      <td>6572.000000</td>\n",
       "    </tr>\n",
       "    <tr>\n",
       "      <th>2</th>\n",
       "      <td>0.852540</td>\n",
       "      <td>0.948394</td>\n",
       "      <td>0.897916</td>\n",
       "      <td>6724.000000</td>\n",
       "    </tr>\n",
       "    <tr>\n",
       "      <th>3</th>\n",
       "      <td>0.923240</td>\n",
       "      <td>0.777877</td>\n",
       "      <td>0.844348</td>\n",
       "      <td>2242.000000</td>\n",
       "    </tr>\n",
       "    <tr>\n",
       "      <th>accuracy</th>\n",
       "      <td>0.862244</td>\n",
       "      <td>0.862244</td>\n",
       "      <td>0.862244</td>\n",
       "      <td>0.862244</td>\n",
       "    </tr>\n",
       "    <tr>\n",
       "      <th>macro avg</th>\n",
       "      <td>0.833361</td>\n",
       "      <td>0.762864</td>\n",
       "      <td>0.783911</td>\n",
       "      <td>45000.000000</td>\n",
       "    </tr>\n",
       "    <tr>\n",
       "      <th>weighted avg</th>\n",
       "      <td>0.849272</td>\n",
       "      <td>0.862244</td>\n",
       "      <td>0.847203</td>\n",
       "      <td>45000.000000</td>\n",
       "    </tr>\n",
       "  </tbody>\n",
       "</table>\n",
       "</div>"
      ],
      "text/plain": [
       "              precision    recall  f1-score       support\n",
       "0              0.881515  0.959847  0.919015  29462.000000\n",
       "1              0.676148  0.365338  0.474365   6572.000000\n",
       "2              0.852540  0.948394  0.897916   6724.000000\n",
       "3              0.923240  0.777877  0.844348   2242.000000\n",
       "accuracy       0.862244  0.862244  0.862244      0.862244\n",
       "macro avg      0.833361  0.762864  0.783911  45000.000000\n",
       "weighted avg   0.849272  0.862244  0.847203  45000.000000"
      ]
     },
     "execution_count": 31,
     "metadata": {},
     "output_type": "execute_result"
    }
   ],
   "source": [
    "# 0 = Benign\n",
    "# 1 = Phishing\n",
    "# 2 = Defacement\n",
    "# 3 = Malware\n",
    "report = classification_report(y_test, y_pred, output_dict=True)\n",
    "final_report = pd.DataFrame(report).transpose()\n",
    "final_report"
   ]
  },
  {
   "cell_type": "code",
   "execution_count": 32,
   "id": "d0236e82",
   "metadata": {},
   "outputs": [],
   "source": [
    "def compute_final_report(model_matrix):\n",
    "    # Compute true/false positive/negative rates\n",
    "    FP = model_matrix.sum(axis=0) - np.diag(model_matrix)\n",
    "    FN = model_matrix.sum(axis=1) - np.diag(model_matrix)\n",
    "    TP = np.diag(model_matrix)\n",
    "    TN = model_matrix.sum() - (FP + FN + TP)\n",
    "\n",
    "    data = {\n",
    "        \"Type\": [\"Benign\", \"Phishing\", \"Defacement\", \"Malware\"],\n",
    "        \"False Positives\": FP,\n",
    "        \"False Negatives\": FN,\n",
    "        \"True Positives\": TP,\n",
    "        \"True Negatives\": TN,\n",
    "    }\n",
    "\n",
    "    rates = pd.DataFrame(data)\n",
    "\n",
    "    # True positive rate\n",
    "    rates[\"TPR\"] = rates.apply(\n",
    "        lambda row: row[\"True Positives\"]\n",
    "        / (row[\"True Positives\"] + row[\"False Negatives\"]),\n",
    "        axis=1,\n",
    "    )\n",
    "\n",
    "    # True negative rate\n",
    "    rates[\"TNR\"] = rates.apply(\n",
    "        lambda row: row[\"True Negatives\"]\n",
    "        / (row[\"True Negatives\"] + row[\"False Positives\"]),\n",
    "        axis=1,\n",
    "    )\n",
    "\n",
    "    # Precision or positive predictive value\n",
    "    rates[\"Precision\"] = rates.apply(\n",
    "        lambda row: row[\"True Positives\"]\n",
    "        / (row[\"True Positives\"] + row[\"False Positives\"]),\n",
    "        axis=1,\n",
    "    )\n",
    "\n",
    "    # Negative predictive value\n",
    "    rates[\"NPV\"] = rates.apply(\n",
    "        lambda row: row[\"True Negatives\"]\n",
    "        / (row[\"True Negatives\"] + row[\"False Negatives\"]),\n",
    "        axis=1,\n",
    "    )\n",
    "\n",
    "    # Fall out or false positive rate\n",
    "    rates[\"NPV\"] = rates.apply(\n",
    "        lambda row: row[\"False Positives\"]\n",
    "        / (row[\"False Positives\"] + row[\"True Negatives\"]),\n",
    "        axis=1,\n",
    "    )\n",
    "\n",
    "    # False negative rate\n",
    "    rates[\"FNR\"] = rates.apply(\n",
    "        lambda row: row[\"False Negatives\"]\n",
    "        / (row[\"True Positives\"] + row[\"False Negatives\"]),\n",
    "        axis=1,\n",
    "    )\n",
    "\n",
    "    # False discovery rate\n",
    "    FDR = FP / (TP + FP)\n",
    "    rates[\"FDR\"] = rates.apply(\n",
    "        lambda row: row[\"False Positives\"]\n",
    "        / (row[\"True Positives\"] + row[\"False Positives\"]),\n",
    "        axis=1,\n",
    "    )\n",
    "\n",
    "    return rates"
   ]
  },
  {
   "cell_type": "code",
   "execution_count": 33,
   "id": "cf3d5a38",
   "metadata": {},
   "outputs": [
    {
     "data": {
      "text/html": [
       "<div>\n",
       "<style scoped>\n",
       "    .dataframe tbody tr th:only-of-type {\n",
       "        vertical-align: middle;\n",
       "    }\n",
       "\n",
       "    .dataframe tbody tr th {\n",
       "        vertical-align: top;\n",
       "    }\n",
       "\n",
       "    .dataframe thead th {\n",
       "        text-align: right;\n",
       "    }\n",
       "</style>\n",
       "<table border=\"1\" class=\"dataframe\">\n",
       "  <thead>\n",
       "    <tr style=\"text-align: right;\">\n",
       "      <th></th>\n",
       "      <th>Type</th>\n",
       "      <th>False Positives</th>\n",
       "      <th>False Negatives</th>\n",
       "      <th>True Positives</th>\n",
       "      <th>True Negatives</th>\n",
       "      <th>TPR</th>\n",
       "      <th>TNR</th>\n",
       "      <th>Precision</th>\n",
       "      <th>NPV</th>\n",
       "      <th>FNR</th>\n",
       "      <th>FDR</th>\n",
       "    </tr>\n",
       "  </thead>\n",
       "  <tbody>\n",
       "    <tr>\n",
       "      <th>0</th>\n",
       "      <td>Benign</td>\n",
       "      <td>3801</td>\n",
       "      <td>1183</td>\n",
       "      <td>28279</td>\n",
       "      <td>11737</td>\n",
       "      <td>0.959847</td>\n",
       "      <td>0.755374</td>\n",
       "      <td>0.881515</td>\n",
       "      <td>0.244626</td>\n",
       "      <td>0.040153</td>\n",
       "      <td>0.118485</td>\n",
       "    </tr>\n",
       "    <tr>\n",
       "      <th>1</th>\n",
       "      <td>Phishing</td>\n",
       "      <td>1150</td>\n",
       "      <td>4171</td>\n",
       "      <td>2401</td>\n",
       "      <td>37278</td>\n",
       "      <td>0.365338</td>\n",
       "      <td>0.970074</td>\n",
       "      <td>0.676148</td>\n",
       "      <td>0.029926</td>\n",
       "      <td>0.634662</td>\n",
       "      <td>0.323852</td>\n",
       "    </tr>\n",
       "    <tr>\n",
       "      <th>2</th>\n",
       "      <td>Defacement</td>\n",
       "      <td>1103</td>\n",
       "      <td>347</td>\n",
       "      <td>6377</td>\n",
       "      <td>37173</td>\n",
       "      <td>0.948394</td>\n",
       "      <td>0.971183</td>\n",
       "      <td>0.852540</td>\n",
       "      <td>0.028817</td>\n",
       "      <td>0.051606</td>\n",
       "      <td>0.147460</td>\n",
       "    </tr>\n",
       "    <tr>\n",
       "      <th>3</th>\n",
       "      <td>Malware</td>\n",
       "      <td>145</td>\n",
       "      <td>498</td>\n",
       "      <td>1744</td>\n",
       "      <td>42613</td>\n",
       "      <td>0.777877</td>\n",
       "      <td>0.996609</td>\n",
       "      <td>0.923240</td>\n",
       "      <td>0.003391</td>\n",
       "      <td>0.222123</td>\n",
       "      <td>0.076760</td>\n",
       "    </tr>\n",
       "  </tbody>\n",
       "</table>\n",
       "</div>"
      ],
      "text/plain": [
       "         Type  False Positives  False Negatives  True Positives  \\\n",
       "0      Benign             3801             1183           28279   \n",
       "1    Phishing             1150             4171            2401   \n",
       "2  Defacement             1103              347            6377   \n",
       "3     Malware              145              498            1744   \n",
       "\n",
       "   True Negatives       TPR       TNR  Precision       NPV       FNR       FDR  \n",
       "0           11737  0.959847  0.755374   0.881515  0.244626  0.040153  0.118485  \n",
       "1           37278  0.365338  0.970074   0.676148  0.029926  0.634662  0.323852  \n",
       "2           37173  0.948394  0.971183   0.852540  0.028817  0.051606  0.147460  \n",
       "3           42613  0.777877  0.996609   0.923240  0.003391  0.222123  0.076760  "
      ]
     },
     "execution_count": 33,
     "metadata": {},
     "output_type": "execute_result"
    }
   ],
   "source": [
    "compute_final_report(cm_svm).head()"
   ]
  },
  {
   "cell_type": "code",
   "execution_count": 34,
   "id": "cee5fdf9",
   "metadata": {},
   "outputs": [],
   "source": [
    "loaded_clf = None if not os.path.exists(\"clf_model_trained.pkl\") else pickle.load(open(\"clf_model_trained.pkl\", \"rb\"))"
   ]
  },
  {
   "cell_type": "code",
   "execution_count": 35,
   "id": "00b4cbbd",
   "metadata": {},
   "outputs": [],
   "source": [
    "if not loaded_clf:\n",
    "    clf = RandomForestClassifier(random_state=53)\n",
    "    clf.fit(X_train, y_train)\n",
    "\n",
    "    clf_y_train_pred = clf.predict(X_train)\n",
    "    clf_y_pred = clf.predict(X_test)\n",
    "\n",
    "else:\n",
    "    clf_y_train_pred = loaded_clf.predict(X_train)\n",
    "    clf_y_pred = loaded_clf.clf.predict(X_test)\n"
   ]
  },
  {
   "cell_type": "code",
   "execution_count": 36,
   "id": "c7522686",
   "metadata": {},
   "outputs": [
    {
     "name": "stdout",
     "output_type": "stream",
     "text": [
      "Test Accuracy: 92.47714285714285%\n",
      "Train Accuracy: 88.62222222222222%\n"
     ]
    }
   ],
   "source": [
    "clf_train_accuracy = accuracy_score(y_test, clf_y_pred)\n",
    "clf_test_accuracy = accuracy_score(y_train, clf_y_train_pred)\n",
    "\n",
    "print(f\"Test Accuracy: {clf_test_accuracy * 100}%\")\n",
    "print(f\"Train Accuracy: {clf_train_accuracy * 100}%\")\n"
   ]
  },
  {
   "cell_type": "code",
   "execution_count": 37,
   "id": "b661b2f2",
   "metadata": {},
   "outputs": [],
   "source": [
    "# Save Model\n",
    "if not loaded_svm_model:\n",
    "    pickle.dump(SVM_Model, open(\"clf_model_trained.pkl\", \"wb\"))"
   ]
  },
  {
   "cell_type": "code",
   "execution_count": 38,
   "id": "da6ff9dd",
   "metadata": {},
   "outputs": [],
   "source": [
    "cm_clf = confusion_matrix(y_test, clf_y_pred)"
   ]
  },
  {
   "cell_type": "code",
   "execution_count": 39,
   "id": "6690d0c5",
   "metadata": {},
   "outputs": [
    {
     "data": {
      "text/plain": [
       "Text(50.722222222222214, 0.5, 'Actual Type')"
      ]
     },
     "execution_count": 39,
     "metadata": {},
     "output_type": "execute_result"
    },
    {
     "data": {
      "image/png": "[encoded data removed]",
      "text/plain": [
       "<Figure size 640x480 with 1 Axes>"
      ]
     },
     "metadata": {},
     "output_type": "display_data"
    }
   ],
   "source": [
    "sns.heatmap(cm_clf, cmap=\"Blues\", cbar=False, annot=True, fmt=\".0f\")\n",
    "plt.xticks(np.arange(4) + 0.5, [\"Benign\", \"Phishing\", \"Defacement\", \"Malware\"])\n",
    "plt.yticks(np.arange(4) + 0.5, [\"Benign\", \"Phishing\", \"Defacement\", \"Malware\"])\n",
    "plt.title(\"Random Forest Confusion Matrix\")\n",
    "plt.xlabel(\"Predicted Type\")\n",
    "plt.ylabel(\"Actual Type\")"
   ]
  },
  {
   "cell_type": "code",
   "execution_count": 40,
   "id": "5914cf0d",
   "metadata": {},
   "outputs": [
    {
     "data": {
      "text/html": [
       "<div>\n",
       "<style scoped>\n",
       "    .dataframe tbody tr th:only-of-type {\n",
       "        vertical-align: middle;\n",
       "    }\n",
       "\n",
       "    .dataframe tbody tr th {\n",
       "        vertical-align: top;\n",
       "    }\n",
       "\n",
       "    .dataframe thead th {\n",
       "        text-align: right;\n",
       "    }\n",
       "</style>\n",
       "<table border=\"1\" class=\"dataframe\">\n",
       "  <thead>\n",
       "    <tr style=\"text-align: right;\">\n",
       "      <th></th>\n",
       "      <th>precision</th>\n",
       "      <th>recall</th>\n",
       "      <th>f1-score</th>\n",
       "      <th>support</th>\n",
       "    </tr>\n",
       "  </thead>\n",
       "  <tbody>\n",
       "    <tr>\n",
       "      <th>0</th>\n",
       "      <td>0.903239</td>\n",
       "      <td>0.958760</td>\n",
       "      <td>0.930172</td>\n",
       "      <td>29462.000000</td>\n",
       "    </tr>\n",
       "    <tr>\n",
       "      <th>1</th>\n",
       "      <td>0.701808</td>\n",
       "      <td>0.490262</td>\n",
       "      <td>0.577264</td>\n",
       "      <td>6572.000000</td>\n",
       "    </tr>\n",
       "    <tr>\n",
       "      <th>2</th>\n",
       "      <td>0.910262</td>\n",
       "      <td>0.956425</td>\n",
       "      <td>0.932772</td>\n",
       "      <td>6724.000000</td>\n",
       "    </tr>\n",
       "    <tr>\n",
       "      <th>3</th>\n",
       "      <td>0.956060</td>\n",
       "      <td>0.883140</td>\n",
       "      <td>0.918154</td>\n",
       "      <td>2242.000000</td>\n",
       "    </tr>\n",
       "    <tr>\n",
       "      <th>accuracy</th>\n",
       "      <td>0.886222</td>\n",
       "      <td>0.886222</td>\n",
       "      <td>0.886222</td>\n",
       "      <td>0.886222</td>\n",
       "    </tr>\n",
       "    <tr>\n",
       "      <th>macro avg</th>\n",
       "      <td>0.867842</td>\n",
       "      <td>0.822147</td>\n",
       "      <td>0.839591</td>\n",
       "      <td>45000.000000</td>\n",
       "    </tr>\n",
       "    <tr>\n",
       "      <th>weighted avg</th>\n",
       "      <td>0.877502</td>\n",
       "      <td>0.886222</td>\n",
       "      <td>0.878422</td>\n",
       "      <td>45000.000000</td>\n",
       "    </tr>\n",
       "  </tbody>\n",
       "</table>\n",
       "</div>"
      ],
      "text/plain": [
       "              precision    recall  f1-score       support\n",
       "0              0.903239  0.958760  0.930172  29462.000000\n",
       "1              0.701808  0.490262  0.577264   6572.000000\n",
       "2              0.910262  0.956425  0.932772   6724.000000\n",
       "3              0.956060  0.883140  0.918154   2242.000000\n",
       "accuracy       0.886222  0.886222  0.886222      0.886222\n",
       "macro avg      0.867842  0.822147  0.839591  45000.000000\n",
       "weighted avg   0.877502  0.886222  0.878422  45000.000000"
      ]
     },
     "execution_count": 40,
     "metadata": {},
     "output_type": "execute_result"
    }
   ],
   "source": [
    "# 0 = Benign\n",
    "# 1 = Phishing\n",
    "# 2 = Defacement\n",
    "# 3 = Malware\n",
    "report = classification_report(y_test, clf_y_pred, output_dict=True)\n",
    "final_report = pd.DataFrame(report).transpose()\n",
    "final_report"
   ]
  },
  {
   "cell_type": "code",
   "execution_count": 41,
   "id": "5db104cb",
   "metadata": {},
   "outputs": [
    {
     "data": {
      "text/html": [
       "<div>\n",
       "<style scoped>\n",
       "    .dataframe tbody tr th:only-of-type {\n",
       "        vertical-align: middle;\n",
       "    }\n",
       "\n",
       "    .dataframe tbody tr th {\n",
       "        vertical-align: top;\n",
       "    }\n",
       "\n",
       "    .dataframe thead th {\n",
       "        text-align: right;\n",
       "    }\n",
       "</style>\n",
       "<table border=\"1\" class=\"dataframe\">\n",
       "  <thead>\n",
       "    <tr style=\"text-align: right;\">\n",
       "      <th></th>\n",
       "      <th>Type</th>\n",
       "      <th>False Positives</th>\n",
       "      <th>False Negatives</th>\n",
       "      <th>True Positives</th>\n",
       "      <th>True Negatives</th>\n",
       "      <th>TPR</th>\n",
       "      <th>TNR</th>\n",
       "      <th>Precision</th>\n",
       "      <th>NPV</th>\n",
       "      <th>FNR</th>\n",
       "      <th>FDR</th>\n",
       "    </tr>\n",
       "  </thead>\n",
       "  <tbody>\n",
       "    <tr>\n",
       "      <th>0</th>\n",
       "      <td>Benign</td>\n",
       "      <td>3026</td>\n",
       "      <td>1215</td>\n",
       "      <td>28247</td>\n",
       "      <td>12512</td>\n",
       "      <td>0.958760</td>\n",
       "      <td>0.805252</td>\n",
       "      <td>0.903239</td>\n",
       "      <td>0.194748</td>\n",
       "      <td>0.041240</td>\n",
       "      <td>0.096761</td>\n",
       "    </tr>\n",
       "    <tr>\n",
       "      <th>1</th>\n",
       "      <td>Phishing</td>\n",
       "      <td>1369</td>\n",
       "      <td>3350</td>\n",
       "      <td>3222</td>\n",
       "      <td>37059</td>\n",
       "      <td>0.490262</td>\n",
       "      <td>0.964375</td>\n",
       "      <td>0.701808</td>\n",
       "      <td>0.035625</td>\n",
       "      <td>0.509738</td>\n",
       "      <td>0.298192</td>\n",
       "    </tr>\n",
       "    <tr>\n",
       "      <th>2</th>\n",
       "      <td>Defacement</td>\n",
       "      <td>634</td>\n",
       "      <td>293</td>\n",
       "      <td>6431</td>\n",
       "      <td>37642</td>\n",
       "      <td>0.956425</td>\n",
       "      <td>0.983436</td>\n",
       "      <td>0.910262</td>\n",
       "      <td>0.016564</td>\n",
       "      <td>0.043575</td>\n",
       "      <td>0.089738</td>\n",
       "    </tr>\n",
       "    <tr>\n",
       "      <th>3</th>\n",
       "      <td>Malware</td>\n",
       "      <td>91</td>\n",
       "      <td>262</td>\n",
       "      <td>1980</td>\n",
       "      <td>42667</td>\n",
       "      <td>0.883140</td>\n",
       "      <td>0.997872</td>\n",
       "      <td>0.956060</td>\n",
       "      <td>0.002128</td>\n",
       "      <td>0.116860</td>\n",
       "      <td>0.043940</td>\n",
       "    </tr>\n",
       "  </tbody>\n",
       "</table>\n",
       "</div>"
      ],
      "text/plain": [
       "         Type  False Positives  False Negatives  True Positives  \\\n",
       "0      Benign             3026             1215           28247   \n",
       "1    Phishing             1369             3350            3222   \n",
       "2  Defacement              634              293            6431   \n",
       "3     Malware               91              262            1980   \n",
       "\n",
       "   True Negatives       TPR       TNR  Precision       NPV       FNR       FDR  \n",
       "0           12512  0.958760  0.805252   0.903239  0.194748  0.041240  0.096761  \n",
       "1           37059  0.490262  0.964375   0.701808  0.035625  0.509738  0.298192  \n",
       "2           37642  0.956425  0.983436   0.910262  0.016564  0.043575  0.089738  \n",
       "3           42667  0.883140  0.997872   0.956060  0.002128  0.116860  0.043940  "
      ]
     },
     "execution_count": 41,
     "metadata": {},
     "output_type": "execute_result"
    }
   ],
   "source": [
    "compute_final_report(cm_clf).head()"
   ]
  },
  {
   "cell_type": "code",
   "execution_count": 42,
   "id": "c96d498b",
   "metadata": {},
   "outputs": [],
   "source": [
    "# Define Scaler for KNN\n",
    "scaler = StandardScaler()\n",
    "scaler.fit(X_train)\n",
    "X_train = scaler.transform(X_train)\n",
    "X_test = scaler.transform(X_test)"
   ]
  },
  {
   "cell_type": "code",
   "execution_count": 43,
   "id": "261e19cb",
   "metadata": {},
   "outputs": [],
   "source": [
    "# KNN classifier load if exists else train and run\n",
    "loaded_knn = (\n",
    "    None\n",
    "    if not os.path.exists(\"knn_model_trained.pkl\")\n",
    "    else pickle.load(open(\"knn_model_trained.pkl\", \"rb\"))\n",
    ")\n"
   ]
  },
  {
   "cell_type": "code",
   "execution_count": 44,
   "id": "014acfa9",
   "metadata": {},
   "outputs": [],
   "source": [
    "if not loaded_knn:\n",
    "    # Decide on best neighbor value\n",
    "    neighbors = range(1, 40)\n",
    "    train_acc = []\n",
    "    test_acc = []\n",
    "\n",
    "    for n in neighbors:\n",
    "        knn = KNeighborsClassifier(n_neighbors=n)\n",
    "        knn.fit(X_train, y_train)\n",
    "        knn_y_train_pred = knn.predict(X_train)\n",
    "        knn_y_pred = knn.predict(X_test)\n",
    "        test_acc.append(accuracy_score(y_test, knn_y_pred))\n",
    "        train_acc.append(accuracy_score(y_train, knn_y_train_pred))"
   ]
  },
  {
   "cell_type": "code",
   "execution_count": 46,
   "id": "1689629c",
   "metadata": {},
   "outputs": [],
   "source": [
    "plt.plot(neighbors, train_acc, label=\"training accuracy\")\n",
    "plt.plot(neighbors, test_acc, label=\"test accuracy\")\n",
    "plt.ylabel(\"Accuracy\")\n",
    "plt.xlabel(\"# of Neighbors\")\n",
    "plt.legend()"
   ]
  },
  {
   "cell_type": "code",
   "execution_count": 47,
   "id": "f1c78926",
   "metadata": {},
   "outputs": [],
   "source": [
    "if not loaded_knn:\n",
    "    knn = KNeighborsClassifier(n_neighbors=18)\n",
    "    knn.fit(X_train, y_train)\n",
    "    knn_y_train_pred = knn.predict(X_train)\n",
    "    knn_y_pred = knn.predict(X_test)\n",
    "else:\n",
    "    knn_y_train_pred = loaded_knn.predict(X_train)\n",
    "    knn_y_pred = loaded_knn.predict(X_test)\n",
    "    "
   ]
  },
  {
   "cell_type": "code",
   "execution_count": 48,
   "id": "03da2a8a",
   "metadata": {},
   "outputs": [
    {
     "name": "stdout",
     "output_type": "stream",
     "text": [
      "Test Accuracy: 87.93333333333334%\n",
      "Train Accuracy: 87.30666666666667%\n"
     ]
    }
   ],
   "source": [
    "knn_train_accuracy = accuracy_score(y_test, knn_y_pred)\n",
    "knn_test_accuracy = accuracy_score(y_train, knn_y_train_pred)\n",
    "\n",
    "print(f\"Test Accuracy: {knn_test_accuracy * 100}%\")\n",
    "print(f\"Train Accuracy: {knn_train_accuracy * 100}%\")\n"
   ]
  },
  {
   "cell_type": "code",
   "execution_count": 49,
   "id": "9fdaa26b",
   "metadata": {},
   "outputs": [],
   "source": [
    "# Save Model\n",
    "if not loaded_knn:\n",
    "    pickle.dump(knn, open(\"knn_model_trained.pkl\", \"wb\"))\n"
   ]
  },
  {
   "cell_type": "code",
   "execution_count": 50,
   "id": "0856eb31",
   "metadata": {},
   "outputs": [],
   "source": [
    "cm_knn = confusion_matrix(y_test, knn_y_pred)"
   ]
  },
  {
   "cell_type": "code",
   "execution_count": 51,
   "id": "cf8151ae",
   "metadata": {},
   "outputs": [
    {
     "data": {
      "text/plain": [
       "Text(50.722222222222214, 0.5, 'Actual Type')"
      ]
     },
     "execution_count": 51,
     "metadata": {},
     "output_type": "execute_result"
    },
    {
     "data": {
      "image/png": "[encoded data removed]",
      "text/plain": [
       "<Figure size 640x480 with 1 Axes>"
      ]
     },
     "metadata": {},
     "output_type": "display_data"
    }
   ],
   "source": [
    "sns.heatmap(cm_knn, cmap=\"Blues\", cbar=False, annot=True, fmt=\".0f\")\n",
    "plt.xticks(np.arange(4) + 0.5, [\"Benign\", \"Phishing\", \"Defacement\", \"Malware\"])\n",
    "plt.yticks(np.arange(4) + 0.5, [\"Benign\", \"Phishing\", \"Defacement\", \"Malware\"])\n",
    "plt.title(\"KNN Confusion Matrix\")\n",
    "plt.xlabel(\"Predicted Type\")\n",
    "plt.ylabel(\"Actual Type\")\n"
   ]
  },
  {
   "cell_type": "code",
   "execution_count": 52,
   "id": "38e36e6c",
   "metadata": {},
   "outputs": [
    {
     "data": {
      "text/html": [
       "<div>\n",
       "<style scoped>\n",
       "    .dataframe tbody tr th:only-of-type {\n",
       "        vertical-align: middle;\n",
       "    }\n",
       "\n",
       "    .dataframe tbody tr th {\n",
       "        vertical-align: top;\n",
       "    }\n",
       "\n",
       "    .dataframe thead th {\n",
       "        text-align: right;\n",
       "    }\n",
       "</style>\n",
       "<table border=\"1\" class=\"dataframe\">\n",
       "  <thead>\n",
       "    <tr style=\"text-align: right;\">\n",
       "      <th></th>\n",
       "      <th>precision</th>\n",
       "      <th>recall</th>\n",
       "      <th>f1-score</th>\n",
       "      <th>support</th>\n",
       "    </tr>\n",
       "  </thead>\n",
       "  <tbody>\n",
       "    <tr>\n",
       "      <th>0</th>\n",
       "      <td>0.894508</td>\n",
       "      <td>0.955807</td>\n",
       "      <td>0.924142</td>\n",
       "      <td>29462.000000</td>\n",
       "    </tr>\n",
       "    <tr>\n",
       "      <th>1</th>\n",
       "      <td>0.684719</td>\n",
       "      <td>0.442483</td>\n",
       "      <td>0.537573</td>\n",
       "      <td>6572.000000</td>\n",
       "    </tr>\n",
       "    <tr>\n",
       "      <th>2</th>\n",
       "      <td>0.881443</td>\n",
       "      <td>0.948691</td>\n",
       "      <td>0.913831</td>\n",
       "      <td>6724.000000</td>\n",
       "    </tr>\n",
       "    <tr>\n",
       "      <th>3</th>\n",
       "      <td>0.904668</td>\n",
       "      <td>0.821142</td>\n",
       "      <td>0.860884</td>\n",
       "      <td>2242.000000</td>\n",
       "    </tr>\n",
       "    <tr>\n",
       "      <th>accuracy</th>\n",
       "      <td>0.873067</td>\n",
       "      <td>0.873067</td>\n",
       "      <td>0.873067</td>\n",
       "      <td>0.873067</td>\n",
       "    </tr>\n",
       "    <tr>\n",
       "      <th>macro avg</th>\n",
       "      <td>0.841334</td>\n",
       "      <td>0.792031</td>\n",
       "      <td>0.809108</td>\n",
       "      <td>45000.000000</td>\n",
       "    </tr>\n",
       "    <tr>\n",
       "      <th>weighted avg</th>\n",
       "      <td>0.862423</td>\n",
       "      <td>0.873067</td>\n",
       "      <td>0.862994</td>\n",
       "      <td>45000.000000</td>\n",
       "    </tr>\n",
       "  </tbody>\n",
       "</table>\n",
       "</div>"
      ],
      "text/plain": [
       "              precision    recall  f1-score       support\n",
       "0              0.894508  0.955807  0.924142  29462.000000\n",
       "1              0.684719  0.442483  0.537573   6572.000000\n",
       "2              0.881443  0.948691  0.913831   6724.000000\n",
       "3              0.904668  0.821142  0.860884   2242.000000\n",
       "accuracy       0.873067  0.873067  0.873067      0.873067\n",
       "macro avg      0.841334  0.792031  0.809108  45000.000000\n",
       "weighted avg   0.862423  0.873067  0.862994  45000.000000"
      ]
     },
     "execution_count": 52,
     "metadata": {},
     "output_type": "execute_result"
    }
   ],
   "source": [
    "# 0 = Benign\n",
    "# 1 = Phishing\n",
    "# 2 = Defacement\n",
    "# 3 = Malware\n",
    "report = classification_report(y_test, knn_y_pred, output_dict=True)\n",
    "final_report = pd.DataFrame(report).transpose()\n",
    "final_report"
   ]
  },
  {
   "cell_type": "code",
   "execution_count": 53,
   "id": "9cde9f71",
   "metadata": {},
   "outputs": [
    {
     "data": {
      "text/html": [
       "<div>\n",
       "<style scoped>\n",
       "    .dataframe tbody tr th:only-of-type {\n",
       "        vertical-align: middle;\n",
       "    }\n",
       "\n",
       "    .dataframe tbody tr th {\n",
       "        vertical-align: top;\n",
       "    }\n",
       "\n",
       "    .dataframe thead th {\n",
       "        text-align: right;\n",
       "    }\n",
       "</style>\n",
       "<table border=\"1\" class=\"dataframe\">\n",
       "  <thead>\n",
       "    <tr style=\"text-align: right;\">\n",
       "      <th></th>\n",
       "      <th>Type</th>\n",
       "      <th>False Positives</th>\n",
       "      <th>False Negatives</th>\n",
       "      <th>True Positives</th>\n",
       "      <th>True Negatives</th>\n",
       "      <th>TPR</th>\n",
       "      <th>TNR</th>\n",
       "      <th>Precision</th>\n",
       "      <th>NPV</th>\n",
       "      <th>FNR</th>\n",
       "      <th>FDR</th>\n",
       "    </tr>\n",
       "  </thead>\n",
       "  <tbody>\n",
       "    <tr>\n",
       "      <th>0</th>\n",
       "      <td>Benign</td>\n",
       "      <td>3321</td>\n",
       "      <td>1302</td>\n",
       "      <td>28160</td>\n",
       "      <td>12217</td>\n",
       "      <td>0.955807</td>\n",
       "      <td>0.786266</td>\n",
       "      <td>0.894508</td>\n",
       "      <td>0.213734</td>\n",
       "      <td>0.044193</td>\n",
       "      <td>0.105492</td>\n",
       "    </tr>\n",
       "    <tr>\n",
       "      <th>1</th>\n",
       "      <td>Phishing</td>\n",
       "      <td>1339</td>\n",
       "      <td>3664</td>\n",
       "      <td>2908</td>\n",
       "      <td>37089</td>\n",
       "      <td>0.442483</td>\n",
       "      <td>0.965156</td>\n",
       "      <td>0.684719</td>\n",
       "      <td>0.034844</td>\n",
       "      <td>0.557517</td>\n",
       "      <td>0.315281</td>\n",
       "    </tr>\n",
       "    <tr>\n",
       "      <th>2</th>\n",
       "      <td>Defacement</td>\n",
       "      <td>858</td>\n",
       "      <td>345</td>\n",
       "      <td>6379</td>\n",
       "      <td>37418</td>\n",
       "      <td>0.948691</td>\n",
       "      <td>0.977584</td>\n",
       "      <td>0.881443</td>\n",
       "      <td>0.022416</td>\n",
       "      <td>0.051309</td>\n",
       "      <td>0.118557</td>\n",
       "    </tr>\n",
       "    <tr>\n",
       "      <th>3</th>\n",
       "      <td>Malware</td>\n",
       "      <td>194</td>\n",
       "      <td>401</td>\n",
       "      <td>1841</td>\n",
       "      <td>42564</td>\n",
       "      <td>0.821142</td>\n",
       "      <td>0.995463</td>\n",
       "      <td>0.904668</td>\n",
       "      <td>0.004537</td>\n",
       "      <td>0.178858</td>\n",
       "      <td>0.095332</td>\n",
       "    </tr>\n",
       "  </tbody>\n",
       "</table>\n",
       "</div>"
      ],
      "text/plain": [
       "         Type  False Positives  False Negatives  True Positives  \\\n",
       "0      Benign             3321             1302           28160   \n",
       "1    Phishing             1339             3664            2908   \n",
       "2  Defacement              858              345            6379   \n",
       "3     Malware              194              401            1841   \n",
       "\n",
       "   True Negatives       TPR       TNR  Precision       NPV       FNR       FDR  \n",
       "0           12217  0.955807  0.786266   0.894508  0.213734  0.044193  0.105492  \n",
       "1           37089  0.442483  0.965156   0.684719  0.034844  0.557517  0.315281  \n",
       "2           37418  0.948691  0.977584   0.881443  0.022416  0.051309  0.118557  \n",
       "3           42564  0.821142  0.995463   0.904668  0.004537  0.178858  0.095332  "
      ]
     },
     "execution_count": 53,
     "metadata": {},
     "output_type": "execute_result"
    }
   ],
   "source": [
    "compute_final_report(cm_knn).head()"
   ]
  },
  {
   "cell_type": "markdown",
   "id": "0eaedb8e",
   "metadata": {},
   "source": [
    "## Results\n",
    "Interpreting the final report for SVM shows a precision of 92% for Malware meaning that the model is certain a URL is Malware 92% of the time. The next highest precision is Benign URLs with an 88% precision. Recall represents the detection rate of the model i.e. how many of the True Positives were detected by category. For recall, the leading 2 are Benign and Defacement with 96% and 94.8% respectively. F1-score represents an average between precision and recall and represents a scaled accuracy between the types. Here, Benign is the leader with 91.9% accuracy followed closely by Defacement with 89.8% and Malware with 84.4%. Phishing showed the worst overall performance with a F1-score of 47.4%.\n",
    "\n",
    "Interpreting the SVM matrix, we can see that Benign URLS had the highest chance of being correctly identified at 96% recall rate followed by Defacement at 94.8%. Additionally, our classification heuristics correctly identified a URL not being malware with a true negative rate of 99.7%. The weakest performance was from Phishing with a 36.5% True positive rate followed by Malware's TPV. The bulk of the misidentification in the case of Phishing was from false negatives. Phishing had the highest false negative rate of 63% followed by malware of 22%. Defacement and Benign types had a comparatively insignificant FNR of about 4-5%. The highest negative predictive value was Benign which means that the model is most confident when describing a URL as not Benign.\n",
    "\n",
    "The random forest model showed a max of 95% precision with the next highest being for Defacement URLs with a precision of 91%. The highest recall values were from Benign and Defacement, both with 95% recall rates. The same two types were also tied for top F1-score with a value of 93%. The worst performers for F1-score was Phishing with 57.8%. Random forest showed a high TNR across all types except Benign, ranging from the lowest of Phishing at 96.4% to Malware with 99.8%. Phishing had the highest FNR of 50.1% again with the next significant one being Malware with 11.7% followed by Benign and Defacement with 4% FNRs each.\n",
    "\n",
    "KNN showed a max precision of 90% for Malware with Defacement and Benign having precisions of 88% and 89% respectively with a neighbor count of 18. 18 was chosen because any higher value would have closed the gap in accuracy but at the cost of significant overall accuracy. The highest TPR recorded was 95% by Benign types. The highest TNR was Malware with 99.5% with the same pattern as the previous 2 models occurring for Phishing and Defacement. \n",
    "\n",
    "Overall, random forest performed the best followed by SVM and KNN showing higher precision, TNRs, and TPRs across the board. KNN performed better than SVM in some categories but also lost in some such that the differences are negligible between KNN and SVM. "
   ]
  },
  {
   "cell_type": "markdown",
   "id": "423b1ced",
   "metadata": {},
   "source": [
    "## Conclusion\n",
    "\n",
    "In conclusion, based on the evaluation of the aforementioned algorithms, random forest emerged as the most effective model between these 3 models. Random forest exhibited superior precision, recall, and F1-score metrics across all categories and all URL types. However, like the other models, random forest displayed a weakness in identifying phishing URLs with an F1-score of 57.8%. Based on the data, all three models did correctly identify a benign versus malicious URL with about a 99% rate meaning that though classifying URLs into specific malicious categories still prove difficult, the models tested performed well when differentiating a malicious URL from the three malicious categories from a harmless benign URL. What this means in practice is that these models would perform well in URL identification tasks when the problem is binary in nature, but has the risk of falsely categorizing a malicious URL when told to do so. Future research could explore additional models and heuristics to enhance the accuracy of these metrics."
   ]
  },
  {
   "cell_type": "markdown",
   "id": "847b784e",
   "metadata": {},
   "source": [
    "## References\n",
    "https://stackoverflow.com/questions/31324218/scikit-learn-how-to-obtain-true-positive-true-negative-false-positive-and-fal\n",
    "\n",
    "https://www.kaggle.com/datasets/sid321axn/malicious-urls-dataset\n",
    "\n",
    "https://www.kaggle.com/code/salemjadroun/malicious-urls-machine-learning-with-91-46-acc/notebook\n",
    "\n",
    "https://dev.to/ruthvikraja_mv/identifying-suspicious-urls-using-supervised-learning-and-lexical-analysis-215h\n"
   ]
  }
 ],
 "metadata": {
  "kernelspec": {
   "display_name": "security",
   "language": "python",
   "name": "security"
  },
  "language_info": {
   "codemirror_mode": {
    "name": "ipython",
    "version": 3
   },
   "file_extension": ".py",
   "mimetype": "text/x-python",
   "name": "python",
   "nbconvert_exporter": "python",
   "pygments_lexer": "ipython3",
   "version": "3.12.3"
  }
 },
 "nbformat": 4,
 "nbformat_minor": 5
}
