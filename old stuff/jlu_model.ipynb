{
 "cells": [
  {
   "cell_type": "markdown",
   "id": "0fd15bd3-4fd8-4df6-b39e-e9172d557ba4",
   "metadata": {},
   "source": [
    "## Setup"
   ]
  },
  {
   "cell_type": "code",
   "execution_count": 1,
   "id": "be91922e-d159-4b14-9b3d-152024c8c2ca",
   "metadata": {},
   "outputs": [
    {
     "name": "stderr",
     "output_type": "stream",
     "text": [
      "/home/012392471/miniconda3/envs/security/lib/python3.12/site-packages/tqdm/auto.py:21: TqdmWarning: IProgress not found. Please update jupyter and ipywidgets. See https://ipywidgets.readthedocs.io/en/stable/user_install.html\n",
      "  from .autonotebook import tqdm as notebook_tqdm\n"
     ]
    }
   ],
   "source": [
    "import math\n",
    "\n",
    "import numpy as np\n",
    "import pandas as pd\n",
    "import torch\n",
    "\n",
    "from sklearn.metrics import confusion_matrix, classification_report\n",
    "import matplotlib.pyplot as plt\n",
    "import seaborn as sns\n",
    "\n",
    "from transformers import AutoTokenizer, AutoModelForSequenceClassification, TrainingArguments, Trainer\n",
    "from datasets import Dataset"
   ]
  },
  {
   "cell_type": "markdown",
   "id": "83181067-426d-41d1-829f-561984aade4f",
   "metadata": {},
   "source": [
    "## Reading in Data"
   ]
  },
  {
   "cell_type": "markdown",
   "id": "dbfb941f-2725-4ce9-8193-b8cfd73bbf0a",
   "metadata": {},
   "source": [
    "For this project, we are using a dataset from Kaggle containing 651,191 URLs and 4 classes (benign, defacement, phishing, and malware) [1]. Benign URLs are not malicious. Defacement URLs refer to trusted websites being hacked to include malicious content [2].\n",
    "\n",
    "The URLs were gathered from multiple sources: an ISCX-URL2016 dataset from University of New Brunswick, a Phishtank dataset, a PhishStorm dataset, and a dataset of benign URLs from a git repository [1]."
   ]
  },
  {
   "cell_type": "code",
   "execution_count": 120,
   "id": "9c9e8411-9110-4a64-a9bc-b3bdafcb9e33",
   "metadata": {},
   "outputs": [
    {
     "data": {
      "text/html": [
       "<div>\n",
       "<style scoped>\n",
       "    .dataframe tbody tr th:only-of-type {\n",
       "        vertical-align: middle;\n",
       "    }\n",
       "\n",
       "    .dataframe tbody tr th {\n",
       "        vertical-align: top;\n",
       "    }\n",
       "\n",
       "    .dataframe thead th {\n",
       "        text-align: right;\n",
       "    }\n",
       "</style>\n",
       "<table border=\"1\" class=\"dataframe\">\n",
       "  <thead>\n",
       "    <tr style=\"text-align: right;\">\n",
       "      <th></th>\n",
       "      <th>url</th>\n",
       "      <th>type</th>\n",
       "    </tr>\n",
       "  </thead>\n",
       "  <tbody>\n",
       "    <tr>\n",
       "      <th>0</th>\n",
       "      <td>br-icloud.com.br</td>\n",
       "      <td>phishing</td>\n",
       "    </tr>\n",
       "    <tr>\n",
       "      <th>1</th>\n",
       "      <td>mp3raid.com/music/krizz_kaliko.html</td>\n",
       "      <td>benign</td>\n",
       "    </tr>\n",
       "    <tr>\n",
       "      <th>2</th>\n",
       "      <td>bopsecrets.org/rexroth/cr/1.htm</td>\n",
       "      <td>benign</td>\n",
       "    </tr>\n",
       "    <tr>\n",
       "      <th>3</th>\n",
       "      <td>http://www.garage-pirenne.be/index.php?option=...</td>\n",
       "      <td>defacement</td>\n",
       "    </tr>\n",
       "    <tr>\n",
       "      <th>4</th>\n",
       "      <td>http://adventure-nicaragua.net/index.php?optio...</td>\n",
       "      <td>defacement</td>\n",
       "    </tr>\n",
       "  </tbody>\n",
       "</table>\n",
       "</div>"
      ],
      "text/plain": [
       "                                                 url        type\n",
       "0                                   br-icloud.com.br    phishing\n",
       "1                mp3raid.com/music/krizz_kaliko.html      benign\n",
       "2                    bopsecrets.org/rexroth/cr/1.htm      benign\n",
       "3  http://www.garage-pirenne.be/index.php?option=...  defacement\n",
       "4  http://adventure-nicaragua.net/index.php?optio...  defacement"
      ]
     },
     "execution_count": 120,
     "metadata": {},
     "output_type": "execute_result"
    }
   ],
   "source": [
    "original_df = pd.read_csv(\"malicious_phish.csv\")\n",
    "original_df.head()"
   ]
  },
  {
   "cell_type": "markdown",
   "id": "b42a0f30-0032-4358-80c3-4c0792ede1b8",
   "metadata": {},
   "source": [
    "The class imbalance is shown below, with benign URLs consisting of the majority of the data points. Defacement and malware take second place, and phishing URLs consist of the smallest percentage of URLs."
   ]
  },
  {
   "cell_type": "code",
   "execution_count": 121,
   "id": "d719ca6c-1fc2-4f2d-8d0e-5d578e379924",
   "metadata": {},
   "outputs": [
    {
     "data": {
      "image/png": "[encoded data removed]",
      "text/plain": [
       "<Figure size 640x480 with 1 Axes>"
      ]
     },
     "metadata": {},
     "output_type": "display_data"
    }
   ],
   "source": [
    "plt.bar([\"benign\", \"defacement\", \"malware\", \"phishing\"], [428103, 96547, 94111, 32520])\n",
    "plt.xlabel(\"Class\")\n",
    "plt.ylabel(\"Number\")\n",
    "plt.title(\"Class Distribution\")\n",
    "plt.show()"
   ]
  },
  {
   "cell_type": "code",
   "execution_count": 122,
   "id": "87d4d868-0d74-4258-bd58-9b4065693854",
   "metadata": {},
   "outputs": [],
   "source": [
    "weights = 1.0 / original_df.groupby('type')['type'].transform('count')"
   ]
  },
  {
   "cell_type": "code",
   "execution_count": 123,
   "id": "1051c91e-bbf4-4a70-918c-943611505246",
   "metadata": {},
   "outputs": [
    {
     "data": {
      "text/plain": [
       "0    0.000011\n",
       "1    0.000002\n",
       "2    0.000002\n",
       "3    0.000010\n",
       "4    0.000010\n",
       "Name: type, dtype: float64"
      ]
     },
     "execution_count": 123,
     "metadata": {},
     "output_type": "execute_result"
    }
   ],
   "source": [
    "weights.head()"
   ]
  },
  {
   "cell_type": "markdown",
   "id": "30e5ab89-9c78-4faa-ad39-48d7072d978a",
   "metadata": {},
   "source": [
    "## Sampling the Data"
   ]
  },
  {
   "cell_type": "markdown",
   "id": "8baa110b-cb31-4dbc-8f80-238236a14a0f",
   "metadata": {},
   "source": [
    "I am taking a sample of the data to use in order to reduce computational complexity.\n",
    "\n",
    "There are two methods shown below. The first method uses a percentage, while the other method uses an explicit number of samples.\n",
    "\n",
    "I am also including the `weights` array I declared above to equally sample from all 4 classes."
   ]
  },
  {
   "cell_type": "code",
   "execution_count": 124,
   "id": "f50c6a6a-f6ab-4f95-837f-98d85a18e123",
   "metadata": {},
   "outputs": [],
   "source": [
    "# PERCENTAGE = 0.005\n",
    "# df = original_df.sample(frac=PERCENTAGE, replace=False, random_state=42)"
   ]
  },
  {
   "cell_type": "code",
   "execution_count": 125,
   "id": "c487e1a0-1dbb-4cc6-9272-164d6ca902b6",
   "metadata": {},
   "outputs": [],
   "source": [
    "NUM_SAMPLES = 1000\n",
    "df = original_df.sample(n=NUM_SAMPLES, replace=False, random_state=42, weights=weights)"
   ]
  },
  {
   "cell_type": "code",
   "execution_count": 126,
   "id": "466408ea-ecfe-4c67-97ac-832b222a5e55",
   "metadata": {},
   "outputs": [
    {
     "data": {
      "text/plain": [
       "(1000, 2)"
      ]
     },
     "execution_count": 126,
     "metadata": {},
     "output_type": "execute_result"
    }
   ],
   "source": [
    "df.shape"
   ]
  },
  {
   "cell_type": "markdown",
   "id": "d70276bd-05df-4c9b-b788-f2c4aee79a7b",
   "metadata": {},
   "source": [
    "These cells below show the equalized class distribution. I created a dictionary object to store the counts for each class."
   ]
  },
  {
   "cell_type": "code",
   "execution_count": 127,
   "id": "e4e3da6e-4827-48cd-9ff2-de8160347dd7",
   "metadata": {},
   "outputs": [
    {
     "name": "stdout",
     "output_type": "stream",
     "text": [
      "{'benign': 268, 'defacement': 251, 'phishing': 232, 'malware': 249}\n"
     ]
    }
   ],
   "source": [
    "cnts = {\"benign\": 0, \"defacement\": 0, \"phishing\": 0, \"malware\": 0}\n",
    "for ele in df[\"type\"]:\n",
    "    cnts[ele] += 1\n",
    "print(cnts)"
   ]
  },
  {
   "cell_type": "code",
   "execution_count": 128,
   "id": "1fd51ef9-6f8f-4660-bc50-31d92465ee3e",
   "metadata": {},
   "outputs": [
    {
     "data": {
      "image/png": "[encoded data removed]",
      "text/plain": [
       "<Figure size 640x480 with 1 Axes>"
      ]
     },
     "metadata": {},
     "output_type": "display_data"
    }
   ],
   "source": [
    "plt.bar(cnts.keys(), cnts.values())\n",
    "plt.xlabel(\"Class\")\n",
    "plt.ylabel(\"Number\")\n",
    "plt.title(\"Class Distribution of Sample\")\n",
    "plt.show()"
   ]
  },
  {
   "cell_type": "markdown",
   "id": "c6dc34ed-7ff6-4467-a39a-88774dba6950",
   "metadata": {},
   "source": [
    "## BERT Setup"
   ]
  },
  {
   "cell_type": "markdown",
   "id": "a81fca07-371f-4a98-aaa4-c08412bd7417",
   "metadata": {},
   "source": [
    "I am loading the pre-trained model along with its tokenizer here."
   ]
  },
  {
   "cell_type": "markdown",
   "id": "038fe475-29d0-45fa-8377-fe43206fc87d",
   "metadata": {},
   "source": [
    "BERT (Bi-Directional Pre-Trained Transformer) uses the encoder part of a transformer. This model is pre-trained under the MLM (masked language modeling) task on lots of data from the Internet. Therefore, the model has a good understanding of English grammar."
   ]
  },
  {
   "cell_type": "markdown",
   "id": "a03eff52-716b-47aa-858c-d2bf57b3192a",
   "metadata": {},
   "source": [
    "BERT is not trained in the classification task I want to perform, so I have to perform **fine-tuning** for BERT on a sample of the URL data."
   ]
  },
  {
   "cell_type": "markdown",
   "id": "78f57332-2744-4f10-8a63-d082444876d8",
   "metadata": {},
   "source": [
    "This model does not need a large amount of data to fine-tune."
   ]
  },
  {
   "cell_type": "markdown",
   "id": "182f1d8d-23c1-4713-9378-f8d3b57ff89e",
   "metadata": {},
   "source": [
    "Each model has its own tokenizer because they each accept data in their own specific formats."
   ]
  },
  {
   "cell_type": "markdown",
   "id": "0f8eb249-93e7-451b-800e-7e59c8515cb4",
   "metadata": {},
   "source": [
    "I am running this model on the SJSU HPC (High-Performance Cluster) servers, so I had to download the model from HuggingFace to use locally. "
   ]
  },
  {
   "cell_type": "code",
   "execution_count": 129,
   "id": "07a73c98-8cc9-4286-a1f1-9888dc30a18b",
   "metadata": {},
   "outputs": [],
   "source": [
    "MODEL = \"./bert-base-uncased/\""
   ]
  },
  {
   "cell_type": "code",
   "execution_count": 130,
   "id": "49387c79-923e-4d73-bd17-034e4b893882",
   "metadata": {},
   "outputs": [],
   "source": [
    "tokenizer = AutoTokenizer.from_pretrained(MODEL)"
   ]
  },
  {
   "cell_type": "code",
   "execution_count": 131,
   "id": "72b1a5bc-3939-478f-a271-73e3778827c0",
   "metadata": {},
   "outputs": [
    {
     "name": "stderr",
     "output_type": "stream",
     "text": [
      "Some weights of BertForSequenceClassification were not initialized from the model checkpoint at ./bert-base-uncased/ and are newly initialized: ['classifier.bias', 'classifier.weight']\n",
      "You should probably TRAIN this model on a down-stream task to be able to use it for predictions and inference.\n"
     ]
    }
   ],
   "source": [
    "model = AutoModelForSequenceClassification.from_pretrained(MODEL, num_labels=4)"
   ]
  },
  {
   "cell_type": "markdown",
   "id": "829cbf63-c257-4ee5-b625-8dc008599530",
   "metadata": {},
   "source": [
    "## Loading Dataset"
   ]
  },
  {
   "cell_type": "markdown",
   "id": "1d292824-9268-4124-b704-42b7885a69b0",
   "metadata": {},
   "source": [
    "Currently, the dataset is loaded into a Pandas dataframe. It has to be loaded into a HuggingFace Dataset format in order to be compatible with the HuggingFace model."
   ]
  },
  {
   "cell_type": "code",
   "execution_count": 132,
   "id": "8b0de558-2d02-4117-95ee-a8b007c2a3d5",
   "metadata": {},
   "outputs": [],
   "source": [
    "def convert_to_HF(df):\n",
    "    dataset = Dataset.from_pandas(df)\n",
    "    if \"__index_level_0__\" in list(dataset.features.keys()):\n",
    "        dataset = dataset.remove_columns([\"__index_level_0__\"])\n",
    "    dataset = dataset.class_encode_column(\"type\")\n",
    "    \n",
    "    dataset = dataset.rename_column(\"url\", \"text\")\n",
    "    dataset = dataset.rename_column(\"type\", \"label\")\n",
    "\n",
    "    return dataset"
   ]
  },
  {
   "cell_type": "markdown",
   "id": "a3caef8a-a973-40aa-b509-1084709ae15f",
   "metadata": {},
   "source": [
    "BERT also expects the columns to be named \"text\" and \"label\"."
   ]
  },
  {
   "cell_type": "code",
   "execution_count": 133,
   "id": "09808c59-3678-400f-a787-e781fedf4c68",
   "metadata": {},
   "outputs": [
    {
     "name": "stderr",
     "output_type": "stream",
     "text": [
      "Casting to class labels: 100%|███| 1000/1000 [00:00<00:00, 141108.33 examples/s]\n"
     ]
    }
   ],
   "source": [
    "dataset = convert_to_HF(df)"
   ]
  },
  {
   "cell_type": "markdown",
   "id": "9b1be679-aa3f-479f-8f25-b8bccdd23955",
   "metadata": {},
   "source": [
    "Here I am getting the label names."
   ]
  },
  {
   "cell_type": "code",
   "execution_count": 134,
   "id": "c12c30a9-5007-4002-8e39-b02a321afed5",
   "metadata": {},
   "outputs": [],
   "source": [
    "target_labels = dataset.features[\"label\"].names"
   ]
  },
  {
   "cell_type": "code",
   "execution_count": 135,
   "id": "715a4acb-83ce-485b-a850-088368f839ea",
   "metadata": {},
   "outputs": [
    {
     "data": {
      "text/plain": [
       "['benign', 'defacement', 'malware', 'phishing']"
      ]
     },
     "execution_count": 135,
     "metadata": {},
     "output_type": "execute_result"
    }
   ],
   "source": [
    "target_labels"
   ]
  },
  {
   "cell_type": "code",
   "execution_count": 136,
   "id": "264ad71b-6e70-4b3f-8b8e-d70f658e242a",
   "metadata": {},
   "outputs": [
    {
     "data": {
      "text/plain": [
       "Dataset({\n",
       "    features: ['text', 'label'],\n",
       "    num_rows: 1000\n",
       "})"
      ]
     },
     "execution_count": 136,
     "metadata": {},
     "output_type": "execute_result"
    }
   ],
   "source": [
    "dataset"
   ]
  },
  {
   "cell_type": "markdown",
   "id": "3ca6c91d-52af-4295-ab41-92c86f4876c5",
   "metadata": {},
   "source": [
    "## BERT Tokenization"
   ]
  },
  {
   "cell_type": "markdown",
   "id": "a408f14b-3d2e-4785-9a35-998417a88228",
   "metadata": {},
   "source": [
    "The URLs need to be converted into numbers, so I use the BERT tokenizer here to convert the inputs into a format that BERT can recognize."
   ]
  },
  {
   "cell_type": "markdown",
   "id": "a73c9f71-5e60-4285-ad48-fa09dbe5d1c2",
   "metadata": {},
   "source": [
    "BERT uses a WordPiece tokenizer [4]. It uses the following formula to figure out what tokens pairs to merge together [4]:\n",
    "$$\n",
    "\\text{score} = \\frac{\\text{freq\\_of\\_pair}}{\\text{freq\\_of\\_first\\_element} \\times \\text{freq\\_of\\_second\\_element}}\n",
    "$$"
   ]
  },
  {
   "cell_type": "markdown",
   "id": "b3ff0522-ee62-4147-8d03-d0c548960250",
   "metadata": {},
   "source": [
    "It creates a library of tokens so that it can generalize to unseen words [4]."
   ]
  },
  {
   "cell_type": "markdown",
   "id": "5cb1d029-97b1-4a34-bcdf-d336fc6e0dc9",
   "metadata": {},
   "source": [
    "The formula above differentiates it from a more classic tokenization algorithm called BPE (byte-pair encoding), which only looks at the frequencies of token pairs [4]."
   ]
  },
  {
   "cell_type": "code",
   "execution_count": 137,
   "id": "1ac6abae-8203-40ea-8779-fcdcbc8ed86f",
   "metadata": {},
   "outputs": [],
   "source": [
    "def tokenize(data):\n",
    "    return tokenizer(data[\"text\"], padding=\"max_length\", return_tensors=\"pt\")"
   ]
  },
  {
   "cell_type": "code",
   "execution_count": 138,
   "id": "966ed298-fab0-4238-80c3-be4b672e4155",
   "metadata": {},
   "outputs": [
    {
     "name": "stderr",
     "output_type": "stream",
     "text": [
      "Map: 100%|█████████████████████████| 1000/1000 [00:00<00:00, 2729.71 examples/s]\n"
     ]
    }
   ],
   "source": [
    "tokenized_dataset = dataset.map(tokenize, batched=True)"
   ]
  },
  {
   "cell_type": "code",
   "execution_count": 139,
   "id": "e87c8282-2010-4309-89c8-cd8d88a951e8",
   "metadata": {},
   "outputs": [
    {
     "data": {
      "text/plain": [
       "Dataset({\n",
       "    features: ['text', 'label', 'input_ids', 'token_type_ids', 'attention_mask'],\n",
       "    num_rows: 1000\n",
       "})"
      ]
     },
     "execution_count": 139,
     "metadata": {},
     "output_type": "execute_result"
    }
   ],
   "source": [
    "tokenized_dataset"
   ]
  },
  {
   "cell_type": "markdown",
   "id": "76c9a1f4-f09e-4ac1-a6eb-e571ac12e4ea",
   "metadata": {},
   "source": [
    "## Dataset Split"
   ]
  },
  {
   "cell_type": "markdown",
   "id": "5fe8749a-9932-4b57-8edb-49d51a7274c0",
   "metadata": {},
   "source": [
    "I am splitting the dataset here into **train**, **validation**, and **test** sets."
   ]
  },
  {
   "cell_type": "code",
   "execution_count": 140,
   "id": "fbac6dfe-b3d8-4668-a3fd-5819eb6d2b17",
   "metadata": {},
   "outputs": [],
   "source": [
    "split_dataset = tokenized_dataset.train_test_split(test_size=0.1)"
   ]
  },
  {
   "cell_type": "code",
   "execution_count": 141,
   "id": "22384036-3822-43f5-84cf-d259e80b0267",
   "metadata": {},
   "outputs": [
    {
     "data": {
      "text/plain": [
       "DatasetDict({\n",
       "    train: Dataset({\n",
       "        features: ['text', 'label', 'input_ids', 'token_type_ids', 'attention_mask'],\n",
       "        num_rows: 900\n",
       "    })\n",
       "    test: Dataset({\n",
       "        features: ['text', 'label', 'input_ids', 'token_type_ids', 'attention_mask'],\n",
       "        num_rows: 100\n",
       "    })\n",
       "})"
      ]
     },
     "execution_count": 141,
     "metadata": {},
     "output_type": "execute_result"
    }
   ],
   "source": [
    "split_dataset"
   ]
  },
  {
   "cell_type": "code",
   "execution_count": 142,
   "id": "e31e8da6-7a29-4c00-b82d-7e0e68414fed",
   "metadata": {},
   "outputs": [],
   "source": [
    "train_eval_dataset = split_dataset[\"train\"]"
   ]
  },
  {
   "cell_type": "code",
   "execution_count": 143,
   "id": "b9237cba-2cb1-4b54-8264-88a3b4aedc79",
   "metadata": {},
   "outputs": [],
   "source": [
    "train_eval_split_dataset = train_eval_dataset.train_test_split(test_size=0.1)"
   ]
  },
  {
   "cell_type": "markdown",
   "id": "0a3e8783-3210-46a1-9cf5-afbeca45dbd8",
   "metadata": {},
   "source": [
    "Below are the three variables holding the data splits."
   ]
  },
  {
   "cell_type": "code",
   "execution_count": 144,
   "id": "181f28f7-22cc-46de-8be3-5d9961070507",
   "metadata": {},
   "outputs": [],
   "source": [
    "train_dataset = train_eval_split_dataset[\"train\"]"
   ]
  },
  {
   "cell_type": "code",
   "execution_count": 145,
   "id": "a85d2ddb-c729-4d1a-8697-486b36f00dd0",
   "metadata": {},
   "outputs": [],
   "source": [
    "eval_dataset = train_eval_split_dataset[\"test\"]"
   ]
  },
  {
   "cell_type": "code",
   "execution_count": 146,
   "id": "ef1e246e-bfbe-445d-917c-61a52ace74d3",
   "metadata": {},
   "outputs": [],
   "source": [
    "test_dataset = split_dataset[\"test\"]"
   ]
  },
  {
   "cell_type": "markdown",
   "id": "dfbba604-57a5-49eb-b74c-b2d2e2f1646b",
   "metadata": {},
   "source": [
    "Here you can see the number of data points for each data split."
   ]
  },
  {
   "cell_type": "code",
   "execution_count": 147,
   "id": "2181b3ed-e0a4-4498-ab75-74dac567ce1a",
   "metadata": {},
   "outputs": [
    {
     "data": {
      "text/plain": [
       "(Dataset({\n",
       "     features: ['text', 'label', 'input_ids', 'token_type_ids', 'attention_mask'],\n",
       "     num_rows: 810\n",
       " }),\n",
       " Dataset({\n",
       "     features: ['text', 'label', 'input_ids', 'token_type_ids', 'attention_mask'],\n",
       "     num_rows: 90\n",
       " }),\n",
       " Dataset({\n",
       "     features: ['text', 'label', 'input_ids', 'token_type_ids', 'attention_mask'],\n",
       "     num_rows: 100\n",
       " }))"
      ]
     },
     "execution_count": 147,
     "metadata": {},
     "output_type": "execute_result"
    }
   ],
   "source": [
    "train_dataset, eval_dataset, test_dataset"
   ]
  },
  {
   "cell_type": "markdown",
   "id": "cac1bafc-04a0-4478-96af-4fe1dd79c183",
   "metadata": {},
   "source": [
    "## BERT Fine-Tuning"
   ]
  },
  {
   "cell_type": "markdown",
   "id": "597ec4dd-22f1-43fc-a037-cd7692a7dfb0",
   "metadata": {},
   "source": [
    "This object specifies the training configuration arguments."
   ]
  },
  {
   "cell_type": "markdown",
   "id": "1dc299ad",
   "metadata": {},
   "source": [
    "The `output_dir` parameter specifies the directory where the model checkpoints will be stored. Model checkpoints store the model weights at predefined increments. \n",
    "\n",
    "The `num_train_epochs` parameter specifies the number of epochs that the model will train for. Each epoch goes through all of the batches of training data.\n",
    "\n",
    "The `learning_rate` parameter controls how fast or how slow the model will learn. A higher learning rate will cause the model to converge faster, but a slower learning rate will slow down the model learning and lessen overfitting.\n",
    "\n",
    "The `per_device_train_batch_size` parameter controls how large each batch of data is. "
   ]
  },
  {
   "cell_type": "code",
   "execution_count": 148,
   "id": "bf7016f7-1629-4cc2-b2d1-72d58b786792",
   "metadata": {
    "scrolled": true
   },
   "outputs": [],
   "source": [
    "training_args = TrainingArguments(output_dir=\"results\", \n",
    "                                  num_train_epochs=5,\n",
    "                                  logging_steps=1,\n",
    "                                  learning_rate=5e-5,\n",
    "                                  per_device_train_batch_size=8,\n",
    "                                  weight_decay=0,\n",
    "                                  evaluation_strategy=\"epoch\")"
   ]
  },
  {
   "cell_type": "markdown",
   "id": "5609bb71-b194-4b0a-98a4-3d1f0e89216f",
   "metadata": {},
   "source": [
    "I am using cross-entropy loss here because this is a multi-class classification problem"
   ]
  },
  {
   "cell_type": "code",
   "execution_count": 149,
   "id": "4c7a02a8-cd93-4521-8f37-b3bd6d1ff52d",
   "metadata": {},
   "outputs": [],
   "source": [
    "def compute_metrics(eval_pred):\n",
    "    logits, labels = eval_pred\n",
    "    sum = 0\n",
    "    for i in range(len(labels)):\n",
    "        raw_logits = logits[i]\n",
    "        \n",
    "        exp_logits = np.exp(raw_logits)\n",
    "        norm_logits = exp_logits / np.sum(exp_logits, axis=0)\n",
    "        chosen_value = norm_logits[labels[i]]\n",
    "        \n",
    "        sum += np.log(chosen_value)\n",
    "    sum /= -len(labels)\n",
    "    return {\"cross_entropy\": sum}"
   ]
  },
  {
   "cell_type": "code",
   "execution_count": 150,
   "id": "c2c9867d-a1db-432e-afb7-f17b74887c6f",
   "metadata": {},
   "outputs": [
    {
     "name": "stderr",
     "output_type": "stream",
     "text": [
      "/home/012392471/miniconda3/envs/security/lib/python3.12/site-packages/accelerate/accelerator.py:436: FutureWarning: Passing the following arguments to `Accelerator` is deprecated and will be removed in version 1.0 of Accelerate: dict_keys(['dispatch_batches', 'split_batches', 'even_batches', 'use_seedable_sampler']). Please pass an `accelerate.DataLoaderConfiguration` instead: \n",
      "dataloader_config = DataLoaderConfiguration(dispatch_batches=None, split_batches=False, even_batches=True, use_seedable_sampler=True)\n",
      "  warnings.warn(\n",
      "Detected kernel version 3.10.0, which is below the recommended minimum of 5.5.0; this can cause the process to hang. It is recommended to upgrade the kernel to the minimum version or higher.\n"
     ]
    }
   ],
   "source": [
    "trainer = Trainer(\n",
    "    model=model,\n",
    "    args=training_args,\n",
    "    train_dataset=train_dataset,\n",
    "    eval_dataset=eval_dataset,\n",
    "    compute_metrics=compute_metrics,\n",
    ")"
   ]
  },
  {
   "cell_type": "code",
   "execution_count": 151,
   "id": "73077b72-efc9-44f1-98c2-61e6dc0d9c0b",
   "metadata": {},
   "outputs": [
    {
     "data": {
      "text/html": [
       "\n",
       "    <div>\n",
       "      \n",
       "      <progress value='510' max='510' style='width:300px; height:20px; vertical-align: middle;'></progress>\n",
       "      [510/510 04:12, Epoch 5/5]\n",
       "    </div>\n",
       "    <table border=\"1\" class=\"dataframe\">\n",
       "  <thead>\n",
       " <tr style=\"text-align: left;\">\n",
       "      <th>Epoch</th>\n",
       "      <th>Training Loss</th>\n",
       "      <th>Validation Loss</th>\n",
       "      <th>Cross Entropy</th>\n",
       "    </tr>\n",
       "  </thead>\n",
       "  <tbody>\n",
       "    <tr>\n",
       "      <td>1</td>\n",
       "      <td>0.062000</td>\n",
       "      <td>0.531213</td>\n",
       "      <td>0.531213</td>\n",
       "    </tr>\n",
       "    <tr>\n",
       "      <td>2</td>\n",
       "      <td>0.043900</td>\n",
       "      <td>0.506172</td>\n",
       "      <td>0.506172</td>\n",
       "    </tr>\n",
       "    <tr>\n",
       "      <td>3</td>\n",
       "      <td>0.027400</td>\n",
       "      <td>0.545509</td>\n",
       "      <td>0.545509</td>\n",
       "    </tr>\n",
       "    <tr>\n",
       "      <td>4</td>\n",
       "      <td>0.004600</td>\n",
       "      <td>0.499624</td>\n",
       "      <td>0.499624</td>\n",
       "    </tr>\n",
       "    <tr>\n",
       "      <td>5</td>\n",
       "      <td>0.003500</td>\n",
       "      <td>0.452084</td>\n",
       "      <td>0.452085</td>\n",
       "    </tr>\n",
       "  </tbody>\n",
       "</table><p>"
      ],
      "text/plain": [
       "<IPython.core.display.HTML object>"
      ]
     },
     "metadata": {},
     "output_type": "display_data"
    },
    {
     "data": {
      "text/plain": [
       "TrainOutput(global_step=510, training_loss=0.3429821028465442, metrics={'train_runtime': 253.2266, 'train_samples_per_second': 15.994, 'train_steps_per_second': 2.014, 'total_flos': 1065618909388800.0, 'train_loss': 0.3429821028465442, 'epoch': 5.0})"
      ]
     },
     "execution_count": 151,
     "metadata": {},
     "output_type": "execute_result"
    }
   ],
   "source": [
    "trainer.train()"
   ]
  },
  {
   "cell_type": "markdown",
   "id": "8c1eaa67-862f-4fd1-9c91-56bcce5390ec",
   "metadata": {},
   "source": [
    "## Predictions"
   ]
  },
  {
   "cell_type": "markdown",
   "id": "594b1f19-4685-485b-ac25-91398dad2072",
   "metadata": {},
   "source": [
    "Now we perform prediction on the test dataset we put aside."
   ]
  },
  {
   "cell_type": "code",
   "execution_count": 152,
   "id": "7e3011b8-f719-4006-9736-545e914c9cef",
   "metadata": {},
   "outputs": [
    {
     "data": {
      "text/html": [],
      "text/plain": [
       "<IPython.core.display.HTML object>"
      ]
     },
     "metadata": {},
     "output_type": "display_data"
    }
   ],
   "source": [
    "predictions = trainer.predict(test_dataset)\n",
    "predicted_labels = np.argmax(predictions.predictions, axis=-1)"
   ]
  },
  {
   "cell_type": "code",
   "execution_count": 153,
   "id": "4961d784-55f5-400a-a74e-48137d13a8a8",
   "metadata": {},
   "outputs": [],
   "source": [
    "true_labels = test_dataset[\"label\"]"
   ]
  },
  {
   "cell_type": "code",
   "execution_count": 154,
   "id": "0461980c-f5ce-4344-a276-8e820c921359",
   "metadata": {},
   "outputs": [],
   "source": [
    "conf_mat = confusion_matrix(true_labels, predicted_labels, labels=np.arange(4))"
   ]
  },
  {
   "cell_type": "markdown",
   "id": "e59c9da0-dd8c-460d-9a1d-8322740ba944",
   "metadata": {},
   "source": [
    "It is important to see how the model performs across the different classes. A single accuracy value averaged across all of the classes provides an insufficient evaluation of the model's performance. As mentioned earlier, there is a class imbalance. If the model boasts an accuracy of 90%, it does not provide information on the under-represented classes. Therefore, it is vital to look at the precision, recall, and F-1 score for each class. These metrics are detailed in the classification report below."
   ]
  },
  {
   "cell_type": "code",
   "execution_count": 155,
   "id": "2a8f295b-090d-4886-895a-37329c0a4d08",
   "metadata": {},
   "outputs": [
    {
     "data": {
      "image/png": "[encoded data removed]",
      "text/plain": [
       "<Figure size 700x400 with 2 Axes>"
      ]
     },
     "metadata": {},
     "output_type": "display_data"
    }
   ],
   "source": [
    "plt.figure(figsize=(7, 4))\n",
    "sns.heatmap(conf_mat, annot=True, fmt=\"d\", cmap=\"Blues\", xticklabels=target_labels, yticklabels=target_labels)\n",
    "plt.xlabel('Predicted Labels')\n",
    "plt.ylabel('True Labels')\n",
    "plt.title('Confusion Matrix')\n",
    "plt.show()"
   ]
  },
  {
   "cell_type": "code",
   "execution_count": 156,
   "id": "ba2e79bb-843a-4100-abc0-126a8c7d3cb0",
   "metadata": {},
   "outputs": [
    {
     "name": "stdout",
     "output_type": "stream",
     "text": [
      "              precision    recall  f1-score   support\n",
      "\n",
      "      benign       0.94      0.81      0.87        21\n",
      "  defacement       0.97      0.94      0.96        35\n",
      "     malware       0.94      0.79      0.86        19\n",
      "    phishing       0.75      0.96      0.84        25\n",
      "\n",
      "    accuracy                           0.89       100\n",
      "   macro avg       0.90      0.88      0.88       100\n",
      "weighted avg       0.90      0.89      0.89       100\n",
      "\n"
     ]
    }
   ],
   "source": [
    "report = classification_report(true_labels, predicted_labels, labels=np.arange(4), target_names=target_labels, output_dict=False)\n",
    "print(report)"
   ]
  },
  {
   "cell_type": "markdown",
   "id": "55cb8213-be37-43e7-9663-01b1fd5b228e",
   "metadata": {},
   "source": [
    "## More Testing"
   ]
  },
  {
   "cell_type": "code",
   "execution_count": 157,
   "id": "75d8c85d-cbf7-4429-a0e4-79f743c6fcf6",
   "metadata": {},
   "outputs": [],
   "source": [
    "# test_data = Dataset.from_dict({ \"text\": [\"https://uspz.usspapf.top\"], \"label\": [\"phishing\"] })\n",
    "# tokenized_test_data = test_data.map(tokenize, batched=True)\n",
    "# tokenized_test_data"
   ]
  },
  {
   "cell_type": "code",
   "execution_count": 158,
   "id": "ece43e2e-1019-4081-9e5b-b75b7b1fe3f7",
   "metadata": {
    "scrolled": true
   },
   "outputs": [],
   "source": [
    "# trainer.predict(tokenized_test_data)"
   ]
  },
  {
   "cell_type": "markdown",
   "id": "2873a4de-a98c-4f04-be43-2ac8240911fc",
   "metadata": {},
   "source": [
    "# Conclusion\n",
    "\n",
    "BERT takes more computational power but can learn better with less samples. It removes the overhead of manually creating tokens or hand-engineered features. The main advantage to this method is the ability to generalize. However, it misses out on additional info, such as DNS/host information or webpage content.\n",
    "\n",
    "A learning rate of 1e-5 has proven to be the sweet spot for this model to learn. A batch size of 4 or 16 either overfits or underfits.\n",
    "\n",
    "For future work, I hope to try out different BERT models from HuggingFace  to try to improve performance.\n"
   ]
  },
  {
   "cell_type": "markdown",
   "id": "d0df913d-4f80-4fa9-bcbf-a63be30b9830",
   "metadata": {},
   "source": [
    "# References\n",
    "\n",
    "[1] https://www.kaggle.com/datasets/sid321axn/malicious-urls-dataset\n",
    "\n",
    "[2] https://www.unb.ca/cic/datasets/url-2016.html\n",
    "\n",
    "[3] https://stackoverflow.com/questions/55042334/pandas-sample-with-weights \n",
    "\n",
    "[4] https://huggingface.co/learn/nlp-course/en/chapter6/6"
   ]
  },
  {
   "cell_type": "code",
   "execution_count": null,
   "id": "f59fcf7f-a1c9-437c-bb82-fb779e011cee",
   "metadata": {},
   "outputs": [],
   "source": []
  }
 ],
 "metadata": {
  "kernelspec": {
   "display_name": "security",
   "language": "python",
   "name": "security"
  },
  "language_info": {
   "codemirror_mode": {
    "name": "ipython",
    "version": 3
   },
   "file_extension": ".py",
   "mimetype": "text/x-python",
   "name": "python",
   "nbconvert_exporter": "python",
   "pygments_lexer": "ipython3",
   "version": "3.12.3"
  }
 },
 "nbformat": 4,
 "nbformat_minor": 5
}
