{
 "cells": [
  {
   "cell_type": "markdown",
   "id": "0fd15bd3-4fd8-4df6-b39e-e9172d557ba4",
   "metadata": {},
   "source": [
    "## Setup"
   ]
  },
  {
   "cell_type": "code",
   "execution_count": 6,
   "id": "be91922e-d159-4b14-9b3d-152024c8c2ca",
   "metadata": {},
   "outputs": [],
   "source": [
    "import math\n",
    "\n",
    "import numpy as np\n",
    "import pandas as pd\n",
    "import torch\n",
    "\n",
    "from sklearn.metrics import confusion_matrix, classification_report\n",
    "import matplotlib.pyplot as plt\n",
    "import seaborn as sns\n",
    "\n",
    "from transformers import AutoTokenizer, AutoModelForSequenceClassification, TrainingArguments, Trainer\n",
    "from datasets import Dataset"
   ]
  },
  {
   "cell_type": "markdown",
   "id": "98b73678-f964-44f4-aaa3-4041f87afcf7",
   "metadata": {},
   "source": [
    "## Class"
   ]
  },
  {
   "cell_type": "code",
   "execution_count": 46,
   "id": "1290d25c-2a94-42ec-99d0-b0aa4337ea59",
   "metadata": {},
   "outputs": [],
   "source": [
    "class BERTClass():\n",
    "\n",
    "    def __init__(self, original_df, num_samples, model_path):\n",
    "        self.tokenizer = AutoTokenizer.from_pretrained(model_path)\n",
    "        self.model = AutoModelForSequenceClassification.from_pretrained(model_path, num_labels=4)\n",
    "        \n",
    "        self.original_df = original_df\n",
    "        self.num_samples = num_samples\n",
    "        \n",
    "        self.dataset = self.preprocess()\n",
    "        \n",
    "        train_dataset, eval_dataset, test_dataset = self.split_data()\n",
    "\n",
    "        self.train_dataset = train_dataset\n",
    "        self.eval_dataset = eval_dataset\n",
    "        self.test_dataset = test_dataset\n",
    "\n",
    "    # helper function\n",
    "    def convert_to_HF(self, df):\n",
    "        dataset = Dataset.from_pandas(df)\n",
    "        if \"__index_level_0__\" in list(dataset.features.keys()):\n",
    "            dataset = dataset.remove_columns([\"__index_level_0__\"])\n",
    "        dataset = dataset.class_encode_column(\"type\")\n",
    "        \n",
    "        dataset = dataset.rename_column(\"url\", \"text\")\n",
    "        dataset = dataset.rename_column(\"type\", \"label\")\n",
    "    \n",
    "        return dataset\n",
    "\n",
    "    # helper function\n",
    "    def tokenize(self, data):\n",
    "        return self.tokenizer(data[\"text\"], padding=\"max_length\", return_tensors=\"pt\")\n",
    "    \n",
    "    def preprocess(self): \n",
    "        weights = 1.0 / self.original_df.groupby('type')['type'].transform('count')\n",
    "        \n",
    "        df = original_df.sample(n=self.num_samples, replace=False, random_state=42, weights=weights)\n",
    "\n",
    "        dataset = self.convert_to_HF(df)\n",
    "        \n",
    "        tokenized_dataset = dataset.map(self.tokenize, batched=True)\n",
    "\n",
    "        self.target_labels = dataset.features[\"label\"].names\n",
    "\n",
    "        return tokenized_dataset\n",
    "\n",
    "    # helper function\n",
    "    def split_data(self):\n",
    "        split_dataset = self.dataset.train_test_split(test_size=0.1)\n",
    "        \n",
    "        train_eval_dataset = split_dataset[\"train\"]\n",
    "        \n",
    "        train_eval_split_dataset = train_eval_dataset.train_test_split(test_size=0.1)\n",
    "\n",
    "        train_dataset = train_eval_split_dataset[\"train\"]\n",
    "    \n",
    "        eval_dataset = train_eval_split_dataset[\"test\"]\n",
    "\n",
    "        test_dataset = split_dataset[\"train\"]\n",
    "\n",
    "        return (train_dataset, eval_dataset, test_dataset)\n",
    "\n",
    "    # helper function\n",
    "    def compute_metrics(self, eval_pred):\n",
    "        logits, labels = eval_pred\n",
    "        sum = 0\n",
    "        for i in range(len(labels)):\n",
    "            raw_logits = logits[i]\n",
    "            \n",
    "            exp_logits = np.exp(raw_logits)\n",
    "            norm_logits = exp_logits / np.sum(exp_logits, axis=0)\n",
    "            chosen_value = norm_logits[labels[i]]\n",
    "            \n",
    "            sum += np.log(chosen_value)\n",
    "        sum /= -len(labels)\n",
    "        return {\"cross_entropy\": sum}\n",
    "    \n",
    "    def train(self, num_train_epochs, logging_steps, learning_rate, per_device_train_batch_size, weight_decay):\n",
    "        training_args = TrainingArguments(output_dir=\"results\", \n",
    "                                          num_train_epochs=num_train_epochs,\n",
    "                                          logging_steps=logging_steps,\n",
    "                                          learning_rate=learning_rate,\n",
    "                                          per_device_train_batch_size=per_device_train_batch_size,\n",
    "                                          weight_decay=weight_decay,\n",
    "                                          evaluation_strategy=\"epoch\"\n",
    "                                         )\n",
    "\n",
    "        self.trainer = Trainer(model=self.model,\n",
    "                          args=training_args,\n",
    "                          train_dataset=self.train_dataset,\n",
    "                          eval_dataset=self.eval_dataset,\n",
    "                          compute_metrics=self.compute_metrics,\n",
    "                        )\n",
    "\n",
    "        self.trainer.train()\n",
    "\n",
    "    def evaluate(self):\n",
    "        predictions = self.trainer.predict(self.test_dataset)\n",
    "        predicted_labels = np.argmax(predictions.predictions, axis=-1)\n",
    "        true_labels = self.test_dataset[\"label\"]\n",
    "        \n",
    "        conf_mat = confusion_matrix(true_labels, predicted_labels, labels=np.arange(4))\n",
    "        \n",
    "        plt.figure(figsize=(7, 4))\n",
    "        sns.heatmap(conf_mat, annot=True, fmt=\"d\", cmap=\"Blues\", xticklabels=self.target_labels, yticklabels=self.target_labels)\n",
    "        plt.xlabel('Predicted Labels')\n",
    "        plt.ylabel('True Labels')\n",
    "        plt.title('Confusion Matrix')\n",
    "        plt.show()\n",
    "\n",
    "        report = classification_report(true_labels, predicted_labels, labels=np.arange(4), target_names=self.target_labels, output_dict=False)\n",
    "        print(report)"
   ]
  },
  {
   "cell_type": "markdown",
   "id": "9598d97e-e014-4ab2-a183-ffbe13b46a84",
   "metadata": {},
   "source": [
    "## Load in the Data"
   ]
  },
  {
   "cell_type": "code",
   "execution_count": 47,
   "id": "f59fcf7f-a1c9-437c-bb82-fb779e011cee",
   "metadata": {},
   "outputs": [
    {
     "data": {
      "text/html": [
       "<div>\n",
       "<style scoped>\n",
       "    .dataframe tbody tr th:only-of-type {\n",
       "        vertical-align: middle;\n",
       "    }\n",
       "\n",
       "    .dataframe tbody tr th {\n",
       "        vertical-align: top;\n",
       "    }\n",
       "\n",
       "    .dataframe thead th {\n",
       "        text-align: right;\n",
       "    }\n",
       "</style>\n",
       "<table border=\"1\" class=\"dataframe\">\n",
       "  <thead>\n",
       "    <tr style=\"text-align: right;\">\n",
       "      <th></th>\n",
       "      <th>url</th>\n",
       "      <th>type</th>\n",
       "    </tr>\n",
       "  </thead>\n",
       "  <tbody>\n",
       "    <tr>\n",
       "      <th>0</th>\n",
       "      <td>br-icloud.com.br</td>\n",
       "      <td>phishing</td>\n",
       "    </tr>\n",
       "    <tr>\n",
       "      <th>1</th>\n",
       "      <td>mp3raid.com/music/krizz_kaliko.html</td>\n",
       "      <td>benign</td>\n",
       "    </tr>\n",
       "    <tr>\n",
       "      <th>2</th>\n",
       "      <td>bopsecrets.org/rexroth/cr/1.htm</td>\n",
       "      <td>benign</td>\n",
       "    </tr>\n",
       "    <tr>\n",
       "      <th>3</th>\n",
       "      <td>http://www.garage-pirenne.be/index.php?option=...</td>\n",
       "      <td>defacement</td>\n",
       "    </tr>\n",
       "    <tr>\n",
       "      <th>4</th>\n",
       "      <td>http://adventure-nicaragua.net/index.php?optio...</td>\n",
       "      <td>defacement</td>\n",
       "    </tr>\n",
       "  </tbody>\n",
       "</table>\n",
       "</div>"
      ],
      "text/plain": [
       "                                                 url        type\n",
       "0                                   br-icloud.com.br    phishing\n",
       "1                mp3raid.com/music/krizz_kaliko.html      benign\n",
       "2                    bopsecrets.org/rexroth/cr/1.htm      benign\n",
       "3  http://www.garage-pirenne.be/index.php?option=...  defacement\n",
       "4  http://adventure-nicaragua.net/index.php?optio...  defacement"
      ]
     },
     "execution_count": 47,
     "metadata": {},
     "output_type": "execute_result"
    }
   ],
   "source": [
    "original_df = pd.read_csv(\"malicious_phish.csv\")\n",
    "original_df.head()"
   ]
  },
  {
   "cell_type": "code",
   "execution_count": 48,
   "id": "7fd6bb15-519a-4e8f-a0e3-9886e852f237",
   "metadata": {},
   "outputs": [
    {
     "name": "stderr",
     "output_type": "stream",
     "text": [
      "Some weights of BertForSequenceClassification were not initialized from the model checkpoint at ./bert-base-uncased/ and are newly initialized: ['classifier.bias', 'classifier.weight']\n",
      "You should probably TRAIN this model on a down-stream task to be able to use it for predictions and inference.\n",
      "Casting to class labels: 100%|███| 1000/1000 [00:00<00:00, 219206.86 examples/s]\n",
      "Map: 100%|█████████████████████████| 1000/1000 [00:00<00:00, 3218.83 examples/s]\n"
     ]
    }
   ],
   "source": [
    "bert = BERTClass(original_df, 1000, \"./bert-base-uncased/\")"
   ]
  },
  {
   "cell_type": "code",
   "execution_count": 49,
   "id": "12a3ad68-cd50-44d0-a472-eb9fb79d43ed",
   "metadata": {},
   "outputs": [
    {
     "name": "stderr",
     "output_type": "stream",
     "text": [
      "/home/012392471/miniconda3/envs/security/lib/python3.12/site-packages/accelerate/accelerator.py:436: FutureWarning: Passing the following arguments to `Accelerator` is deprecated and will be removed in version 1.0 of Accelerate: dict_keys(['dispatch_batches', 'split_batches', 'even_batches', 'use_seedable_sampler']). Please pass an `accelerate.DataLoaderConfiguration` instead: \n",
      "dataloader_config = DataLoaderConfiguration(dispatch_batches=None, split_batches=False, even_batches=True, use_seedable_sampler=True)\n",
      "  warnings.warn(\n",
      "Detected kernel version 3.10.0, which is below the recommended minimum of 5.5.0; this can cause the process to hang. It is recommended to upgrade the kernel to the minimum version or higher.\n"
     ]
    },
    {
     "data": {
      "text/html": [
       "\n",
       "    <div>\n",
       "      \n",
       "      <progress value='510' max='510' style='width:300px; height:20px; vertical-align: middle;'></progress>\n",
       "      [510/510 04:13, Epoch 5/5]\n",
       "    </div>\n",
       "    <table border=\"1\" class=\"dataframe\">\n",
       "  <thead>\n",
       " <tr style=\"text-align: left;\">\n",
       "      <th>Epoch</th>\n",
       "      <th>Training Loss</th>\n",
       "      <th>Validation Loss</th>\n",
       "      <th>Cross Entropy</th>\n",
       "    </tr>\n",
       "  </thead>\n",
       "  <tbody>\n",
       "    <tr>\n",
       "      <td>1</td>\n",
       "      <td>0.089300</td>\n",
       "      <td>0.495503</td>\n",
       "      <td>0.495504</td>\n",
       "    </tr>\n",
       "    <tr>\n",
       "      <td>2</td>\n",
       "      <td>0.036800</td>\n",
       "      <td>0.442410</td>\n",
       "      <td>0.442410</td>\n",
       "    </tr>\n",
       "    <tr>\n",
       "      <td>3</td>\n",
       "      <td>0.008200</td>\n",
       "      <td>0.500684</td>\n",
       "      <td>0.500684</td>\n",
       "    </tr>\n",
       "    <tr>\n",
       "      <td>4</td>\n",
       "      <td>0.004100</td>\n",
       "      <td>0.374969</td>\n",
       "      <td>0.374969</td>\n",
       "    </tr>\n",
       "    <tr>\n",
       "      <td>5</td>\n",
       "      <td>0.003200</td>\n",
       "      <td>0.481913</td>\n",
       "      <td>0.481913</td>\n",
       "    </tr>\n",
       "  </tbody>\n",
       "</table><p>"
      ],
      "text/plain": [
       "<IPython.core.display.HTML object>"
      ]
     },
     "metadata": {},
     "output_type": "display_data"
    }
   ],
   "source": [
    "bert.train(num_train_epochs=5,\n",
    "          logging_steps=1,\n",
    "          learning_rate=5e-5,\n",
    "          per_device_train_batch_size=8,\n",
    "          weight_decay=0\n",
    "          )"
   ]
  },
  {
   "cell_type": "code",
   "execution_count": 50,
   "id": "32e21c85-a3c8-4e07-99c5-a8951db50dad",
   "metadata": {},
   "outputs": [
    {
     "data": {
      "text/html": [],
      "text/plain": [
       "<IPython.core.display.HTML object>"
      ]
     },
     "metadata": {},
     "output_type": "display_data"
    },
    {
     "data": {
      "image/png": "[encoded data removed]",
      "text/plain": [
       "<Figure size 700x400 with 2 Axes>"
      ]
     },
     "metadata": {},
     "output_type": "display_data"
    },
    {
     "name": "stdout",
     "output_type": "stream",
     "text": [
      "              precision    recall  f1-score   support\n",
      "\n",
      "      benign       0.99      0.99      0.99       247\n",
      "  defacement       0.99      1.00      0.99       216\n",
      "     malware       0.99      0.97      0.98       230\n",
      "    phishing       0.97      0.99      0.98       207\n",
      "\n",
      "    accuracy                           0.98       900\n",
      "   macro avg       0.98      0.98      0.98       900\n",
      "weighted avg       0.98      0.98      0.98       900\n",
      "\n"
     ]
    }
   ],
   "source": [
    "bert.evaluate()"
   ]
  },
  {
   "cell_type": "code",
   "execution_count": null,
   "id": "0b0f7f02-9601-474e-85bd-d1e5df7f809b",
   "metadata": {},
   "outputs": [],
   "source": []
  }
 ],
 "metadata": {
  "kernelspec": {
   "display_name": "security",
   "language": "python",
   "name": "security"
  },
  "language_info": {
   "codemirror_mode": {
    "name": "ipython",
    "version": 3
   },
   "file_extension": ".py",
   "mimetype": "text/x-python",
   "name": "python",
   "nbconvert_exporter": "python",
   "pygments_lexer": "ipython3",
   "version": "3.12.3"
  }
 },
 "nbformat": 4,
 "nbformat_minor": 5
}
